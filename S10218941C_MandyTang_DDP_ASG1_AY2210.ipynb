{
 "cells": [
  {
   "cell_type": "markdown",
   "metadata": {},
   "source": [
    "<table class=\"table table-bordered\">\n",
    "    <tr>\n",
    "        <th style=\"width:250px\"><img src='https://www.np.edu.sg/images/default-source/default-album/img-logo.png?sfvrsn=764583a6_0' style=\"width: 100%; height: 125px; \"></th>\n",
    "        <th style=\"text-align:center;\"><h1>Distributed Data Pipelines</h1><h2>Assignment 1 </h2><h3>Diploma in Data Science</h3></th>\n",
    "    </tr>\n",
    "</table>"
   ]
  },
  {
   "cell_type": "markdown",
   "metadata": {},
   "source": [
    "Learning Objectives:\n",
    "- Design PySpark Based Machine Learning\n",
    "- Execute PySpark Syntax Correctly\n",
    "- Evaluate and Select Final Model based on Metrics"
   ]
  },
  {
   "cell_type": "markdown",
   "metadata": {},
   "source": [
    "You will be **graded on the use of PySpark**, so usage of **Pandas itself should be avoided as much as possible**, especially if a particular native method or function is already available in PySpark. **Penalties will be imposed in such cases.**"
   ]
  },
  {
   "cell_type": "markdown",
   "metadata": {},
   "source": [
    "# Mandy Tang Min Yee - S10218941C"
   ]
  },
  {
   "cell_type": "markdown",
   "metadata": {},
   "source": [
    "### Table of Contents <a id='top'></a>\n",
    "\n",
    "#### [1. Problem Statement Formulation](#1)\n",
    "* [1.1 Load and explore data](#1.1)\n",
    "\n",
    "#### [2. Exploratory Data Analysis and Data Cleansing](#2)\n",
    "* [2.1 Drop Nulls](#2.1)\n",
    "* [2.2 Use mean/median imputer](#2.2)\n",
    "    * [2.2.1 Mean Imputer](#2.2.1)\n",
    "    * [2.2.2 Median Impute](#2.2.2)\n",
    "* [2.3 Do mapping (unsuccessful attempt)](#2.3)\n",
    "* [2.4 Replace nulls with 84](#2.4)\n",
    "    \n",
    "#### [3. Data Wrangling and Transformation](#3)\n",
    "    \n",
    "#### [4. Machine Learning Modelling](#4)\n",
    "* [4.1 Train test](#4.1)\n",
    "* [4.2 X column split](#4.2)\n",
    "* [4.3 Check of data](#4.3)\n",
    "    * [4.3.1 dropped](#4.3.1)\n",
    "    * [4.3.2 mean](#4.3.2)\n",
    "    * [4.3.3 median](#4.3.3)\n",
    "    * [4.3.4 replaced](#4.3.4)\n",
    "\n",
    "\n",
    "#### [5. Model Evaluation and Selection](#5)\n",
    "\n",
    "* [5.1 Evaluation (prediction)](#5.1)\n",
    "    * [5.1.1 dropped](#5.1.1)\n",
    "    * [5.1.2 mean](#5.1.2)\n",
    "    * [5.1.3 median](#5.1.3)\n",
    "    * [5.1.4 replaced](#5.1.4)\n",
    "* [5.2 Metrics](#5.2)\n",
    "    * [5.2.1 dropped](#5.2.1)\n",
    "    * [5.2.2 mean](#5.2.2)\n",
    "    * [5.2.3 median](#5.2.3)\n",
    "    * [5.2.4 replaced](#5.2.4)\n",
    "* [5.3 Scaling (mean scaled)](#5.3)\n",
    "\n",
    "\n",
    "#### [6. Report](#6)\n",
    "\n",
    "* [6.1 Problem Statement Formulation](#6.1)\n",
    "    * [6.1.1 Columns in the Dataset](#6.1.1)\n",
    "* [6.2 Exploratory Data Analysis and Data Cleansing](#6.2)\n",
    "    * [6.2.1 Missing Value Treatment](#6.2.1)\n",
    "* [6.3 Data Wrangling and Transformation](#6.3)\n",
    "* [6.4 Machine Learning Modelling](#6.4)\n",
    "* [6.5 Model Evaluation and Selection](#6.5)\n",
    "* [6.6 Futher Scaling and final evaluation](#6.6)\n",
    "* [6.7 Summary and Further Improvements](#6.7)\n",
    "\n",
    "#### [7. \"Unlisted\" Youtube Link to Video Presentation](#7)"
   ]
  },
  {
   "cell_type": "code",
   "execution_count": 1,
   "metadata": {},
   "outputs": [],
   "source": [
    "# import the packages\n",
    "from pyspark.sql import SparkSession\n",
    "spark = SparkSession.builder.getOrCreate()\n",
    "\n",
    "from pyspark.sql import Row, Column\n",
    "from pyspark.sql import functions as f\n",
    "from pyspark.sql.functions import upper, col, isnan, when, count\n",
    "from pyspark.ml.feature import Imputer\n",
    "\n",
    "from pyspark.sql.functions import map_values\n",
    "from pyspark.ml import Pipeline\n",
    "from pyspark.ml.feature import OneHotEncoder, StringIndexer\n",
    "from pyspark.ml.feature import VectorAssembler\n",
    "from pyspark.ml.feature import StandardScaler\n",
    "from pyspark.ml.regression import LinearRegression"
   ]
  },
  {
   "cell_type": "markdown",
   "metadata": {},
   "source": [
    "# 1. Problem Statement Formulation <a id='1'></a>\n",
    "[Back to top](#top)"
   ]
  },
  {
   "cell_type": "code",
   "execution_count": 2,
   "metadata": {},
   "outputs": [],
   "source": [
    "#problem statement is:\n",
    "#what is the best price for me sell/buy my flat at"
   ]
  },
  {
   "cell_type": "markdown",
   "metadata": {},
   "source": [
    "## 1.1 Load and explore data <a id='1.1'></a>\n",
    "[Back to top](#top)"
   ]
  },
  {
   "cell_type": "code",
   "execution_count": 3,
   "metadata": {},
   "outputs": [],
   "source": [
    "# load and explore data\n",
    "# inferSchema auto detects data type\n",
    "df=spark.read.csv('./data/sg_flat_prices_mod.csv', header=True, inferSchema=True)\n",
    "spark.conf.set('spark.sql.repl.eagerEval.enabled', True)\n",
    "spark.conf.set('spark.sql.repl.eagerEval.maxNumRows', 10)"
   ]
  },
  {
   "cell_type": "code",
   "execution_count": 4,
   "metadata": {},
   "outputs": [
    {
     "name": "stdout",
     "output_type": "stream",
     "text": [
      "root\n",
      " |-- year: integer (nullable = true)\n",
      " |-- month: integer (nullable = true)\n",
      " |-- town: string (nullable = true)\n",
      " |-- flat_type: string (nullable = true)\n",
      " |-- block: string (nullable = true)\n",
      " |-- street_name: string (nullable = true)\n",
      " |-- storey_range: string (nullable = true)\n",
      " |-- floor_area_sqm: double (nullable = true)\n",
      " |-- flat_model: string (nullable = true)\n",
      " |-- lease_commence_date: integer (nullable = true)\n",
      " |-- remaining_lease: integer (nullable = true)\n",
      " |-- resale_price: double (nullable = true)\n",
      "\n"
     ]
    }
   ],
   "source": [
    "df.printSchema()"
   ]
  },
  {
   "cell_type": "code",
   "execution_count": 5,
   "metadata": {},
   "outputs": [
    {
     "data": {
      "text/html": [
       "<table border='1'>\n",
       "<tr><th>year</th><th>month</th><th>town</th><th>flat_type</th><th>block</th><th>street_name</th><th>storey_range</th><th>floor_area_sqm</th><th>flat_model</th><th>lease_commence_date</th><th>remaining_lease</th><th>resale_price</th></tr>\n",
       "<tr><td>2017</td><td>1</td><td>ANG MO KIO</td><td>2 ROOM</td><td>406</td><td>ANG MO KIO AVE 10</td><td>10 TO 12</td><td>44.0</td><td>Improved</td><td>1979</td><td>736</td><td>232000.0</td></tr>\n",
       "<tr><td>2017</td><td>1</td><td>ANG MO KIO</td><td>3 ROOM</td><td>108</td><td>ANG MO KIO AVE 4</td><td>01 TO 03</td><td>67.0</td><td>New Generation</td><td>1978</td><td>727</td><td>250000.0</td></tr>\n",
       "<tr><td>2017</td><td>1</td><td>ANG MO KIO</td><td>3 ROOM</td><td>602</td><td>ANG MO KIO AVE 5</td><td>01 TO 03</td><td>67.0</td><td>New Generation</td><td>1980</td><td>749</td><td>262000.0</td></tr>\n",
       "<tr><td>2017</td><td>1</td><td>ANG MO KIO</td><td>3 ROOM</td><td>465</td><td>ANG MO KIO AVE 10</td><td>04 TO 06</td><td>68.0</td><td>New Generation</td><td>1980</td><td>745</td><td>265000.0</td></tr>\n",
       "<tr><td>2017</td><td>1</td><td>ANG MO KIO</td><td>3 ROOM</td><td>601</td><td>ANG MO KIO AVE 5</td><td>01 TO 03</td><td>67.0</td><td>New Generation</td><td>1980</td><td>749</td><td>265000.0</td></tr>\n",
       "<tr><td>2017</td><td>1</td><td>ANG MO KIO</td><td>3 ROOM</td><td>150</td><td>ANG MO KIO AVE 5</td><td>01 TO 03</td><td>68.0</td><td>New Generation</td><td>1981</td><td>756</td><td>275000.0</td></tr>\n",
       "<tr><td>2017</td><td>1</td><td>ANG MO KIO</td><td>3 ROOM</td><td>447</td><td>ANG MO KIO AVE 10</td><td>04 TO 06</td><td>68.0</td><td>New Generation</td><td>1979</td><td>738</td><td>280000.0</td></tr>\n",
       "<tr><td>2017</td><td>1</td><td>ANG MO KIO</td><td>3 ROOM</td><td>218</td><td>ANG MO KIO AVE 1</td><td>04 TO 06</td><td>67.0</td><td>New Generation</td><td>1976</td><td>700</td><td>285000.0</td></tr>\n",
       "<tr><td>2017</td><td>1</td><td>ANG MO KIO</td><td>3 ROOM</td><td>447</td><td>ANG MO KIO AVE 10</td><td>04 TO 06</td><td>68.0</td><td>New Generation</td><td>1979</td><td>738</td><td>285000.0</td></tr>\n",
       "<tr><td>2017</td><td>1</td><td>ANG MO KIO</td><td>3 ROOM</td><td>571</td><td>ANG MO KIO AVE 3</td><td>01 TO 03</td><td>67.0</td><td>New Generation</td><td>1979</td><td>736</td><td>285000.0</td></tr>\n",
       "</table>\n",
       "only showing top 10 rows\n"
      ],
      "text/plain": [
       "+----+-----+----------+---------+-----+-----------------+------------+--------------+--------------+-------------------+---------------+------------+\n",
       "|year|month|      town|flat_type|block|      street_name|storey_range|floor_area_sqm|    flat_model|lease_commence_date|remaining_lease|resale_price|\n",
       "+----+-----+----------+---------+-----+-----------------+------------+--------------+--------------+-------------------+---------------+------------+\n",
       "|2017|    1|ANG MO KIO|   2 ROOM|  406|ANG MO KIO AVE 10|    10 TO 12|          44.0|      Improved|               1979|            736|    232000.0|\n",
       "|2017|    1|ANG MO KIO|   3 ROOM|  108| ANG MO KIO AVE 4|    01 TO 03|          67.0|New Generation|               1978|            727|    250000.0|\n",
       "|2017|    1|ANG MO KIO|   3 ROOM|  602| ANG MO KIO AVE 5|    01 TO 03|          67.0|New Generation|               1980|            749|    262000.0|\n",
       "|2017|    1|ANG MO KIO|   3 ROOM|  465|ANG MO KIO AVE 10|    04 TO 06|          68.0|New Generation|               1980|            745|    265000.0|\n",
       "|2017|    1|ANG MO KIO|   3 ROOM|  601| ANG MO KIO AVE 5|    01 TO 03|          67.0|New Generation|               1980|            749|    265000.0|\n",
       "|2017|    1|ANG MO KIO|   3 ROOM|  150| ANG MO KIO AVE 5|    01 TO 03|          68.0|New Generation|               1981|            756|    275000.0|\n",
       "|2017|    1|ANG MO KIO|   3 ROOM|  447|ANG MO KIO AVE 10|    04 TO 06|          68.0|New Generation|               1979|            738|    280000.0|\n",
       "|2017|    1|ANG MO KIO|   3 ROOM|  218| ANG MO KIO AVE 1|    04 TO 06|          67.0|New Generation|               1976|            700|    285000.0|\n",
       "|2017|    1|ANG MO KIO|   3 ROOM|  447|ANG MO KIO AVE 10|    04 TO 06|          68.0|New Generation|               1979|            738|    285000.0|\n",
       "|2017|    1|ANG MO KIO|   3 ROOM|  571| ANG MO KIO AVE 3|    01 TO 03|          67.0|New Generation|               1979|            736|    285000.0|\n",
       "+----+-----+----------+---------+-----+-----------------+------------+--------------+--------------+-------------------+---------------+------------+\n",
       "only showing top 10 rows"
      ]
     },
     "execution_count": 5,
     "metadata": {},
     "output_type": "execute_result"
    }
   ],
   "source": [
    "df"
   ]
  },
  {
   "cell_type": "code",
   "execution_count": 6,
   "metadata": {},
   "outputs": [
    {
     "data": {
      "text/html": [
       "<table border='1'>\n",
       "<tr><th>summary</th><th>floor_area_sqm</th><th>remaining_lease</th><th>resale_price</th></tr>\n",
       "<tr><td>count</td><td>64197</td><td>64247</td><td>64247</td></tr>\n",
       "<tr><td>mean</td><td>97.77009984890256</td><td>894.6413840334957</td><td>438943.70469516085</td></tr>\n",
       "<tr><td>stddev</td><td>24.26994610142912</td><td>149.62669792791093</td><td>153760.65294972394</td></tr>\n",
       "<tr><td>min</td><td>31.0</td><td>553</td><td>150000.0</td></tr>\n",
       "<tr><td>max</td><td>249.0</td><td>1160</td><td>1205000.0</td></tr>\n",
       "</table>\n"
      ],
      "text/plain": [
       "+-------+-----------------+------------------+------------------+\n",
       "|summary|   floor_area_sqm|   remaining_lease|      resale_price|\n",
       "+-------+-----------------+------------------+------------------+\n",
       "|  count|            64197|             64247|             64247|\n",
       "|   mean|97.77009984890256| 894.6413840334957|438943.70469516085|\n",
       "| stddev|24.26994610142912|149.62669792791093|153760.65294972394|\n",
       "|    min|             31.0|               553|          150000.0|\n",
       "|    max|            249.0|              1160|         1205000.0|\n",
       "+-------+-----------------+------------------+------------------+"
      ]
     },
     "execution_count": 6,
     "metadata": {},
     "output_type": "execute_result"
    }
   ],
   "source": [
    "#look at some details abt the columns\n",
    "#supposed num cols/measure (3)\n",
    "df.select('floor_area_sqm', 'remaining_lease', 'resale_price').describe()"
   ]
  },
  {
   "cell_type": "code",
   "execution_count": 7,
   "metadata": {},
   "outputs": [
    {
     "data": {
      "text/html": [
       "<table border='1'>\n",
       "<tr><th>summary</th><th>year</th><th>month</th><th>town</th><th>flat_type</th><th>block</th><th>street_name</th><th>storey_range</th><th>flat_model</th><th>lease_commence_date</th></tr>\n",
       "<tr><td>count</td><td>64247</td><td>64247</td><td>64247</td><td>64247</td><td>64247</td><td>64247</td><td>64247</td><td>64247</td><td>64247</td></tr>\n",
       "<tr><td>mean</td><td>2018.0262424704656</td><td>6.779133656046197</td><td>null</td><td>null</td><td>349.4635640052788</td><td>null</td><td>null</td><td>null</td><td>1993.6012420813422</td></tr>\n",
       "<tr><td>stddev</td><td>0.8146939469668695</td><td>3.2635673352950514</td><td>null</td><td>null</td><td>254.80560486394563</td><td>null</td><td>null</td><td>null</td><td>12.465629502278013</td></tr>\n",
       "<tr><td>min</td><td>2017</td><td>1</td><td>ANG MO KIO</td><td>1 ROOM</td><td>1</td><td>ADMIRALTY DR</td><td>01 TO 03</td><td>Adjoined flat</td><td>1966</td></tr>\n",
       "<tr><td>max</td><td>2019</td><td>12</td><td>YISHUN</td><td>MULTI-GENERATION</td><td>9B</td><td>ZION RD</td><td>49 TO 51</td><td>Type S2</td><td>2016</td></tr>\n",
       "</table>\n"
      ],
      "text/plain": [
       "+-------+------------------+------------------+----------+----------------+------------------+------------+------------+-------------+-------------------+\n",
       "|summary|              year|             month|      town|       flat_type|             block| street_name|storey_range|   flat_model|lease_commence_date|\n",
       "+-------+------------------+------------------+----------+----------------+------------------+------------+------------+-------------+-------------------+\n",
       "|  count|             64247|             64247|     64247|           64247|             64247|       64247|       64247|        64247|              64247|\n",
       "|   mean|2018.0262424704656| 6.779133656046197|      null|            null| 349.4635640052788|        null|        null|         null| 1993.6012420813422|\n",
       "| stddev|0.8146939469668695|3.2635673352950514|      null|            null|254.80560486394563|        null|        null|         null| 12.465629502278013|\n",
       "|    min|              2017|                 1|ANG MO KIO|          1 ROOM|                 1|ADMIRALTY DR|    01 TO 03|Adjoined flat|               1966|\n",
       "|    max|              2019|                12|    YISHUN|MULTI-GENERATION|                9B|     ZION RD|    49 TO 51|      Type S2|               2016|\n",
       "+-------+------------------+------------------+----------+----------------+------------------+------------+------------+-------------+-------------------+"
      ]
     },
     "execution_count": 7,
     "metadata": {},
     "output_type": "execute_result"
    }
   ],
   "source": [
    "#supposed cat cols/dimension (9, including month and year)\n",
    "df.select('year', 'month', 'town', 'flat_type', 'block', 'street_name', 'storey_range', 'flat_model', 'lease_commence_date').describe()"
   ]
  },
  {
   "cell_type": "markdown",
   "metadata": {},
   "source": [
    "# 2. Exploratory Data Analysis and Data Cleansing <a id='2'></a>\n",
    "[Back to top](#top)"
   ]
  },
  {
   "cell_type": "code",
   "execution_count": 8,
   "metadata": {},
   "outputs": [
    {
     "data": {
      "text/html": [
       "<table border='1'>\n",
       "<tr><th>year</th><th>month</th><th>town</th><th>flat_type</th><th>block</th><th>street_name</th><th>storey_range</th><th>floor_area_sqm</th><th>flat_model</th><th>lease_commence_date</th><th>remaining_lease</th><th>resale_price</th></tr>\n",
       "<tr><td>0</td><td>0</td><td>0</td><td>0</td><td>0</td><td>0</td><td>0</td><td>50</td><td>0</td><td>0</td><td>0</td><td>0</td></tr>\n",
       "</table>\n"
      ],
      "text/plain": [
       "+----+-----+----+---------+-----+-----------+------------+--------------+----------+-------------------+---------------+------------+\n",
       "|year|month|town|flat_type|block|street_name|storey_range|floor_area_sqm|flat_model|lease_commence_date|remaining_lease|resale_price|\n",
       "+----+-----+----+---------+-----+-----------+------------+--------------+----------+-------------------+---------------+------------+\n",
       "|   0|    0|   0|        0|    0|          0|           0|            50|         0|                  0|              0|           0|\n",
       "+----+-----+----+---------+-----+-----------+------------+--------------+----------+-------------------+---------------+------------+"
      ]
     },
     "execution_count": 8,
     "metadata": {},
     "output_type": "execute_result"
    }
   ],
   "source": [
    "#find null values\n",
    "df.select([count(when(isnan(c) | col(c).isNull(), c)).alias(c) for c in df.columns])"
   ]
  },
  {
   "cell_type": "code",
   "execution_count": 9,
   "metadata": {},
   "outputs": [
    {
     "data": {
      "text/html": [
       "<table border='1'>\n",
       "<tr><th>year</th><th>month</th><th>town</th><th>flat_type</th><th>block</th><th>street_name</th><th>storey_range</th><th>floor_area_sqm</th><th>flat_model</th><th>lease_commence_date</th><th>remaining_lease</th><th>resale_price</th></tr>\n",
       "<tr><td>2017</td><td>3</td><td>QUEENSTOWN</td><td>4 ROOM</td><td>161</td><td>MEI LING ST</td><td>19 TO 21</td><td>null</td><td>Improved</td><td>1970</td><td>628</td><td>556000.0</td></tr>\n",
       "<tr><td>2017</td><td>3</td><td>TOA PAYOH</td><td>4 ROOM</td><td>220</td><td>LOR 8 TOA PAYOH</td><td>16 TO 18</td><td>null</td><td>Improved</td><td>1976</td><td>698</td><td>383000.0</td></tr>\n",
       "<tr><td>2017</td><td>3</td><td>TOA PAYOH</td><td>4 ROOM</td><td>213</td><td>LOR 8 TOA PAYOH</td><td>16 TO 18</td><td>null</td><td>Improved</td><td>1975</td><td>683</td><td>390000.0</td></tr>\n",
       "<tr><td>2017</td><td>3</td><td>TOA PAYOH</td><td>4 ROOM</td><td>204</td><td>TOA PAYOH NTH</td><td>13 TO 15</td><td>null</td><td>Improved</td><td>1973</td><td>664</td><td>420000.0</td></tr>\n",
       "<tr><td>2017</td><td>3</td><td>TOA PAYOH</td><td>4 ROOM</td><td>208</td><td>TOA PAYOH NTH</td><td>07 TO 09</td><td>null</td><td>Improved</td><td>1973</td><td>664</td><td>420000.0</td></tr>\n",
       "<tr><td>2017</td><td>4</td><td>BEDOK</td><td>4 ROOM</td><td>37</td><td>BEDOK STH AVE 2</td><td>01 TO 03</td><td>null</td><td>Improved</td><td>1977</td><td>713</td><td>320000.0</td></tr>\n",
       "<tr><td>2017</td><td>4</td><td>BEDOK</td><td>4 ROOM</td><td>41</td><td>BEDOK STH RD</td><td>04 TO 06</td><td>null</td><td>Improved</td><td>1977</td><td>713</td><td>352000.0</td></tr>\n",
       "<tr><td>2017</td><td>4</td><td>BEDOK</td><td>4 ROOM</td><td>44</td><td>BEDOK STH RD</td><td>07 TO 09</td><td>null</td><td>Improved</td><td>1977</td><td>713</td><td>365000.0</td></tr>\n",
       "<tr><td>2017</td><td>4</td><td>BEDOK</td><td>4 ROOM</td><td>44</td><td>BEDOK STH RD</td><td>13 TO 15</td><td>null</td><td>Improved</td><td>1977</td><td>713</td><td>385000.0</td></tr>\n",
       "<tr><td>2017</td><td>4</td><td>BUKIT MERAH</td><td>4 ROOM</td><td>120</td><td>BT MERAH VIEW</td><td>04 TO 06</td><td>null</td><td>Improved</td><td>1973</td><td>657</td><td>420000.0</td></tr>\n",
       "</table>\n",
       "only showing top 10 rows\n"
      ],
      "text/plain": [
       "+----+-----+-----------+---------+-----+---------------+------------+--------------+----------+-------------------+---------------+------------+\n",
       "|year|month|       town|flat_type|block|    street_name|storey_range|floor_area_sqm|flat_model|lease_commence_date|remaining_lease|resale_price|\n",
       "+----+-----+-----------+---------+-----+---------------+------------+--------------+----------+-------------------+---------------+------------+\n",
       "|2017|    3| QUEENSTOWN|   4 ROOM|  161|    MEI LING ST|    19 TO 21|          null|  Improved|               1970|            628|    556000.0|\n",
       "|2017|    3|  TOA PAYOH|   4 ROOM|  220|LOR 8 TOA PAYOH|    16 TO 18|          null|  Improved|               1976|            698|    383000.0|\n",
       "|2017|    3|  TOA PAYOH|   4 ROOM|  213|LOR 8 TOA PAYOH|    16 TO 18|          null|  Improved|               1975|            683|    390000.0|\n",
       "|2017|    3|  TOA PAYOH|   4 ROOM|  204|  TOA PAYOH NTH|    13 TO 15|          null|  Improved|               1973|            664|    420000.0|\n",
       "|2017|    3|  TOA PAYOH|   4 ROOM|  208|  TOA PAYOH NTH|    07 TO 09|          null|  Improved|               1973|            664|    420000.0|\n",
       "|2017|    4|      BEDOK|   4 ROOM|   37|BEDOK STH AVE 2|    01 TO 03|          null|  Improved|               1977|            713|    320000.0|\n",
       "|2017|    4|      BEDOK|   4 ROOM|   41|   BEDOK STH RD|    04 TO 06|          null|  Improved|               1977|            713|    352000.0|\n",
       "|2017|    4|      BEDOK|   4 ROOM|   44|   BEDOK STH RD|    07 TO 09|          null|  Improved|               1977|            713|    365000.0|\n",
       "|2017|    4|      BEDOK|   4 ROOM|   44|   BEDOK STH RD|    13 TO 15|          null|  Improved|               1977|            713|    385000.0|\n",
       "|2017|    4|BUKIT MERAH|   4 ROOM|  120|  BT MERAH VIEW|    04 TO 06|          null|  Improved|               1973|            657|    420000.0|\n",
       "+----+-----+-----------+---------+-----+---------------+------------+--------------+----------+-------------------+---------------+------------+\n",
       "only showing top 10 rows"
      ]
     },
     "execution_count": 9,
     "metadata": {},
     "output_type": "execute_result"
    }
   ],
   "source": [
    "#find rows with null\n",
    "df_nulls = df.filter(df.floor_area_sqm.isNull())\n",
    "df_nulls"
   ]
  },
  {
   "cell_type": "code",
   "execution_count": 10,
   "metadata": {},
   "outputs": [
    {
     "data": {
      "text/html": [
       "<table border='1'>\n",
       "<tr><th>flat_type</th></tr>\n",
       "<tr><td>4 ROOM</td></tr>\n",
       "</table>\n"
      ],
      "text/plain": [
       "+---------+\n",
       "|flat_type|\n",
       "+---------+\n",
       "|   4 ROOM|\n",
       "+---------+"
      ]
     },
     "execution_count": 10,
     "metadata": {},
     "output_type": "execute_result"
    }
   ],
   "source": [
    "#check unique values of other columns that can affect floor_area_sqm\n",
    "#values are \n",
    "\n",
    "#flat_type (diff flat type = diff number of rooms = diff floor_area_sqm)\n",
    "#block (diff block may have diff layout -> diff floor_area_sqm)\n",
    "#street_name (same block number may have diff street, this means it's a diff block)\n",
    "#storey_range (different story may have different block layout, although this is unlikely)\n",
    "#flat_model (diff flat model = diff layout -> possible diff floor_area_sqm)\n",
    "#lease_commence_date (diff lease_commence_date = diff time period flat is built, the floor_area_sqm may differ depending on the year flat is built)\n",
    "\n",
    "#checking distinct values\n",
    "df_nulls.select('flat_type').distinct()"
   ]
  },
  {
   "cell_type": "code",
   "execution_count": 11,
   "metadata": {},
   "outputs": [
    {
     "data": {
      "text/html": [
       "<table border='1'>\n",
       "<tr><th>block</th></tr>\n",
       "<tr><td>51</td></tr>\n",
       "<tr><td>7</td></tr>\n",
       "<tr><td>232</td></tr>\n",
       "<tr><td>54</td></tr>\n",
       "<tr><td>168A</td></tr>\n",
       "<tr><td>11</td></tr>\n",
       "<tr><td>335B</td></tr>\n",
       "<tr><td>160</td></tr>\n",
       "<tr><td>8</td></tr>\n",
       "<tr><td>28</td></tr>\n",
       "</table>\n",
       "only showing top 10 rows\n"
      ],
      "text/plain": [
       "+-----+\n",
       "|block|\n",
       "+-----+\n",
       "|   51|\n",
       "|    7|\n",
       "|  232|\n",
       "|   54|\n",
       "| 168A|\n",
       "|   11|\n",
       "| 335B|\n",
       "|  160|\n",
       "|    8|\n",
       "|   28|\n",
       "+-----+\n",
       "only showing top 10 rows"
      ]
     },
     "execution_count": 11,
     "metadata": {},
     "output_type": "execute_result"
    }
   ],
   "source": [
    "df_nulls.select('block').distinct()"
   ]
  },
  {
   "cell_type": "code",
   "execution_count": 12,
   "metadata": {},
   "outputs": [
    {
     "data": {
      "text/html": [
       "<table border='1'>\n",
       "<tr><th>street_name</th></tr>\n",
       "<tr><td>LOR 8 TOA PAYOH</td></tr>\n",
       "<tr><td>ST. GEORGE&#x27;S RD</td></tr>\n",
       "<tr><td>BEDOK STH AVE 2</td></tr>\n",
       "<tr><td>BT MERAH VIEW</td></tr>\n",
       "<tr><td>BAIN ST</td></tr>\n",
       "<tr><td>SMITH ST</td></tr>\n",
       "<tr><td>BEDOK STH RD</td></tr>\n",
       "<tr><td>MARSILING DR</td></tr>\n",
       "<tr><td>MEI LING ST</td></tr>\n",
       "<tr><td>TOA PAYOH NTH</td></tr>\n",
       "</table>\n",
       "only showing top 10 rows\n"
      ],
      "text/plain": [
       "+---------------+\n",
       "|    street_name|\n",
       "+---------------+\n",
       "|LOR 8 TOA PAYOH|\n",
       "|ST. GEORGE'S RD|\n",
       "|BEDOK STH AVE 2|\n",
       "|  BT MERAH VIEW|\n",
       "|        BAIN ST|\n",
       "|       SMITH ST|\n",
       "|   BEDOK STH RD|\n",
       "|   MARSILING DR|\n",
       "|    MEI LING ST|\n",
       "|  TOA PAYOH NTH|\n",
       "+---------------+\n",
       "only showing top 10 rows"
      ]
     },
     "execution_count": 12,
     "metadata": {},
     "output_type": "execute_result"
    }
   ],
   "source": [
    "df_nulls.select('street_name').distinct()"
   ]
  },
  {
   "cell_type": "code",
   "execution_count": 13,
   "metadata": {},
   "outputs": [
    {
     "data": {
      "text/html": [
       "<table border='1'>\n",
       "<tr><th>storey_range</th></tr>\n",
       "<tr><td>10 TO 12</td></tr>\n",
       "<tr><td>04 TO 06</td></tr>\n",
       "<tr><td>16 TO 18</td></tr>\n",
       "<tr><td>19 TO 21</td></tr>\n",
       "<tr><td>13 TO 15</td></tr>\n",
       "<tr><td>22 TO 24</td></tr>\n",
       "<tr><td>07 TO 09</td></tr>\n",
       "<tr><td>01 TO 03</td></tr>\n",
       "</table>\n"
      ],
      "text/plain": [
       "+------------+\n",
       "|storey_range|\n",
       "+------------+\n",
       "|    10 TO 12|\n",
       "|    04 TO 06|\n",
       "|    16 TO 18|\n",
       "|    19 TO 21|\n",
       "|    13 TO 15|\n",
       "|    22 TO 24|\n",
       "|    07 TO 09|\n",
       "|    01 TO 03|\n",
       "+------------+"
      ]
     },
     "execution_count": 13,
     "metadata": {},
     "output_type": "execute_result"
    }
   ],
   "source": [
    "df_nulls.select('storey_range').distinct()"
   ]
  },
  {
   "cell_type": "code",
   "execution_count": 14,
   "metadata": {},
   "outputs": [
    {
     "data": {
      "text/html": [
       "<table border='1'>\n",
       "<tr><th>flat_model</th></tr>\n",
       "<tr><td>Improved</td></tr>\n",
       "</table>\n"
      ],
      "text/plain": [
       "+----------+\n",
       "|flat_model|\n",
       "+----------+\n",
       "|  Improved|\n",
       "+----------+"
      ]
     },
     "execution_count": 14,
     "metadata": {},
     "output_type": "execute_result"
    }
   ],
   "source": [
    "df_nulls.select('flat_model').distinct()"
   ]
  },
  {
   "cell_type": "code",
   "execution_count": 15,
   "metadata": {},
   "outputs": [
    {
     "data": {
      "text/html": [
       "<table border='1'>\n",
       "<tr><th>lease_commence_date</th></tr>\n",
       "<tr><td>1975</td></tr>\n",
       "<tr><td>1977</td></tr>\n",
       "<tr><td>1974</td></tr>\n",
       "<tr><td>1973</td></tr>\n",
       "<tr><td>1970</td></tr>\n",
       "<tr><td>1980</td></tr>\n",
       "<tr><td>1972</td></tr>\n",
       "<tr><td>1984</td></tr>\n",
       "<tr><td>1976</td></tr>\n",
       "</table>\n"
      ],
      "text/plain": [
       "+-------------------+\n",
       "|lease_commence_date|\n",
       "+-------------------+\n",
       "|               1975|\n",
       "|               1977|\n",
       "|               1974|\n",
       "|               1973|\n",
       "|               1970|\n",
       "|               1980|\n",
       "|               1972|\n",
       "|               1984|\n",
       "|               1976|\n",
       "+-------------------+"
      ]
     },
     "execution_count": 15,
     "metadata": {},
     "output_type": "execute_result"
    }
   ],
   "source": [
    "df_nulls.select('lease_commence_date').distinct()"
   ]
  },
  {
   "cell_type": "code",
   "execution_count": 16,
   "metadata": {},
   "outputs": [],
   "source": [
    "#only floor_area_sqm have nulls\n",
    "\n",
    "#can do the methods listed below\n",
    "\n",
    "#1. drop all (no. of rows with nulls is small compared to dataset)\n",
    "#2. imputer (either mean or median, since same flat type, model, and time period built, usually if like that, sqm is mostly the same)\n",
    "#3, map, can have a column with groupby to map floor_area_sqm from similar flat to the null area"
   ]
  },
  {
   "cell_type": "markdown",
   "metadata": {},
   "source": [
    "## 2.1 Drop Nulls <a id='2.1'></a>\n",
    "[Back to top](#top)"
   ]
  },
  {
   "cell_type": "code",
   "execution_count": 17,
   "metadata": {},
   "outputs": [
    {
     "data": {
      "text/html": [
       "<table border='1'>\n",
       "<tr><th>year</th><th>month</th><th>town</th><th>flat_type</th><th>block</th><th>street_name</th><th>storey_range</th><th>floor_area_sqm</th><th>flat_model</th><th>lease_commence_date</th><th>remaining_lease</th><th>resale_price</th></tr>\n",
       "<tr><td>0</td><td>0</td><td>0</td><td>0</td><td>0</td><td>0</td><td>0</td><td>0</td><td>0</td><td>0</td><td>0</td><td>0</td></tr>\n",
       "</table>\n"
      ],
      "text/plain": [
       "+----+-----+----+---------+-----+-----------+------------+--------------+----------+-------------------+---------------+------------+\n",
       "|year|month|town|flat_type|block|street_name|storey_range|floor_area_sqm|flat_model|lease_commence_date|remaining_lease|resale_price|\n",
       "+----+-----+----+---------+-----+-----------+------------+--------------+----------+-------------------+---------------+------------+\n",
       "|   0|    0|   0|        0|    0|          0|           0|             0|         0|                  0|              0|           0|\n",
       "+----+-----+----+---------+-----+-----------+------------+--------------+----------+-------------------+---------------+------------+"
      ]
     },
     "execution_count": 17,
     "metadata": {},
     "output_type": "execute_result"
    }
   ],
   "source": [
    "#1. drop nulls\n",
    "df_dropped_nulls = df.na.drop()\n",
    "\n",
    "#find null values\n",
    "df_dropped_nulls.select([count(when(isnan(c) | col(c).isNull(), c)).alias(c) for c in df_dropped_nulls.columns])"
   ]
  },
  {
   "cell_type": "markdown",
   "metadata": {},
   "source": [
    "## 2.2 Use mean/median imputer <a id='2.2'></a>\n",
    "[Back to top](#top)"
   ]
  },
  {
   "cell_type": "code",
   "execution_count": 18,
   "metadata": {},
   "outputs": [
    {
     "data": {
      "text/html": [
       "<table border='1'>\n",
       "<tr><th>summary</th><th>floor_area_sqm</th></tr>\n",
       "<tr><td>count</td><td>688</td></tr>\n",
       "<tr><td>mean</td><td>85.26453488372093</td></tr>\n",
       "<tr><td>stddev</td><td>3.297887518276874</td></tr>\n",
       "<tr><td>min</td><td>77.0</td></tr>\n",
       "<tr><td>max</td><td>91.0</td></tr>\n",
       "</table>\n"
      ],
      "text/plain": [
       "+-------+-----------------+\n",
       "|summary|   floor_area_sqm|\n",
       "+-------+-----------------+\n",
       "|  count|              688|\n",
       "|   mean|85.26453488372093|\n",
       "| stddev|3.297887518276874|\n",
       "|    min|             77.0|\n",
       "|    max|             91.0|\n",
       "+-------+-----------------+"
      ]
     },
     "execution_count": 18,
     "metadata": {},
     "output_type": "execute_result"
    }
   ],
   "source": [
    "#another df for fitting, with flat_type = 4 ROOM and flat_model = Improved\n",
    "df_4_room_improved = df.filter((df['flat_type'] == '4 ROOM') & (df['flat_model'] == 'Improved')).na.drop()\n",
    "df_4_room_improved.select('floor_area_sqm').describe()"
   ]
  },
  {
   "cell_type": "code",
   "execution_count": 19,
   "metadata": {},
   "outputs": [
    {
     "data": {
      "text/html": [
       "<table border='1'>\n",
       "<tr><th>year</th><th>month</th><th>town</th><th>flat_type</th><th>block</th><th>street_name</th><th>storey_range</th><th>floor_area_sqm</th><th>flat_model</th><th>lease_commence_date</th><th>remaining_lease</th><th>resale_price</th></tr>\n",
       "<tr><td>0</td><td>0</td><td>0</td><td>0</td><td>0</td><td>0</td><td>0</td><td>0</td><td>0</td><td>0</td><td>0</td><td>0</td></tr>\n",
       "</table>\n"
      ],
      "text/plain": [
       "+----+-----+----+---------+-----+-----------+------------+--------------+----------+-------------------+---------------+------------+\n",
       "|year|month|town|flat_type|block|street_name|storey_range|floor_area_sqm|flat_model|lease_commence_date|remaining_lease|resale_price|\n",
       "+----+-----+----+---------+-----+-----------+------------+--------------+----------+-------------------+---------------+------------+\n",
       "|   0|    0|   0|        0|    0|          0|           0|             0|         0|                  0|              0|           0|\n",
       "+----+-----+----+---------+-----+-----------+------------+--------------+----------+-------------------+---------------+------------+"
      ]
     },
     "execution_count": 19,
     "metadata": {},
     "output_type": "execute_result"
    }
   ],
   "source": [
    "#find nulls in 4 room, improved flat df (should have none)\n",
    "df_4_room_improved.select([count(when(isnan(c) | col(c).isNull(), c)).alias(c) for c in df_4_room_improved.columns])"
   ]
  },
  {
   "cell_type": "markdown",
   "metadata": {},
   "source": [
    "### 2.2.1 Mean Imputer <a id='2.2.1'></a>\n",
    "[Back to top](#top)"
   ]
  },
  {
   "cell_type": "code",
   "execution_count": 20,
   "metadata": {},
   "outputs": [],
   "source": [
    "#2.1 use imputer to impute mean\n",
    "mean_imputer = Imputer(\n",
    "    inputCols= ['floor_area_sqm'], \n",
    "    outputCols= ['floor_area_sqm']).setStrategy(\"mean\")"
   ]
  },
  {
   "cell_type": "code",
   "execution_count": 21,
   "metadata": {},
   "outputs": [
    {
     "data": {
      "text/html": [
       "<table border='1'>\n",
       "<tr><th>year</th><th>month</th><th>town</th><th>flat_type</th><th>block</th><th>street_name</th><th>storey_range</th><th>floor_area_sqm</th><th>flat_model</th><th>lease_commence_date</th><th>remaining_lease</th><th>resale_price</th></tr>\n",
       "<tr><td>2017</td><td>3</td><td>QUEENSTOWN</td><td>4 ROOM</td><td>161</td><td>MEI LING ST</td><td>19 TO 21</td><td>85.26453488372093</td><td>Improved</td><td>1970</td><td>628</td><td>556000.0</td></tr>\n",
       "<tr><td>2017</td><td>3</td><td>TOA PAYOH</td><td>4 ROOM</td><td>220</td><td>LOR 8 TOA PAYOH</td><td>16 TO 18</td><td>85.26453488372093</td><td>Improved</td><td>1976</td><td>698</td><td>383000.0</td></tr>\n",
       "<tr><td>2017</td><td>3</td><td>TOA PAYOH</td><td>4 ROOM</td><td>213</td><td>LOR 8 TOA PAYOH</td><td>16 TO 18</td><td>85.26453488372093</td><td>Improved</td><td>1975</td><td>683</td><td>390000.0</td></tr>\n",
       "<tr><td>2017</td><td>3</td><td>TOA PAYOH</td><td>4 ROOM</td><td>204</td><td>TOA PAYOH NTH</td><td>13 TO 15</td><td>85.26453488372093</td><td>Improved</td><td>1973</td><td>664</td><td>420000.0</td></tr>\n",
       "<tr><td>2017</td><td>3</td><td>TOA PAYOH</td><td>4 ROOM</td><td>208</td><td>TOA PAYOH NTH</td><td>07 TO 09</td><td>85.26453488372093</td><td>Improved</td><td>1973</td><td>664</td><td>420000.0</td></tr>\n",
       "<tr><td>2017</td><td>4</td><td>BEDOK</td><td>4 ROOM</td><td>37</td><td>BEDOK STH AVE 2</td><td>01 TO 03</td><td>85.26453488372093</td><td>Improved</td><td>1977</td><td>713</td><td>320000.0</td></tr>\n",
       "<tr><td>2017</td><td>4</td><td>BEDOK</td><td>4 ROOM</td><td>41</td><td>BEDOK STH RD</td><td>04 TO 06</td><td>85.26453488372093</td><td>Improved</td><td>1977</td><td>713</td><td>352000.0</td></tr>\n",
       "<tr><td>2017</td><td>4</td><td>BEDOK</td><td>4 ROOM</td><td>44</td><td>BEDOK STH RD</td><td>07 TO 09</td><td>85.26453488372093</td><td>Improved</td><td>1977</td><td>713</td><td>365000.0</td></tr>\n",
       "<tr><td>2017</td><td>4</td><td>BEDOK</td><td>4 ROOM</td><td>44</td><td>BEDOK STH RD</td><td>13 TO 15</td><td>85.26453488372093</td><td>Improved</td><td>1977</td><td>713</td><td>385000.0</td></tr>\n",
       "<tr><td>2017</td><td>4</td><td>BUKIT MERAH</td><td>4 ROOM</td><td>120</td><td>BT MERAH VIEW</td><td>04 TO 06</td><td>85.26453488372093</td><td>Improved</td><td>1973</td><td>657</td><td>420000.0</td></tr>\n",
       "</table>\n",
       "only showing top 10 rows\n"
      ],
      "text/plain": [
       "+----+-----+-----------+---------+-----+---------------+------------+-----------------+----------+-------------------+---------------+------------+\n",
       "|year|month|       town|flat_type|block|    street_name|storey_range|   floor_area_sqm|flat_model|lease_commence_date|remaining_lease|resale_price|\n",
       "+----+-----+-----------+---------+-----+---------------+------------+-----------------+----------+-------------------+---------------+------------+\n",
       "|2017|    3| QUEENSTOWN|   4 ROOM|  161|    MEI LING ST|    19 TO 21|85.26453488372093|  Improved|               1970|            628|    556000.0|\n",
       "|2017|    3|  TOA PAYOH|   4 ROOM|  220|LOR 8 TOA PAYOH|    16 TO 18|85.26453488372093|  Improved|               1976|            698|    383000.0|\n",
       "|2017|    3|  TOA PAYOH|   4 ROOM|  213|LOR 8 TOA PAYOH|    16 TO 18|85.26453488372093|  Improved|               1975|            683|    390000.0|\n",
       "|2017|    3|  TOA PAYOH|   4 ROOM|  204|  TOA PAYOH NTH|    13 TO 15|85.26453488372093|  Improved|               1973|            664|    420000.0|\n",
       "|2017|    3|  TOA PAYOH|   4 ROOM|  208|  TOA PAYOH NTH|    07 TO 09|85.26453488372093|  Improved|               1973|            664|    420000.0|\n",
       "|2017|    4|      BEDOK|   4 ROOM|   37|BEDOK STH AVE 2|    01 TO 03|85.26453488372093|  Improved|               1977|            713|    320000.0|\n",
       "|2017|    4|      BEDOK|   4 ROOM|   41|   BEDOK STH RD|    04 TO 06|85.26453488372093|  Improved|               1977|            713|    352000.0|\n",
       "|2017|    4|      BEDOK|   4 ROOM|   44|   BEDOK STH RD|    07 TO 09|85.26453488372093|  Improved|               1977|            713|    365000.0|\n",
       "|2017|    4|      BEDOK|   4 ROOM|   44|   BEDOK STH RD|    13 TO 15|85.26453488372093|  Improved|               1977|            713|    385000.0|\n",
       "|2017|    4|BUKIT MERAH|   4 ROOM|  120|  BT MERAH VIEW|    04 TO 06|85.26453488372093|  Improved|               1973|            657|    420000.0|\n",
       "+----+-----+-----------+---------+-----+---------------+------------+-----------------+----------+-------------------+---------------+------------+\n",
       "only showing top 10 rows"
      ]
     },
     "execution_count": 21,
     "metadata": {},
     "output_type": "execute_result"
    }
   ],
   "source": [
    "#use this\n",
    "df_impute_mean_check = mean_imputer.fit(df_4_room_improved).transform(df_nulls)\n",
    "df_impute_mean_check"
   ]
  },
  {
   "cell_type": "code",
   "execution_count": 22,
   "metadata": {},
   "outputs": [
    {
     "data": {
      "text/html": [
       "<table border='1'>\n",
       "<tr><th>year</th><th>month</th><th>town</th><th>flat_type</th><th>block</th><th>street_name</th><th>storey_range</th><th>floor_area_sqm</th><th>flat_model</th><th>lease_commence_date</th><th>remaining_lease</th><th>resale_price</th></tr>\n",
       "<tr><td>0</td><td>0</td><td>0</td><td>0</td><td>0</td><td>0</td><td>0</td><td>0</td><td>0</td><td>0</td><td>0</td><td>0</td></tr>\n",
       "</table>\n"
      ],
      "text/plain": [
       "+----+-----+----+---------+-----+-----------+------------+--------------+----------+-------------------+---------------+------------+\n",
       "|year|month|town|flat_type|block|street_name|storey_range|floor_area_sqm|flat_model|lease_commence_date|remaining_lease|resale_price|\n",
       "+----+-----+----+---------+-----+-----------+------------+--------------+----------+-------------------+---------------+------------+\n",
       "|   0|    0|   0|        0|    0|          0|           0|             0|         0|                  0|              0|           0|\n",
       "+----+-----+----+---------+-----+-----------+------------+--------------+----------+-------------------+---------------+------------+"
      ]
     },
     "execution_count": 22,
     "metadata": {},
     "output_type": "execute_result"
    }
   ],
   "source": [
    "#mean impute original table\n",
    "df_impute_mean = mean_imputer.fit(df_4_room_improved).transform(df)\n",
    "\n",
    "df_impute_mean.select([count(when(isnan(c) | col(c).isNull(), c)).alias(c) for c in df_impute_mean.columns])"
   ]
  },
  {
   "cell_type": "markdown",
   "metadata": {},
   "source": [
    "### 2.2.2 Median Imputer <a id='2.2.2'></a>\n",
    "[Back to top](#top)"
   ]
  },
  {
   "cell_type": "code",
   "execution_count": 23,
   "metadata": {},
   "outputs": [],
   "source": [
    "#2.2 use imputer to impute median\n",
    "median_imputer = Imputer(\n",
    "    inputCols= ['floor_area_sqm'], \n",
    "    outputCols= ['floor_area_sqm']).setStrategy(\"median\")"
   ]
  },
  {
   "cell_type": "code",
   "execution_count": 24,
   "metadata": {},
   "outputs": [
    {
     "data": {
      "text/html": [
       "<table border='1'>\n",
       "<tr><th>year</th><th>month</th><th>town</th><th>flat_type</th><th>block</th><th>street_name</th><th>storey_range</th><th>floor_area_sqm</th><th>flat_model</th><th>lease_commence_date</th><th>remaining_lease</th><th>resale_price</th></tr>\n",
       "<tr><td>2017</td><td>3</td><td>QUEENSTOWN</td><td>4 ROOM</td><td>161</td><td>MEI LING ST</td><td>19 TO 21</td><td>91.0</td><td>Improved</td><td>1970</td><td>628</td><td>556000.0</td></tr>\n",
       "<tr><td>2017</td><td>3</td><td>TOA PAYOH</td><td>4 ROOM</td><td>220</td><td>LOR 8 TOA PAYOH</td><td>16 TO 18</td><td>91.0</td><td>Improved</td><td>1976</td><td>698</td><td>383000.0</td></tr>\n",
       "<tr><td>2017</td><td>3</td><td>TOA PAYOH</td><td>4 ROOM</td><td>213</td><td>LOR 8 TOA PAYOH</td><td>16 TO 18</td><td>91.0</td><td>Improved</td><td>1975</td><td>683</td><td>390000.0</td></tr>\n",
       "<tr><td>2017</td><td>3</td><td>TOA PAYOH</td><td>4 ROOM</td><td>204</td><td>TOA PAYOH NTH</td><td>13 TO 15</td><td>91.0</td><td>Improved</td><td>1973</td><td>664</td><td>420000.0</td></tr>\n",
       "<tr><td>2017</td><td>3</td><td>TOA PAYOH</td><td>4 ROOM</td><td>208</td><td>TOA PAYOH NTH</td><td>07 TO 09</td><td>91.0</td><td>Improved</td><td>1973</td><td>664</td><td>420000.0</td></tr>\n",
       "<tr><td>2017</td><td>4</td><td>BEDOK</td><td>4 ROOM</td><td>37</td><td>BEDOK STH AVE 2</td><td>01 TO 03</td><td>91.0</td><td>Improved</td><td>1977</td><td>713</td><td>320000.0</td></tr>\n",
       "<tr><td>2017</td><td>4</td><td>BEDOK</td><td>4 ROOM</td><td>41</td><td>BEDOK STH RD</td><td>04 TO 06</td><td>91.0</td><td>Improved</td><td>1977</td><td>713</td><td>352000.0</td></tr>\n",
       "<tr><td>2017</td><td>4</td><td>BEDOK</td><td>4 ROOM</td><td>44</td><td>BEDOK STH RD</td><td>07 TO 09</td><td>91.0</td><td>Improved</td><td>1977</td><td>713</td><td>365000.0</td></tr>\n",
       "<tr><td>2017</td><td>4</td><td>BEDOK</td><td>4 ROOM</td><td>44</td><td>BEDOK STH RD</td><td>13 TO 15</td><td>91.0</td><td>Improved</td><td>1977</td><td>713</td><td>385000.0</td></tr>\n",
       "<tr><td>2017</td><td>4</td><td>BUKIT MERAH</td><td>4 ROOM</td><td>120</td><td>BT MERAH VIEW</td><td>04 TO 06</td><td>91.0</td><td>Improved</td><td>1973</td><td>657</td><td>420000.0</td></tr>\n",
       "</table>\n",
       "only showing top 10 rows\n"
      ],
      "text/plain": [
       "+----+-----+-----------+---------+-----+---------------+------------+--------------+----------+-------------------+---------------+------------+\n",
       "|year|month|       town|flat_type|block|    street_name|storey_range|floor_area_sqm|flat_model|lease_commence_date|remaining_lease|resale_price|\n",
       "+----+-----+-----------+---------+-----+---------------+------------+--------------+----------+-------------------+---------------+------------+\n",
       "|2017|    3| QUEENSTOWN|   4 ROOM|  161|    MEI LING ST|    19 TO 21|          91.0|  Improved|               1970|            628|    556000.0|\n",
       "|2017|    3|  TOA PAYOH|   4 ROOM|  220|LOR 8 TOA PAYOH|    16 TO 18|          91.0|  Improved|               1976|            698|    383000.0|\n",
       "|2017|    3|  TOA PAYOH|   4 ROOM|  213|LOR 8 TOA PAYOH|    16 TO 18|          91.0|  Improved|               1975|            683|    390000.0|\n",
       "|2017|    3|  TOA PAYOH|   4 ROOM|  204|  TOA PAYOH NTH|    13 TO 15|          91.0|  Improved|               1973|            664|    420000.0|\n",
       "|2017|    3|  TOA PAYOH|   4 ROOM|  208|  TOA PAYOH NTH|    07 TO 09|          91.0|  Improved|               1973|            664|    420000.0|\n",
       "|2017|    4|      BEDOK|   4 ROOM|   37|BEDOK STH AVE 2|    01 TO 03|          91.0|  Improved|               1977|            713|    320000.0|\n",
       "|2017|    4|      BEDOK|   4 ROOM|   41|   BEDOK STH RD|    04 TO 06|          91.0|  Improved|               1977|            713|    352000.0|\n",
       "|2017|    4|      BEDOK|   4 ROOM|   44|   BEDOK STH RD|    07 TO 09|          91.0|  Improved|               1977|            713|    365000.0|\n",
       "|2017|    4|      BEDOK|   4 ROOM|   44|   BEDOK STH RD|    13 TO 15|          91.0|  Improved|               1977|            713|    385000.0|\n",
       "|2017|    4|BUKIT MERAH|   4 ROOM|  120|  BT MERAH VIEW|    04 TO 06|          91.0|  Improved|               1973|            657|    420000.0|\n",
       "+----+-----+-----------+---------+-----+---------------+------------+--------------+----------+-------------------+---------------+------------+\n",
       "only showing top 10 rows"
      ]
     },
     "execution_count": 24,
     "metadata": {},
     "output_type": "execute_result"
    }
   ],
   "source": [
    "#it gives upper limit, better don't use\n",
    "df_impute_median_check = median_imputer.fit(df_4_room_improved).transform(df_nulls)\n",
    "df_impute_median_check"
   ]
  },
  {
   "cell_type": "code",
   "execution_count": 25,
   "metadata": {},
   "outputs": [
    {
     "data": {
      "text/html": [
       "<table border='1'>\n",
       "<tr><th>year</th><th>month</th><th>town</th><th>flat_type</th><th>block</th><th>street_name</th><th>storey_range</th><th>floor_area_sqm</th><th>flat_model</th><th>lease_commence_date</th><th>remaining_lease</th><th>resale_price</th></tr>\n",
       "<tr><td>0</td><td>0</td><td>0</td><td>0</td><td>0</td><td>0</td><td>0</td><td>0</td><td>0</td><td>0</td><td>0</td><td>0</td></tr>\n",
       "</table>\n"
      ],
      "text/plain": [
       "+----+-----+----+---------+-----+-----------+------------+--------------+----------+-------------------+---------------+------------+\n",
       "|year|month|town|flat_type|block|street_name|storey_range|floor_area_sqm|flat_model|lease_commence_date|remaining_lease|resale_price|\n",
       "+----+-----+----+---------+-----+-----------+------------+--------------+----------+-------------------+---------------+------------+\n",
       "|   0|    0|   0|        0|    0|          0|           0|             0|         0|                  0|              0|           0|\n",
       "+----+-----+----+---------+-----+-----------+------------+--------------+----------+-------------------+---------------+------------+"
      ]
     },
     "execution_count": 25,
     "metadata": {},
     "output_type": "execute_result"
    }
   ],
   "source": [
    "#median impute original table\n",
    "df_impute_median = median_imputer.fit(df_4_room_improved).transform(df)\n",
    "\n",
    "df_impute_median.select([count(when(isnan(c) | col(c).isNull(), c)).alias(c) for c in df_impute_median.columns])"
   ]
  },
  {
   "cell_type": "markdown",
   "metadata": {},
   "source": [
    "## 2.3 Do mapping (unsuccessful attempt) <a id='2.3'></a>\n",
    "[Back to top](#top)"
   ]
  },
  {
   "cell_type": "code",
   "execution_count": 26,
   "metadata": {},
   "outputs": [],
   "source": [
    "#mapping takes too much time because there are potentially 50 individual variables to map out\n",
    "#also very tedious and did cause issues when attempted to map"
   ]
  },
  {
   "cell_type": "code",
   "execution_count": 27,
   "metadata": {},
   "outputs": [],
   "source": [
    "#df_4_room_improved_dict = df_4_room_improved.groupby('street_name', 'block', 'storey_range', 'lease_commence_date').mean('floor_area_sqm')\n",
    "#df_4_room_improved_dict"
   ]
  },
  {
   "cell_type": "code",
   "execution_count": 28,
   "metadata": {},
   "outputs": [],
   "source": [
    "#df_4_room_improved_dict = df_4_room_improved_dict.withColumn('keyval', f.concat('street_name', 'block', 'storey_range', 'lease_commence_date'))\n",
    "#df_4_room_improved_dict"
   ]
  },
  {
   "cell_type": "code",
   "execution_count": 29,
   "metadata": {},
   "outputs": [],
   "source": [
    "#floor_area_dict = {row['keyval']: row['avg(floor_area_sqm)'] for row in df_4_room_improved_dict.collect()}\n",
    "#floor_area_dict"
   ]
  },
  {
   "cell_type": "code",
   "execution_count": 30,
   "metadata": {},
   "outputs": [],
   "source": [
    "#df_nulls_dict_fill = df_nulls.withColumn('keyval', f.concat('street_name', 'block', 'storey_range', 'lease_commence_date'))\n",
    "#df_nulls_dict_fill"
   ]
  },
  {
   "cell_type": "code",
   "execution_count": 31,
   "metadata": {},
   "outputs": [],
   "source": [
    "#df_dict_fill_check = df_nulls_dict_fill.na.fill(floor_area_dict, 'floor_area_sqm')"
   ]
  },
  {
   "cell_type": "markdown",
   "metadata": {},
   "source": [
    "## 2.4 Replace nulls with 84 <a id='2.4'></a>\n",
    "[Back to top](#top)"
   ]
  },
  {
   "cell_type": "code",
   "execution_count": 32,
   "metadata": {},
   "outputs": [
    {
     "data": {
      "text/html": [
       "<table border='1'>\n",
       "<tr><th>year</th><th>month</th><th>town</th><th>flat_type</th><th>block</th><th>street_name</th><th>storey_range</th><th>floor_area_sqm</th><th>flat_model</th><th>lease_commence_date</th><th>remaining_lease</th><th>resale_price</th></tr>\n",
       "<tr><td>0</td><td>0</td><td>0</td><td>0</td><td>0</td><td>0</td><td>0</td><td>0</td><td>0</td><td>0</td><td>0</td><td>0</td></tr>\n",
       "</table>\n"
      ],
      "text/plain": [
       "+----+-----+----+---------+-----+-----------+------------+--------------+----------+-------------------+---------------+------------+\n",
       "|year|month|town|flat_type|block|street_name|storey_range|floor_area_sqm|flat_model|lease_commence_date|remaining_lease|resale_price|\n",
       "+----+-----+----+---------+-----+-----------+------------+--------------+----------+-------------------+---------------+------------+\n",
       "|   0|    0|   0|        0|    0|          0|           0|             0|         0|                  0|              0|           0|\n",
       "+----+-----+----+---------+-----+-----------+------------+--------------+----------+-------------------+---------------+------------+"
      ]
     },
     "execution_count": 32,
     "metadata": {},
     "output_type": "execute_result"
    }
   ],
   "source": [
    "#replace all means with 84, which is the rough floor area in square meters for a 4-room, improved, hdb flat that is built around the 1960s-1980s\n",
    "df_replaced_nulls = df.na.fill(84,['floor_area_sqm'])\n",
    "\n",
    "df_replaced_nulls.select([count(when(isnan(c) | col(c).isNull(), c)).alias(c) for c in df_replaced_nulls.columns])"
   ]
  },
  {
   "cell_type": "code",
   "execution_count": 33,
   "metadata": {},
   "outputs": [],
   "source": [
    "#note: it seems like all columns are supposed to be discrete,\n",
    "#besides resale price"
   ]
  },
  {
   "cell_type": "markdown",
   "metadata": {},
   "source": [
    "# 3. Data Wrangling and Transformation <a id='3'></a>\n",
    "[Back to top](#top)"
   ]
  },
  {
   "cell_type": "code",
   "execution_count": 34,
   "metadata": {},
   "outputs": [],
   "source": [
    "# one hot encode everything"
   ]
  },
  {
   "cell_type": "code",
   "execution_count": 35,
   "metadata": {},
   "outputs": [],
   "source": [
    "string_cols = ['year', 'month', 'town', 'flat_type', 'block', 'street_name', 'storey_range', 'flat_model', 'floor_area_sqm', 'lease_commence_date', 'remaining_lease']"
   ]
  },
  {
   "cell_type": "code",
   "execution_count": 36,
   "metadata": {},
   "outputs": [],
   "source": [
    "stage_string = [StringIndexer(inputCol= c, outputCol= c+\"_string_encode\") for c in string_cols]\n",
    "stage_one_hot = [OneHotEncoder(inputCol= c+\"_string_encode\", outputCol= c+ \"_onehot_encode\") for c in string_cols]\n",
    "\n",
    "ppl = Pipeline(stages= stage_string + stage_one_hot)"
   ]
  },
  {
   "cell_type": "code",
   "execution_count": 37,
   "metadata": {},
   "outputs": [
    {
     "data": {
      "text/html": [
       "<table border='1'>\n",
       "<tr><th>year_onehot_encode</th><th>month_onehot_encode</th><th>town_onehot_encode</th><th>flat_type_onehot_encode</th><th>block_onehot_encode</th><th>street_name_onehot_encode</th><th>storey_range_onehot_encode</th><th>flat_model_onehot_encode</th><th>floor_area_sqm_onehot_encode</th><th>remaining_lease_onehot_encode</th><th>resale_price</th></tr>\n",
       "<tr><td>(2,[],[])</td><td>(11,[10],[1.0])</td><td>(25,[8],[1.0])</td><td>(6,[4],[1.0])</td><td>(2386,[104],[1.0])</td><td>(540,[4],[1.0])</td><td>(16,[2],[1.0])</td><td>(18,[1],[1.0])</td><td>(158,[86],[1.0])</td><td>(607,[257],[1.0])</td><td>232000.0</td></tr>\n",
       "<tr><td>(2,[],[])</td><td>(11,[10],[1.0])</td><td>(25,[8],[1.0])</td><td>(6,[2],[1.0])</td><td>(2386,[23],[1.0])</td><td>(540,[20],[1.0])</td><td>(16,[3],[1.0])</td><td>(18,[2],[1.0])</td><td>(158,[0],[1.0])</td><td>(607,[201],[1.0])</td><td>250000.0</td></tr>\n",
       "<tr><td>(2,[],[])</td><td>(11,[10],[1.0])</td><td>(25,[8],[1.0])</td><td>(6,[2],[1.0])</td><td>(2386,[132],[1.0])</td><td>(540,[31],[1.0])</td><td>(16,[3],[1.0])</td><td>(18,[2],[1.0])</td><td>(158,[0],[1.0])</td><td>(607,[349],[1.0])</td><td>262000.0</td></tr>\n",
       "<tr><td>(2,[],[])</td><td>(11,[10],[1.0])</td><td>(25,[8],[1.0])</td><td>(6,[2],[1.0])</td><td>(2386,[399],[1.0])</td><td>(540,[4],[1.0])</td><td>(16,[0],[1.0])</td><td>(18,[2],[1.0])</td><td>(158,[5],[1.0])</td><td>(607,[314],[1.0])</td><td>265000.0</td></tr>\n",
       "<tr><td>(2,[],[])</td><td>(11,[10],[1.0])</td><td>(25,[8],[1.0])</td><td>(6,[2],[1.0])</td><td>(2386,[300],[1.0])</td><td>(540,[31],[1.0])</td><td>(16,[3],[1.0])</td><td>(18,[2],[1.0])</td><td>(158,[0],[1.0])</td><td>(607,[349],[1.0])</td><td>265000.0</td></tr>\n",
       "<tr><td>(2,[],[])</td><td>(11,[10],[1.0])</td><td>(25,[8],[1.0])</td><td>(6,[2],[1.0])</td><td>(2386,[186],[1.0])</td><td>(540,[31],[1.0])</td><td>(16,[3],[1.0])</td><td>(18,[2],[1.0])</td><td>(158,[5],[1.0])</td><td>(607,[363],[1.0])</td><td>275000.0</td></tr>\n",
       "<tr><td>(2,[],[])</td><td>(11,[10],[1.0])</td><td>(25,[8],[1.0])</td><td>(6,[2],[1.0])</td><td>(2386,[549],[1.0])</td><td>(540,[4],[1.0])</td><td>(16,[0],[1.0])</td><td>(18,[2],[1.0])</td><td>(158,[5],[1.0])</td><td>(607,[327],[1.0])</td><td>280000.0</td></tr>\n",
       "<tr><td>(2,[],[])</td><td>(11,[10],[1.0])</td><td>(25,[8],[1.0])</td><td>(6,[2],[1.0])</td><td>(2386,[172],[1.0])</td><td>(540,[30],[1.0])</td><td>(16,[0],[1.0])</td><td>(18,[2],[1.0])</td><td>(158,[0],[1.0])</td><td>(607,[233],[1.0])</td><td>285000.0</td></tr>\n",
       "<tr><td>(2,[],[])</td><td>(11,[10],[1.0])</td><td>(25,[8],[1.0])</td><td>(6,[2],[1.0])</td><td>(2386,[549],[1.0])</td><td>(540,[4],[1.0])</td><td>(16,[0],[1.0])</td><td>(18,[2],[1.0])</td><td>(158,[5],[1.0])</td><td>(607,[327],[1.0])</td><td>285000.0</td></tr>\n",
       "<tr><td>(2,[],[])</td><td>(11,[10],[1.0])</td><td>(25,[8],[1.0])</td><td>(6,[2],[1.0])</td><td>(2386,[576],[1.0])</td><td>(540,[7],[1.0])</td><td>(16,[3],[1.0])</td><td>(18,[2],[1.0])</td><td>(158,[0],[1.0])</td><td>(607,[257],[1.0])</td><td>285000.0</td></tr>\n",
       "</table>\n",
       "only showing top 10 rows\n"
      ],
      "text/plain": [
       "+------------------+-------------------+------------------+-----------------------+-------------------+-------------------------+--------------------------+------------------------+----------------------------+-----------------------------+------------+\n",
       "|year_onehot_encode|month_onehot_encode|town_onehot_encode|flat_type_onehot_encode|block_onehot_encode|street_name_onehot_encode|storey_range_onehot_encode|flat_model_onehot_encode|floor_area_sqm_onehot_encode|remaining_lease_onehot_encode|resale_price|\n",
       "+------------------+-------------------+------------------+-----------------------+-------------------+-------------------------+--------------------------+------------------------+----------------------------+-----------------------------+------------+\n",
       "|         (2,[],[])|    (11,[10],[1.0])|    (25,[8],[1.0])|          (6,[4],[1.0])| (2386,[104],[1.0])|          (540,[4],[1.0])|            (16,[2],[1.0])|          (18,[1],[1.0])|            (158,[86],[1.0])|            (607,[257],[1.0])|    232000.0|\n",
       "|         (2,[],[])|    (11,[10],[1.0])|    (25,[8],[1.0])|          (6,[2],[1.0])|  (2386,[23],[1.0])|         (540,[20],[1.0])|            (16,[3],[1.0])|          (18,[2],[1.0])|             (158,[0],[1.0])|            (607,[201],[1.0])|    250000.0|\n",
       "|         (2,[],[])|    (11,[10],[1.0])|    (25,[8],[1.0])|          (6,[2],[1.0])| (2386,[132],[1.0])|         (540,[31],[1.0])|            (16,[3],[1.0])|          (18,[2],[1.0])|             (158,[0],[1.0])|            (607,[349],[1.0])|    262000.0|\n",
       "|         (2,[],[])|    (11,[10],[1.0])|    (25,[8],[1.0])|          (6,[2],[1.0])| (2386,[399],[1.0])|          (540,[4],[1.0])|            (16,[0],[1.0])|          (18,[2],[1.0])|             (158,[5],[1.0])|            (607,[314],[1.0])|    265000.0|\n",
       "|         (2,[],[])|    (11,[10],[1.0])|    (25,[8],[1.0])|          (6,[2],[1.0])| (2386,[300],[1.0])|         (540,[31],[1.0])|            (16,[3],[1.0])|          (18,[2],[1.0])|             (158,[0],[1.0])|            (607,[349],[1.0])|    265000.0|\n",
       "|         (2,[],[])|    (11,[10],[1.0])|    (25,[8],[1.0])|          (6,[2],[1.0])| (2386,[186],[1.0])|         (540,[31],[1.0])|            (16,[3],[1.0])|          (18,[2],[1.0])|             (158,[5],[1.0])|            (607,[363],[1.0])|    275000.0|\n",
       "|         (2,[],[])|    (11,[10],[1.0])|    (25,[8],[1.0])|          (6,[2],[1.0])| (2386,[549],[1.0])|          (540,[4],[1.0])|            (16,[0],[1.0])|          (18,[2],[1.0])|             (158,[5],[1.0])|            (607,[327],[1.0])|    280000.0|\n",
       "|         (2,[],[])|    (11,[10],[1.0])|    (25,[8],[1.0])|          (6,[2],[1.0])| (2386,[172],[1.0])|         (540,[30],[1.0])|            (16,[0],[1.0])|          (18,[2],[1.0])|             (158,[0],[1.0])|            (607,[233],[1.0])|    285000.0|\n",
       "|         (2,[],[])|    (11,[10],[1.0])|    (25,[8],[1.0])|          (6,[2],[1.0])| (2386,[549],[1.0])|          (540,[4],[1.0])|            (16,[0],[1.0])|          (18,[2],[1.0])|             (158,[5],[1.0])|            (607,[327],[1.0])|    285000.0|\n",
       "|         (2,[],[])|    (11,[10],[1.0])|    (25,[8],[1.0])|          (6,[2],[1.0])| (2386,[576],[1.0])|          (540,[7],[1.0])|            (16,[3],[1.0])|          (18,[2],[1.0])|             (158,[0],[1.0])|            (607,[257],[1.0])|    285000.0|\n",
       "+------------------+-------------------+------------------+-----------------------+-------------------+-------------------------+--------------------------+------------------------+----------------------------+-----------------------------+------------+\n",
       "only showing top 10 rows"
      ]
     },
     "execution_count": 37,
     "metadata": {},
     "output_type": "execute_result"
    }
   ],
   "source": [
    "df_dropped_nulls_ohe = ppl.fit(df_dropped_nulls).transform(df_dropped_nulls)\n",
    "df_dropped_nulls_ohe = df_dropped_nulls_ohe.select('year_onehot_encode', 'month_onehot_encode', 'town_onehot_encode', 'flat_type_onehot_encode', 'block_onehot_encode', 'street_name_onehot_encode', 'storey_range_onehot_encode', 'flat_model_onehot_encode', 'floor_area_sqm_onehot_encode', 'remaining_lease_onehot_encode', 'resale_price')\n",
    "df_dropped_nulls_ohe"
   ]
  },
  {
   "cell_type": "code",
   "execution_count": 38,
   "metadata": {},
   "outputs": [
    {
     "data": {
      "text/html": [
       "<table border='1'>\n",
       "<tr><th>year_onehot_encode</th><th>month_onehot_encode</th><th>town_onehot_encode</th><th>flat_type_onehot_encode</th><th>block_onehot_encode</th><th>street_name_onehot_encode</th><th>storey_range_onehot_encode</th><th>flat_model_onehot_encode</th><th>floor_area_sqm_onehot_encode</th><th>remaining_lease_onehot_encode</th><th>resale_price</th></tr>\n",
       "<tr><td>(2,[],[])</td><td>(11,[10],[1.0])</td><td>(25,[8],[1.0])</td><td>(6,[4],[1.0])</td><td>(2386,[104],[1.0])</td><td>(540,[4],[1.0])</td><td>(16,[2],[1.0])</td><td>(18,[1],[1.0])</td><td>(159,[86],[1.0])</td><td>(607,[257],[1.0])</td><td>232000.0</td></tr>\n",
       "<tr><td>(2,[],[])</td><td>(11,[10],[1.0])</td><td>(25,[8],[1.0])</td><td>(6,[2],[1.0])</td><td>(2386,[23],[1.0])</td><td>(540,[20],[1.0])</td><td>(16,[3],[1.0])</td><td>(18,[2],[1.0])</td><td>(159,[0],[1.0])</td><td>(607,[201],[1.0])</td><td>250000.0</td></tr>\n",
       "<tr><td>(2,[],[])</td><td>(11,[10],[1.0])</td><td>(25,[8],[1.0])</td><td>(6,[2],[1.0])</td><td>(2386,[132],[1.0])</td><td>(540,[31],[1.0])</td><td>(16,[3],[1.0])</td><td>(18,[2],[1.0])</td><td>(159,[0],[1.0])</td><td>(607,[349],[1.0])</td><td>262000.0</td></tr>\n",
       "<tr><td>(2,[],[])</td><td>(11,[10],[1.0])</td><td>(25,[8],[1.0])</td><td>(6,[2],[1.0])</td><td>(2386,[399],[1.0])</td><td>(540,[4],[1.0])</td><td>(16,[0],[1.0])</td><td>(18,[2],[1.0])</td><td>(159,[5],[1.0])</td><td>(607,[313],[1.0])</td><td>265000.0</td></tr>\n",
       "<tr><td>(2,[],[])</td><td>(11,[10],[1.0])</td><td>(25,[8],[1.0])</td><td>(6,[2],[1.0])</td><td>(2386,[300],[1.0])</td><td>(540,[31],[1.0])</td><td>(16,[3],[1.0])</td><td>(18,[2],[1.0])</td><td>(159,[0],[1.0])</td><td>(607,[349],[1.0])</td><td>265000.0</td></tr>\n",
       "<tr><td>(2,[],[])</td><td>(11,[10],[1.0])</td><td>(25,[8],[1.0])</td><td>(6,[2],[1.0])</td><td>(2386,[186],[1.0])</td><td>(540,[31],[1.0])</td><td>(16,[3],[1.0])</td><td>(18,[2],[1.0])</td><td>(159,[5],[1.0])</td><td>(607,[364],[1.0])</td><td>275000.0</td></tr>\n",
       "<tr><td>(2,[],[])</td><td>(11,[10],[1.0])</td><td>(25,[8],[1.0])</td><td>(6,[2],[1.0])</td><td>(2386,[549],[1.0])</td><td>(540,[4],[1.0])</td><td>(16,[0],[1.0])</td><td>(18,[2],[1.0])</td><td>(159,[5],[1.0])</td><td>(607,[327],[1.0])</td><td>280000.0</td></tr>\n",
       "<tr><td>(2,[],[])</td><td>(11,[10],[1.0])</td><td>(25,[8],[1.0])</td><td>(6,[2],[1.0])</td><td>(2386,[172],[1.0])</td><td>(540,[30],[1.0])</td><td>(16,[0],[1.0])</td><td>(18,[2],[1.0])</td><td>(159,[0],[1.0])</td><td>(607,[233],[1.0])</td><td>285000.0</td></tr>\n",
       "<tr><td>(2,[],[])</td><td>(11,[10],[1.0])</td><td>(25,[8],[1.0])</td><td>(6,[2],[1.0])</td><td>(2386,[549],[1.0])</td><td>(540,[4],[1.0])</td><td>(16,[0],[1.0])</td><td>(18,[2],[1.0])</td><td>(159,[5],[1.0])</td><td>(607,[327],[1.0])</td><td>285000.0</td></tr>\n",
       "<tr><td>(2,[],[])</td><td>(11,[10],[1.0])</td><td>(25,[8],[1.0])</td><td>(6,[2],[1.0])</td><td>(2386,[576],[1.0])</td><td>(540,[7],[1.0])</td><td>(16,[3],[1.0])</td><td>(18,[2],[1.0])</td><td>(159,[0],[1.0])</td><td>(607,[257],[1.0])</td><td>285000.0</td></tr>\n",
       "</table>\n",
       "only showing top 10 rows\n"
      ],
      "text/plain": [
       "+------------------+-------------------+------------------+-----------------------+-------------------+-------------------------+--------------------------+------------------------+----------------------------+-----------------------------+------------+\n",
       "|year_onehot_encode|month_onehot_encode|town_onehot_encode|flat_type_onehot_encode|block_onehot_encode|street_name_onehot_encode|storey_range_onehot_encode|flat_model_onehot_encode|floor_area_sqm_onehot_encode|remaining_lease_onehot_encode|resale_price|\n",
       "+------------------+-------------------+------------------+-----------------------+-------------------+-------------------------+--------------------------+------------------------+----------------------------+-----------------------------+------------+\n",
       "|         (2,[],[])|    (11,[10],[1.0])|    (25,[8],[1.0])|          (6,[4],[1.0])| (2386,[104],[1.0])|          (540,[4],[1.0])|            (16,[2],[1.0])|          (18,[1],[1.0])|            (159,[86],[1.0])|            (607,[257],[1.0])|    232000.0|\n",
       "|         (2,[],[])|    (11,[10],[1.0])|    (25,[8],[1.0])|          (6,[2],[1.0])|  (2386,[23],[1.0])|         (540,[20],[1.0])|            (16,[3],[1.0])|          (18,[2],[1.0])|             (159,[0],[1.0])|            (607,[201],[1.0])|    250000.0|\n",
       "|         (2,[],[])|    (11,[10],[1.0])|    (25,[8],[1.0])|          (6,[2],[1.0])| (2386,[132],[1.0])|         (540,[31],[1.0])|            (16,[3],[1.0])|          (18,[2],[1.0])|             (159,[0],[1.0])|            (607,[349],[1.0])|    262000.0|\n",
       "|         (2,[],[])|    (11,[10],[1.0])|    (25,[8],[1.0])|          (6,[2],[1.0])| (2386,[399],[1.0])|          (540,[4],[1.0])|            (16,[0],[1.0])|          (18,[2],[1.0])|             (159,[5],[1.0])|            (607,[313],[1.0])|    265000.0|\n",
       "|         (2,[],[])|    (11,[10],[1.0])|    (25,[8],[1.0])|          (6,[2],[1.0])| (2386,[300],[1.0])|         (540,[31],[1.0])|            (16,[3],[1.0])|          (18,[2],[1.0])|             (159,[0],[1.0])|            (607,[349],[1.0])|    265000.0|\n",
       "|         (2,[],[])|    (11,[10],[1.0])|    (25,[8],[1.0])|          (6,[2],[1.0])| (2386,[186],[1.0])|         (540,[31],[1.0])|            (16,[3],[1.0])|          (18,[2],[1.0])|             (159,[5],[1.0])|            (607,[364],[1.0])|    275000.0|\n",
       "|         (2,[],[])|    (11,[10],[1.0])|    (25,[8],[1.0])|          (6,[2],[1.0])| (2386,[549],[1.0])|          (540,[4],[1.0])|            (16,[0],[1.0])|          (18,[2],[1.0])|             (159,[5],[1.0])|            (607,[327],[1.0])|    280000.0|\n",
       "|         (2,[],[])|    (11,[10],[1.0])|    (25,[8],[1.0])|          (6,[2],[1.0])| (2386,[172],[1.0])|         (540,[30],[1.0])|            (16,[0],[1.0])|          (18,[2],[1.0])|             (159,[0],[1.0])|            (607,[233],[1.0])|    285000.0|\n",
       "|         (2,[],[])|    (11,[10],[1.0])|    (25,[8],[1.0])|          (6,[2],[1.0])| (2386,[549],[1.0])|          (540,[4],[1.0])|            (16,[0],[1.0])|          (18,[2],[1.0])|             (159,[5],[1.0])|            (607,[327],[1.0])|    285000.0|\n",
       "|         (2,[],[])|    (11,[10],[1.0])|    (25,[8],[1.0])|          (6,[2],[1.0])| (2386,[576],[1.0])|          (540,[7],[1.0])|            (16,[3],[1.0])|          (18,[2],[1.0])|             (159,[0],[1.0])|            (607,[257],[1.0])|    285000.0|\n",
       "+------------------+-------------------+------------------+-----------------------+-------------------+-------------------------+--------------------------+------------------------+----------------------------+-----------------------------+------------+\n",
       "only showing top 10 rows"
      ]
     },
     "execution_count": 38,
     "metadata": {},
     "output_type": "execute_result"
    }
   ],
   "source": [
    "df_impute_mean_ohe = ppl.fit(df_impute_mean).transform(df_impute_mean)\n",
    "df_impute_mean_ohe = df_impute_mean_ohe.select('year_onehot_encode', 'month_onehot_encode', 'town_onehot_encode', 'flat_type_onehot_encode', 'block_onehot_encode', 'street_name_onehot_encode', 'storey_range_onehot_encode', 'flat_model_onehot_encode', 'floor_area_sqm_onehot_encode', 'remaining_lease_onehot_encode', 'resale_price')\n",
    "df_impute_mean_ohe"
   ]
  },
  {
   "cell_type": "code",
   "execution_count": 39,
   "metadata": {},
   "outputs": [
    {
     "data": {
      "text/html": [
       "<table border='1'>\n",
       "<tr><th>year_onehot_encode</th><th>month_onehot_encode</th><th>town_onehot_encode</th><th>flat_type_onehot_encode</th><th>block_onehot_encode</th><th>street_name_onehot_encode</th><th>storey_range_onehot_encode</th><th>flat_model_onehot_encode</th><th>floor_area_sqm_onehot_encode</th><th>remaining_lease_onehot_encode</th><th>resale_price</th></tr>\n",
       "<tr><td>(2,[],[])</td><td>(11,[10],[1.0])</td><td>(25,[8],[1.0])</td><td>(6,[4],[1.0])</td><td>(2386,[104],[1.0])</td><td>(540,[4],[1.0])</td><td>(16,[2],[1.0])</td><td>(18,[1],[1.0])</td><td>(158,[86],[1.0])</td><td>(607,[257],[1.0])</td><td>232000.0</td></tr>\n",
       "<tr><td>(2,[],[])</td><td>(11,[10],[1.0])</td><td>(25,[8],[1.0])</td><td>(6,[2],[1.0])</td><td>(2386,[23],[1.0])</td><td>(540,[20],[1.0])</td><td>(16,[3],[1.0])</td><td>(18,[2],[1.0])</td><td>(158,[0],[1.0])</td><td>(607,[201],[1.0])</td><td>250000.0</td></tr>\n",
       "<tr><td>(2,[],[])</td><td>(11,[10],[1.0])</td><td>(25,[8],[1.0])</td><td>(6,[2],[1.0])</td><td>(2386,[132],[1.0])</td><td>(540,[31],[1.0])</td><td>(16,[3],[1.0])</td><td>(18,[2],[1.0])</td><td>(158,[0],[1.0])</td><td>(607,[349],[1.0])</td><td>262000.0</td></tr>\n",
       "<tr><td>(2,[],[])</td><td>(11,[10],[1.0])</td><td>(25,[8],[1.0])</td><td>(6,[2],[1.0])</td><td>(2386,[399],[1.0])</td><td>(540,[4],[1.0])</td><td>(16,[0],[1.0])</td><td>(18,[2],[1.0])</td><td>(158,[5],[1.0])</td><td>(607,[313],[1.0])</td><td>265000.0</td></tr>\n",
       "<tr><td>(2,[],[])</td><td>(11,[10],[1.0])</td><td>(25,[8],[1.0])</td><td>(6,[2],[1.0])</td><td>(2386,[300],[1.0])</td><td>(540,[31],[1.0])</td><td>(16,[3],[1.0])</td><td>(18,[2],[1.0])</td><td>(158,[0],[1.0])</td><td>(607,[349],[1.0])</td><td>265000.0</td></tr>\n",
       "<tr><td>(2,[],[])</td><td>(11,[10],[1.0])</td><td>(25,[8],[1.0])</td><td>(6,[2],[1.0])</td><td>(2386,[186],[1.0])</td><td>(540,[31],[1.0])</td><td>(16,[3],[1.0])</td><td>(18,[2],[1.0])</td><td>(158,[5],[1.0])</td><td>(607,[364],[1.0])</td><td>275000.0</td></tr>\n",
       "<tr><td>(2,[],[])</td><td>(11,[10],[1.0])</td><td>(25,[8],[1.0])</td><td>(6,[2],[1.0])</td><td>(2386,[549],[1.0])</td><td>(540,[4],[1.0])</td><td>(16,[0],[1.0])</td><td>(18,[2],[1.0])</td><td>(158,[5],[1.0])</td><td>(607,[327],[1.0])</td><td>280000.0</td></tr>\n",
       "<tr><td>(2,[],[])</td><td>(11,[10],[1.0])</td><td>(25,[8],[1.0])</td><td>(6,[2],[1.0])</td><td>(2386,[172],[1.0])</td><td>(540,[30],[1.0])</td><td>(16,[0],[1.0])</td><td>(18,[2],[1.0])</td><td>(158,[0],[1.0])</td><td>(607,[233],[1.0])</td><td>285000.0</td></tr>\n",
       "<tr><td>(2,[],[])</td><td>(11,[10],[1.0])</td><td>(25,[8],[1.0])</td><td>(6,[2],[1.0])</td><td>(2386,[549],[1.0])</td><td>(540,[4],[1.0])</td><td>(16,[0],[1.0])</td><td>(18,[2],[1.0])</td><td>(158,[5],[1.0])</td><td>(607,[327],[1.0])</td><td>285000.0</td></tr>\n",
       "<tr><td>(2,[],[])</td><td>(11,[10],[1.0])</td><td>(25,[8],[1.0])</td><td>(6,[2],[1.0])</td><td>(2386,[576],[1.0])</td><td>(540,[7],[1.0])</td><td>(16,[3],[1.0])</td><td>(18,[2],[1.0])</td><td>(158,[0],[1.0])</td><td>(607,[257],[1.0])</td><td>285000.0</td></tr>\n",
       "</table>\n",
       "only showing top 10 rows\n"
      ],
      "text/plain": [
       "+------------------+-------------------+------------------+-----------------------+-------------------+-------------------------+--------------------------+------------------------+----------------------------+-----------------------------+------------+\n",
       "|year_onehot_encode|month_onehot_encode|town_onehot_encode|flat_type_onehot_encode|block_onehot_encode|street_name_onehot_encode|storey_range_onehot_encode|flat_model_onehot_encode|floor_area_sqm_onehot_encode|remaining_lease_onehot_encode|resale_price|\n",
       "+------------------+-------------------+------------------+-----------------------+-------------------+-------------------------+--------------------------+------------------------+----------------------------+-----------------------------+------------+\n",
       "|         (2,[],[])|    (11,[10],[1.0])|    (25,[8],[1.0])|          (6,[4],[1.0])| (2386,[104],[1.0])|          (540,[4],[1.0])|            (16,[2],[1.0])|          (18,[1],[1.0])|            (158,[86],[1.0])|            (607,[257],[1.0])|    232000.0|\n",
       "|         (2,[],[])|    (11,[10],[1.0])|    (25,[8],[1.0])|          (6,[2],[1.0])|  (2386,[23],[1.0])|         (540,[20],[1.0])|            (16,[3],[1.0])|          (18,[2],[1.0])|             (158,[0],[1.0])|            (607,[201],[1.0])|    250000.0|\n",
       "|         (2,[],[])|    (11,[10],[1.0])|    (25,[8],[1.0])|          (6,[2],[1.0])| (2386,[132],[1.0])|         (540,[31],[1.0])|            (16,[3],[1.0])|          (18,[2],[1.0])|             (158,[0],[1.0])|            (607,[349],[1.0])|    262000.0|\n",
       "|         (2,[],[])|    (11,[10],[1.0])|    (25,[8],[1.0])|          (6,[2],[1.0])| (2386,[399],[1.0])|          (540,[4],[1.0])|            (16,[0],[1.0])|          (18,[2],[1.0])|             (158,[5],[1.0])|            (607,[313],[1.0])|    265000.0|\n",
       "|         (2,[],[])|    (11,[10],[1.0])|    (25,[8],[1.0])|          (6,[2],[1.0])| (2386,[300],[1.0])|         (540,[31],[1.0])|            (16,[3],[1.0])|          (18,[2],[1.0])|             (158,[0],[1.0])|            (607,[349],[1.0])|    265000.0|\n",
       "|         (2,[],[])|    (11,[10],[1.0])|    (25,[8],[1.0])|          (6,[2],[1.0])| (2386,[186],[1.0])|         (540,[31],[1.0])|            (16,[3],[1.0])|          (18,[2],[1.0])|             (158,[5],[1.0])|            (607,[364],[1.0])|    275000.0|\n",
       "|         (2,[],[])|    (11,[10],[1.0])|    (25,[8],[1.0])|          (6,[2],[1.0])| (2386,[549],[1.0])|          (540,[4],[1.0])|            (16,[0],[1.0])|          (18,[2],[1.0])|             (158,[5],[1.0])|            (607,[327],[1.0])|    280000.0|\n",
       "|         (2,[],[])|    (11,[10],[1.0])|    (25,[8],[1.0])|          (6,[2],[1.0])| (2386,[172],[1.0])|         (540,[30],[1.0])|            (16,[0],[1.0])|          (18,[2],[1.0])|             (158,[0],[1.0])|            (607,[233],[1.0])|    285000.0|\n",
       "|         (2,[],[])|    (11,[10],[1.0])|    (25,[8],[1.0])|          (6,[2],[1.0])| (2386,[549],[1.0])|          (540,[4],[1.0])|            (16,[0],[1.0])|          (18,[2],[1.0])|             (158,[5],[1.0])|            (607,[327],[1.0])|    285000.0|\n",
       "|         (2,[],[])|    (11,[10],[1.0])|    (25,[8],[1.0])|          (6,[2],[1.0])| (2386,[576],[1.0])|          (540,[7],[1.0])|            (16,[3],[1.0])|          (18,[2],[1.0])|             (158,[0],[1.0])|            (607,[257],[1.0])|    285000.0|\n",
       "+------------------+-------------------+------------------+-----------------------+-------------------+-------------------------+--------------------------+------------------------+----------------------------+-----------------------------+------------+\n",
       "only showing top 10 rows"
      ]
     },
     "execution_count": 39,
     "metadata": {},
     "output_type": "execute_result"
    }
   ],
   "source": [
    "df_impute_median_ohe = ppl.fit(df_impute_median).transform(df_impute_median)\n",
    "df_impute_median_ohe = df_impute_median_ohe.select('year_onehot_encode', 'month_onehot_encode', 'town_onehot_encode', 'flat_type_onehot_encode', 'block_onehot_encode', 'street_name_onehot_encode', 'storey_range_onehot_encode', 'flat_model_onehot_encode', 'floor_area_sqm_onehot_encode', 'remaining_lease_onehot_encode', 'resale_price')\n",
    "df_impute_median_ohe"
   ]
  },
  {
   "cell_type": "code",
   "execution_count": 40,
   "metadata": {
    "scrolled": true
   },
   "outputs": [
    {
     "data": {
      "text/html": [
       "<table border='1'>\n",
       "<tr><th>year_onehot_encode</th><th>month_onehot_encode</th><th>town_onehot_encode</th><th>flat_type_onehot_encode</th><th>block_onehot_encode</th><th>street_name_onehot_encode</th><th>storey_range_onehot_encode</th><th>flat_model_onehot_encode</th><th>floor_area_sqm_onehot_encode</th><th>remaining_lease_onehot_encode</th><th>resale_price</th></tr>\n",
       "<tr><td>(2,[],[])</td><td>(11,[10],[1.0])</td><td>(25,[8],[1.0])</td><td>(6,[4],[1.0])</td><td>(2386,[104],[1.0])</td><td>(540,[4],[1.0])</td><td>(16,[2],[1.0])</td><td>(18,[1],[1.0])</td><td>(158,[86],[1.0])</td><td>(607,[257],[1.0])</td><td>232000.0</td></tr>\n",
       "<tr><td>(2,[],[])</td><td>(11,[10],[1.0])</td><td>(25,[8],[1.0])</td><td>(6,[2],[1.0])</td><td>(2386,[23],[1.0])</td><td>(540,[20],[1.0])</td><td>(16,[3],[1.0])</td><td>(18,[2],[1.0])</td><td>(158,[0],[1.0])</td><td>(607,[201],[1.0])</td><td>250000.0</td></tr>\n",
       "<tr><td>(2,[],[])</td><td>(11,[10],[1.0])</td><td>(25,[8],[1.0])</td><td>(6,[2],[1.0])</td><td>(2386,[132],[1.0])</td><td>(540,[31],[1.0])</td><td>(16,[3],[1.0])</td><td>(18,[2],[1.0])</td><td>(158,[0],[1.0])</td><td>(607,[349],[1.0])</td><td>262000.0</td></tr>\n",
       "<tr><td>(2,[],[])</td><td>(11,[10],[1.0])</td><td>(25,[8],[1.0])</td><td>(6,[2],[1.0])</td><td>(2386,[399],[1.0])</td><td>(540,[4],[1.0])</td><td>(16,[0],[1.0])</td><td>(18,[2],[1.0])</td><td>(158,[5],[1.0])</td><td>(607,[313],[1.0])</td><td>265000.0</td></tr>\n",
       "<tr><td>(2,[],[])</td><td>(11,[10],[1.0])</td><td>(25,[8],[1.0])</td><td>(6,[2],[1.0])</td><td>(2386,[300],[1.0])</td><td>(540,[31],[1.0])</td><td>(16,[3],[1.0])</td><td>(18,[2],[1.0])</td><td>(158,[0],[1.0])</td><td>(607,[349],[1.0])</td><td>265000.0</td></tr>\n",
       "<tr><td>(2,[],[])</td><td>(11,[10],[1.0])</td><td>(25,[8],[1.0])</td><td>(6,[2],[1.0])</td><td>(2386,[186],[1.0])</td><td>(540,[31],[1.0])</td><td>(16,[3],[1.0])</td><td>(18,[2],[1.0])</td><td>(158,[5],[1.0])</td><td>(607,[364],[1.0])</td><td>275000.0</td></tr>\n",
       "<tr><td>(2,[],[])</td><td>(11,[10],[1.0])</td><td>(25,[8],[1.0])</td><td>(6,[2],[1.0])</td><td>(2386,[549],[1.0])</td><td>(540,[4],[1.0])</td><td>(16,[0],[1.0])</td><td>(18,[2],[1.0])</td><td>(158,[5],[1.0])</td><td>(607,[327],[1.0])</td><td>280000.0</td></tr>\n",
       "<tr><td>(2,[],[])</td><td>(11,[10],[1.0])</td><td>(25,[8],[1.0])</td><td>(6,[2],[1.0])</td><td>(2386,[172],[1.0])</td><td>(540,[30],[1.0])</td><td>(16,[0],[1.0])</td><td>(18,[2],[1.0])</td><td>(158,[0],[1.0])</td><td>(607,[233],[1.0])</td><td>285000.0</td></tr>\n",
       "<tr><td>(2,[],[])</td><td>(11,[10],[1.0])</td><td>(25,[8],[1.0])</td><td>(6,[2],[1.0])</td><td>(2386,[549],[1.0])</td><td>(540,[4],[1.0])</td><td>(16,[0],[1.0])</td><td>(18,[2],[1.0])</td><td>(158,[5],[1.0])</td><td>(607,[327],[1.0])</td><td>285000.0</td></tr>\n",
       "<tr><td>(2,[],[])</td><td>(11,[10],[1.0])</td><td>(25,[8],[1.0])</td><td>(6,[2],[1.0])</td><td>(2386,[576],[1.0])</td><td>(540,[7],[1.0])</td><td>(16,[3],[1.0])</td><td>(18,[2],[1.0])</td><td>(158,[0],[1.0])</td><td>(607,[257],[1.0])</td><td>285000.0</td></tr>\n",
       "</table>\n",
       "only showing top 10 rows\n"
      ],
      "text/plain": [
       "+------------------+-------------------+------------------+-----------------------+-------------------+-------------------------+--------------------------+------------------------+----------------------------+-----------------------------+------------+\n",
       "|year_onehot_encode|month_onehot_encode|town_onehot_encode|flat_type_onehot_encode|block_onehot_encode|street_name_onehot_encode|storey_range_onehot_encode|flat_model_onehot_encode|floor_area_sqm_onehot_encode|remaining_lease_onehot_encode|resale_price|\n",
       "+------------------+-------------------+------------------+-----------------------+-------------------+-------------------------+--------------------------+------------------------+----------------------------+-----------------------------+------------+\n",
       "|         (2,[],[])|    (11,[10],[1.0])|    (25,[8],[1.0])|          (6,[4],[1.0])| (2386,[104],[1.0])|          (540,[4],[1.0])|            (16,[2],[1.0])|          (18,[1],[1.0])|            (158,[86],[1.0])|            (607,[257],[1.0])|    232000.0|\n",
       "|         (2,[],[])|    (11,[10],[1.0])|    (25,[8],[1.0])|          (6,[2],[1.0])|  (2386,[23],[1.0])|         (540,[20],[1.0])|            (16,[3],[1.0])|          (18,[2],[1.0])|             (158,[0],[1.0])|            (607,[201],[1.0])|    250000.0|\n",
       "|         (2,[],[])|    (11,[10],[1.0])|    (25,[8],[1.0])|          (6,[2],[1.0])| (2386,[132],[1.0])|         (540,[31],[1.0])|            (16,[3],[1.0])|          (18,[2],[1.0])|             (158,[0],[1.0])|            (607,[349],[1.0])|    262000.0|\n",
       "|         (2,[],[])|    (11,[10],[1.0])|    (25,[8],[1.0])|          (6,[2],[1.0])| (2386,[399],[1.0])|          (540,[4],[1.0])|            (16,[0],[1.0])|          (18,[2],[1.0])|             (158,[5],[1.0])|            (607,[313],[1.0])|    265000.0|\n",
       "|         (2,[],[])|    (11,[10],[1.0])|    (25,[8],[1.0])|          (6,[2],[1.0])| (2386,[300],[1.0])|         (540,[31],[1.0])|            (16,[3],[1.0])|          (18,[2],[1.0])|             (158,[0],[1.0])|            (607,[349],[1.0])|    265000.0|\n",
       "|         (2,[],[])|    (11,[10],[1.0])|    (25,[8],[1.0])|          (6,[2],[1.0])| (2386,[186],[1.0])|         (540,[31],[1.0])|            (16,[3],[1.0])|          (18,[2],[1.0])|             (158,[5],[1.0])|            (607,[364],[1.0])|    275000.0|\n",
       "|         (2,[],[])|    (11,[10],[1.0])|    (25,[8],[1.0])|          (6,[2],[1.0])| (2386,[549],[1.0])|          (540,[4],[1.0])|            (16,[0],[1.0])|          (18,[2],[1.0])|             (158,[5],[1.0])|            (607,[327],[1.0])|    280000.0|\n",
       "|         (2,[],[])|    (11,[10],[1.0])|    (25,[8],[1.0])|          (6,[2],[1.0])| (2386,[172],[1.0])|         (540,[30],[1.0])|            (16,[0],[1.0])|          (18,[2],[1.0])|             (158,[0],[1.0])|            (607,[233],[1.0])|    285000.0|\n",
       "|         (2,[],[])|    (11,[10],[1.0])|    (25,[8],[1.0])|          (6,[2],[1.0])| (2386,[549],[1.0])|          (540,[4],[1.0])|            (16,[0],[1.0])|          (18,[2],[1.0])|             (158,[5],[1.0])|            (607,[327],[1.0])|    285000.0|\n",
       "|         (2,[],[])|    (11,[10],[1.0])|    (25,[8],[1.0])|          (6,[2],[1.0])| (2386,[576],[1.0])|          (540,[7],[1.0])|            (16,[3],[1.0])|          (18,[2],[1.0])|             (158,[0],[1.0])|            (607,[257],[1.0])|    285000.0|\n",
       "+------------------+-------------------+------------------+-----------------------+-------------------+-------------------------+--------------------------+------------------------+----------------------------+-----------------------------+------------+\n",
       "only showing top 10 rows"
      ]
     },
     "execution_count": 40,
     "metadata": {},
     "output_type": "execute_result"
    }
   ],
   "source": [
    "df_replaced_nulls_ohe = ppl.fit(df_replaced_nulls).transform(df_replaced_nulls)\n",
    "df_replaced_nulls_ohe = df_replaced_nulls_ohe.select('year_onehot_encode', 'month_onehot_encode', 'town_onehot_encode', 'flat_type_onehot_encode', 'block_onehot_encode', 'street_name_onehot_encode', 'storey_range_onehot_encode', 'flat_model_onehot_encode', 'floor_area_sqm_onehot_encode', 'remaining_lease_onehot_encode', 'resale_price')\n",
    "df_replaced_nulls_ohe"
   ]
  },
  {
   "cell_type": "markdown",
   "metadata": {},
   "source": [
    "# 4. Machine Learning Modelling <a id='4'></a>\n",
    "[Back to top](#top)"
   ]
  },
  {
   "cell_type": "code",
   "execution_count": 41,
   "metadata": {},
   "outputs": [],
   "source": [
    "# how to we train or test our models?"
   ]
  },
  {
   "cell_type": "markdown",
   "metadata": {},
   "source": [
    "## 4.1 Train test <a id='4.1'></a>\n",
    "[Back to top](#top)"
   ]
  },
  {
   "cell_type": "code",
   "execution_count": 42,
   "metadata": {},
   "outputs": [],
   "source": [
    "# train test for df_dropped_nulls_ohe\n",
    "(df_dropped_train, df_dropped_test) = df_dropped_nulls_ohe.randomSplit([0.7, 0.3], seed=42)"
   ]
  },
  {
   "cell_type": "code",
   "execution_count": 43,
   "metadata": {},
   "outputs": [],
   "source": [
    "# train test for df_impute_mean_ohe\n",
    "(df_mean_train, df_mean_test) = df_impute_mean_ohe.randomSplit([0.7, 0.3], seed=42)"
   ]
  },
  {
   "cell_type": "code",
   "execution_count": 44,
   "metadata": {},
   "outputs": [],
   "source": [
    "# train test for df_impute_median_ohe\n",
    "(df_median_train, df_median_test) = df_impute_median_ohe.randomSplit([0.7, 0.3], seed=42)"
   ]
  },
  {
   "cell_type": "code",
   "execution_count": 45,
   "metadata": {},
   "outputs": [],
   "source": [
    "# train test for df_replaced_nulls_ohe\n",
    "(df_replaced_train, df_replaced_test) = df_replaced_nulls_ohe.randomSplit([0.7, 0.3], seed=42)"
   ]
  },
  {
   "cell_type": "markdown",
   "metadata": {},
   "source": [
    "## 4.2 X column split <a id='4.2'></a>\n",
    "[Back to top](#top)"
   ]
  },
  {
   "cell_type": "code",
   "execution_count": 46,
   "metadata": {},
   "outputs": [],
   "source": [
    "featureassembler=VectorAssembler(inputCols=df_dropped_nulls_ohe.columns[:-1],outputCol=\"Xcols\")"
   ]
  },
  {
   "cell_type": "code",
   "execution_count": 47,
   "metadata": {
    "scrolled": false
   },
   "outputs": [
    {
     "data": {
      "text/html": [
       "<table border='1'>\n",
       "<tr><th>year_onehot_encode</th><th>month_onehot_encode</th><th>town_onehot_encode</th><th>flat_type_onehot_encode</th><th>block_onehot_encode</th><th>street_name_onehot_encode</th><th>storey_range_onehot_encode</th><th>flat_model_onehot_encode</th><th>floor_area_sqm_onehot_encode</th><th>remaining_lease_onehot_encode</th><th>resale_price</th><th>Xcols</th></tr>\n",
       "<tr><td>(2,[],[])</td><td>(11,[],[])</td><td>(25,[],[])</td><td>(6,[1],[1.0])</td><td>(2386,[22],[1.0])</td><td>(540,[182],[1.0])</td><td>(16,[1],[1.0])</td><td>(18,[1],[1.0])</td><td>(158,[11],[1.0])</td><td>(607,[449],[1.0])</td><td>790000.0</td><td>(3769,[39,66,2612...</td></tr>\n",
       "<tr><td>(2,[],[])</td><td>(11,[],[])</td><td>(25,[],[])</td><td>(6,[1],[1.0])</td><td>(2386,[22],[1.0])</td><td>(540,[182],[1.0])</td><td>(16,[2],[1.0])</td><td>(18,[1],[1.0])</td><td>(158,[11],[1.0])</td><td>(607,[449],[1.0])</td><td>810000.0</td><td>(3769,[39,66,2612...</td></tr>\n",
       "<tr><td>(2,[],[])</td><td>(11,[],[])</td><td>(25,[],[])</td><td>(6,[2],[1.0])</td><td>(2386,[27],[1.0])</td><td>(540,[392],[1.0])</td><td>(16,[1],[1.0])</td><td>(18,[1],[1.0])</td><td>(158,[15],[1.0])</td><td>(607,[394],[1.0])</td><td>425000.0</td><td>(3769,[40,71,2822...</td></tr>\n",
       "<tr><td>(2,[],[])</td><td>(11,[],[])</td><td>(25,[],[])</td><td>(6,[3],[1.0])</td><td>(2386,[15],[1.0])</td><td>(540,[182],[1.0])</td><td>(16,[0],[1.0])</td><td>(18,[6],[1.0])</td><td>(158,[22],[1.0])</td><td>(607,[473],[1.0])</td><td>910000.0</td><td>(3769,[41,59,2612...</td></tr>\n",
       "<tr><td>(2,[],[])</td><td>(11,[],[])</td><td>(25,[0],[1.0])</td><td>(6,[0],[1.0])</td><td>(2386,[1],[1.0])</td><td>(540,[21],[1.0])</td><td>(16,[2],[1.0])</td><td>(18,[1],[1.0])</td><td>(158,[46],[1.0])</td><td>(607,[267],[1.0])</td><td>280000.0</td><td>(3769,[13,38,45,2...</td></tr>\n",
       "<tr><td>(2,[],[])</td><td>(11,[],[])</td><td>(25,[0],[1.0])</td><td>(6,[0],[1.0])</td><td>(2386,[143],[1.0])</td><td>(540,[109],[1.0])</td><td>(16,[3],[1.0])</td><td>(18,[2],[1.0])</td><td>(158,[3],[1.0])</td><td>(607,[177],[1.0])</td><td>360000.0</td><td>(3769,[13,38,187,...</td></tr>\n",
       "<tr><td>(2,[],[])</td><td>(11,[],[])</td><td>(25,[0],[1.0])</td><td>(6,[0],[1.0])</td><td>(2386,[326],[1.0])</td><td>(540,[109],[1.0])</td><td>(16,[3],[1.0])</td><td>(18,[4],[1.0])</td><td>(158,[9],[1.0])</td><td>(607,[67],[1.0])</td><td>295000.0</td><td>(3769,[13,38,370,...</td></tr>\n",
       "<tr><td>(2,[],[])</td><td>(11,[],[])</td><td>(25,[0],[1.0])</td><td>(6,[0],[1.0])</td><td>(2386,[348],[1.0])</td><td>(540,[285],[1.0])</td><td>(16,[2],[1.0])</td><td>(18,[9],[1.0])</td><td>(158,[2],[1.0])</td><td>(607,[154],[1.0])</td><td>325000.0</td><td>(3769,[13,38,392,...</td></tr>\n",
       "<tr><td>(2,[],[])</td><td>(11,[],[])</td><td>(25,[0],[1.0])</td><td>(6,[0],[1.0])</td><td>(2386,[348],[1.0])</td><td>(540,[285],[1.0])</td><td>(16,[2],[1.0])</td><td>(18,[9],[1.0])</td><td>(158,[7],[1.0])</td><td>(607,[154],[1.0])</td><td>320000.0</td><td>(3769,[13,38,392,...</td></tr>\n",
       "<tr><td>(2,[],[])</td><td>(11,[],[])</td><td>(25,[0],[1.0])</td><td>(6,[0],[1.0])</td><td>(2386,[440],[1.0])</td><td>(540,[362],[1.0])</td><td>(16,[1],[1.0])</td><td>(18,[0],[1.0])</td><td>(158,[23],[1.0])</td><td>(607,[42],[1.0])</td><td>371000.0</td><td>(3769,[13,38,484,...</td></tr>\n",
       "</table>\n",
       "only showing top 10 rows\n"
      ],
      "text/plain": [
       "+------------------+-------------------+------------------+-----------------------+-------------------+-------------------------+--------------------------+------------------------+----------------------------+-----------------------------+------------+--------------------+\n",
       "|year_onehot_encode|month_onehot_encode|town_onehot_encode|flat_type_onehot_encode|block_onehot_encode|street_name_onehot_encode|storey_range_onehot_encode|flat_model_onehot_encode|floor_area_sqm_onehot_encode|remaining_lease_onehot_encode|resale_price|               Xcols|\n",
       "+------------------+-------------------+------------------+-----------------------+-------------------+-------------------------+--------------------------+------------------------+----------------------------+-----------------------------+------------+--------------------+\n",
       "|         (2,[],[])|         (11,[],[])|        (25,[],[])|          (6,[1],[1.0])|  (2386,[22],[1.0])|        (540,[182],[1.0])|            (16,[1],[1.0])|          (18,[1],[1.0])|            (158,[11],[1.0])|            (607,[449],[1.0])|    790000.0|(3769,[39,66,2612...|\n",
       "|         (2,[],[])|         (11,[],[])|        (25,[],[])|          (6,[1],[1.0])|  (2386,[22],[1.0])|        (540,[182],[1.0])|            (16,[2],[1.0])|          (18,[1],[1.0])|            (158,[11],[1.0])|            (607,[449],[1.0])|    810000.0|(3769,[39,66,2612...|\n",
       "|         (2,[],[])|         (11,[],[])|        (25,[],[])|          (6,[2],[1.0])|  (2386,[27],[1.0])|        (540,[392],[1.0])|            (16,[1],[1.0])|          (18,[1],[1.0])|            (158,[15],[1.0])|            (607,[394],[1.0])|    425000.0|(3769,[40,71,2822...|\n",
       "|         (2,[],[])|         (11,[],[])|        (25,[],[])|          (6,[3],[1.0])|  (2386,[15],[1.0])|        (540,[182],[1.0])|            (16,[0],[1.0])|          (18,[6],[1.0])|            (158,[22],[1.0])|            (607,[473],[1.0])|    910000.0|(3769,[41,59,2612...|\n",
       "|         (2,[],[])|         (11,[],[])|    (25,[0],[1.0])|          (6,[0],[1.0])|   (2386,[1],[1.0])|         (540,[21],[1.0])|            (16,[2],[1.0])|          (18,[1],[1.0])|            (158,[46],[1.0])|            (607,[267],[1.0])|    280000.0|(3769,[13,38,45,2...|\n",
       "|         (2,[],[])|         (11,[],[])|    (25,[0],[1.0])|          (6,[0],[1.0])| (2386,[143],[1.0])|        (540,[109],[1.0])|            (16,[3],[1.0])|          (18,[2],[1.0])|             (158,[3],[1.0])|            (607,[177],[1.0])|    360000.0|(3769,[13,38,187,...|\n",
       "|         (2,[],[])|         (11,[],[])|    (25,[0],[1.0])|          (6,[0],[1.0])| (2386,[326],[1.0])|        (540,[109],[1.0])|            (16,[3],[1.0])|          (18,[4],[1.0])|             (158,[9],[1.0])|             (607,[67],[1.0])|    295000.0|(3769,[13,38,370,...|\n",
       "|         (2,[],[])|         (11,[],[])|    (25,[0],[1.0])|          (6,[0],[1.0])| (2386,[348],[1.0])|        (540,[285],[1.0])|            (16,[2],[1.0])|          (18,[9],[1.0])|             (158,[2],[1.0])|            (607,[154],[1.0])|    325000.0|(3769,[13,38,392,...|\n",
       "|         (2,[],[])|         (11,[],[])|    (25,[0],[1.0])|          (6,[0],[1.0])| (2386,[348],[1.0])|        (540,[285],[1.0])|            (16,[2],[1.0])|          (18,[9],[1.0])|             (158,[7],[1.0])|            (607,[154],[1.0])|    320000.0|(3769,[13,38,392,...|\n",
       "|         (2,[],[])|         (11,[],[])|    (25,[0],[1.0])|          (6,[0],[1.0])| (2386,[440],[1.0])|        (540,[362],[1.0])|            (16,[1],[1.0])|          (18,[0],[1.0])|            (158,[23],[1.0])|             (607,[42],[1.0])|    371000.0|(3769,[13,38,484,...|\n",
       "+------------------+-------------------+------------------+-----------------------+-------------------+-------------------------+--------------------------+------------------------+----------------------------+-----------------------------+------------+--------------------+\n",
       "only showing top 10 rows"
      ]
     },
     "execution_count": 47,
     "metadata": {},
     "output_type": "execute_result"
    }
   ],
   "source": [
    "#df_dropped_train\n",
    "df_dropped_train_vectored = featureassembler.transform(df_dropped_train)\n",
    "df_dropped_train_vectored"
   ]
  },
  {
   "cell_type": "code",
   "execution_count": 48,
   "metadata": {},
   "outputs": [
    {
     "data": {
      "text/html": [
       "<table border='1'>\n",
       "<tr><th>year_onehot_encode</th><th>month_onehot_encode</th><th>town_onehot_encode</th><th>flat_type_onehot_encode</th><th>block_onehot_encode</th><th>street_name_onehot_encode</th><th>storey_range_onehot_encode</th><th>flat_model_onehot_encode</th><th>floor_area_sqm_onehot_encode</th><th>remaining_lease_onehot_encode</th><th>resale_price</th><th>Xcols</th></tr>\n",
       "<tr><td>(2,[],[])</td><td>(11,[],[])</td><td>(25,[],[])</td><td>(6,[1],[1.0])</td><td>(2386,[32],[1.0])</td><td>(540,[182],[1.0])</td><td>(16,[3],[1.0])</td><td>(18,[1],[1.0])</td><td>(158,[11],[1.0])</td><td>(607,[220],[1.0])</td><td>710000.0</td><td>(3769,[39,76,2612...</td></tr>\n",
       "<tr><td>(2,[],[])</td><td>(11,[],[])</td><td>(25,[0],[1.0])</td><td>(6,[0],[1.0])</td><td>(2386,[34],[1.0])</td><td>(540,[21],[1.0])</td><td>(16,[1],[1.0])</td><td>(18,[2],[1.0])</td><td>(158,[51],[1.0])</td><td>(607,[247],[1.0])</td><td>340000.0</td><td>(3769,[13,38,78,2...</td></tr>\n",
       "<tr><td>(2,[],[])</td><td>(11,[],[])</td><td>(25,[0],[1.0])</td><td>(6,[0],[1.0])</td><td>(2386,[194],[1.0])</td><td>(540,[324],[1.0])</td><td>(16,[1],[1.0])</td><td>(18,[4],[1.0])</td><td>(158,[75],[1.0])</td><td>(607,[188],[1.0])</td><td>368000.0</td><td>(3769,[13,38,238,...</td></tr>\n",
       "<tr><td>(2,[],[])</td><td>(11,[],[])</td><td>(25,[0],[1.0])</td><td>(6,[0],[1.0])</td><td>(2386,[300],[1.0])</td><td>(540,[400],[1.0])</td><td>(16,[3],[1.0])</td><td>(18,[9],[1.0])</td><td>(158,[3],[1.0])</td><td>(607,[86],[1.0])</td><td>303000.0</td><td>(3769,[13,38,344,...</td></tr>\n",
       "<tr><td>(2,[],[])</td><td>(11,[],[])</td><td>(25,[0],[1.0])</td><td>(6,[0],[1.0])</td><td>(2386,[348],[1.0])</td><td>(540,[285],[1.0])</td><td>(16,[2],[1.0])</td><td>(18,[9],[1.0])</td><td>(158,[7],[1.0])</td><td>(607,[154],[1.0])</td><td>327500.0</td><td>(3769,[13,38,392,...</td></tr>\n",
       "<tr><td>(2,[],[])</td><td>(11,[],[])</td><td>(25,[0],[1.0])</td><td>(6,[0],[1.0])</td><td>(2386,[376],[1.0])</td><td>(540,[459],[1.0])</td><td>(16,[1],[1.0])</td><td>(18,[4],[1.0])</td><td>(158,[9],[1.0])</td><td>(607,[251],[1.0])</td><td>328000.0</td><td>(3769,[13,38,420,...</td></tr>\n",
       "<tr><td>(2,[],[])</td><td>(11,[],[])</td><td>(25,[0],[1.0])</td><td>(6,[0],[1.0])</td><td>(2386,[390],[1.0])</td><td>(540,[220],[1.0])</td><td>(16,[1],[1.0])</td><td>(18,[9],[1.0])</td><td>(158,[36],[1.0])</td><td>(607,[171],[1.0])</td><td>350000.0</td><td>(3769,[13,38,434,...</td></tr>\n",
       "<tr><td>(2,[],[])</td><td>(11,[],[])</td><td>(25,[0],[1.0])</td><td>(6,[0],[1.0])</td><td>(2386,[484],[1.0])</td><td>(540,[100],[1.0])</td><td>(16,[1],[1.0])</td><td>(18,[0],[1.0])</td><td>(158,[23],[1.0])</td><td>(607,[78],[1.0])</td><td>350000.0</td><td>(3769,[13,38,528,...</td></tr>\n",
       "<tr><td>(2,[],[])</td><td>(11,[],[])</td><td>(25,[0],[1.0])</td><td>(6,[0],[1.0])</td><td>(2386,[518],[1.0])</td><td>(540,[82],[1.0])</td><td>(16,[1],[1.0])</td><td>(18,[9],[1.0])</td><td>(158,[75],[1.0])</td><td>(607,[127],[1.0])</td><td>315000.0</td><td>(3769,[13,38,562,...</td></tr>\n",
       "<tr><td>(2,[],[])</td><td>(11,[],[])</td><td>(25,[0],[1.0])</td><td>(6,[0],[1.0])</td><td>(2386,[585],[1.0])</td><td>(540,[47],[1.0])</td><td>(16,[0],[1.0])</td><td>(18,[9],[1.0])</td><td>(158,[7],[1.0])</td><td>(607,[117],[1.0])</td><td>321000.0</td><td>(3769,[13,38,629,...</td></tr>\n",
       "</table>\n",
       "only showing top 10 rows\n"
      ],
      "text/plain": [
       "+------------------+-------------------+------------------+-----------------------+-------------------+-------------------------+--------------------------+------------------------+----------------------------+-----------------------------+------------+--------------------+\n",
       "|year_onehot_encode|month_onehot_encode|town_onehot_encode|flat_type_onehot_encode|block_onehot_encode|street_name_onehot_encode|storey_range_onehot_encode|flat_model_onehot_encode|floor_area_sqm_onehot_encode|remaining_lease_onehot_encode|resale_price|               Xcols|\n",
       "+------------------+-------------------+------------------+-----------------------+-------------------+-------------------------+--------------------------+------------------------+----------------------------+-----------------------------+------------+--------------------+\n",
       "|         (2,[],[])|         (11,[],[])|        (25,[],[])|          (6,[1],[1.0])|  (2386,[32],[1.0])|        (540,[182],[1.0])|            (16,[3],[1.0])|          (18,[1],[1.0])|            (158,[11],[1.0])|            (607,[220],[1.0])|    710000.0|(3769,[39,76,2612...|\n",
       "|         (2,[],[])|         (11,[],[])|    (25,[0],[1.0])|          (6,[0],[1.0])|  (2386,[34],[1.0])|         (540,[21],[1.0])|            (16,[1],[1.0])|          (18,[2],[1.0])|            (158,[51],[1.0])|            (607,[247],[1.0])|    340000.0|(3769,[13,38,78,2...|\n",
       "|         (2,[],[])|         (11,[],[])|    (25,[0],[1.0])|          (6,[0],[1.0])| (2386,[194],[1.0])|        (540,[324],[1.0])|            (16,[1],[1.0])|          (18,[4],[1.0])|            (158,[75],[1.0])|            (607,[188],[1.0])|    368000.0|(3769,[13,38,238,...|\n",
       "|         (2,[],[])|         (11,[],[])|    (25,[0],[1.0])|          (6,[0],[1.0])| (2386,[300],[1.0])|        (540,[400],[1.0])|            (16,[3],[1.0])|          (18,[9],[1.0])|             (158,[3],[1.0])|             (607,[86],[1.0])|    303000.0|(3769,[13,38,344,...|\n",
       "|         (2,[],[])|         (11,[],[])|    (25,[0],[1.0])|          (6,[0],[1.0])| (2386,[348],[1.0])|        (540,[285],[1.0])|            (16,[2],[1.0])|          (18,[9],[1.0])|             (158,[7],[1.0])|            (607,[154],[1.0])|    327500.0|(3769,[13,38,392,...|\n",
       "|         (2,[],[])|         (11,[],[])|    (25,[0],[1.0])|          (6,[0],[1.0])| (2386,[376],[1.0])|        (540,[459],[1.0])|            (16,[1],[1.0])|          (18,[4],[1.0])|             (158,[9],[1.0])|            (607,[251],[1.0])|    328000.0|(3769,[13,38,420,...|\n",
       "|         (2,[],[])|         (11,[],[])|    (25,[0],[1.0])|          (6,[0],[1.0])| (2386,[390],[1.0])|        (540,[220],[1.0])|            (16,[1],[1.0])|          (18,[9],[1.0])|            (158,[36],[1.0])|            (607,[171],[1.0])|    350000.0|(3769,[13,38,434,...|\n",
       "|         (2,[],[])|         (11,[],[])|    (25,[0],[1.0])|          (6,[0],[1.0])| (2386,[484],[1.0])|        (540,[100],[1.0])|            (16,[1],[1.0])|          (18,[0],[1.0])|            (158,[23],[1.0])|             (607,[78],[1.0])|    350000.0|(3769,[13,38,528,...|\n",
       "|         (2,[],[])|         (11,[],[])|    (25,[0],[1.0])|          (6,[0],[1.0])| (2386,[518],[1.0])|         (540,[82],[1.0])|            (16,[1],[1.0])|          (18,[9],[1.0])|            (158,[75],[1.0])|            (607,[127],[1.0])|    315000.0|(3769,[13,38,562,...|\n",
       "|         (2,[],[])|         (11,[],[])|    (25,[0],[1.0])|          (6,[0],[1.0])| (2386,[585],[1.0])|         (540,[47],[1.0])|            (16,[0],[1.0])|          (18,[9],[1.0])|             (158,[7],[1.0])|            (607,[117],[1.0])|    321000.0|(3769,[13,38,629,...|\n",
       "+------------------+-------------------+------------------+-----------------------+-------------------+-------------------------+--------------------------+------------------------+----------------------------+-----------------------------+------------+--------------------+\n",
       "only showing top 10 rows"
      ]
     },
     "execution_count": 48,
     "metadata": {},
     "output_type": "execute_result"
    }
   ],
   "source": [
    "#df_dropped_test\n",
    "df_dropped_test_vectored = featureassembler.transform(df_dropped_test)\n",
    "df_dropped_test_vectored"
   ]
  },
  {
   "cell_type": "code",
   "execution_count": 49,
   "metadata": {},
   "outputs": [
    {
     "data": {
      "text/html": [
       "<table border='1'>\n",
       "<tr><th>year_onehot_encode</th><th>month_onehot_encode</th><th>town_onehot_encode</th><th>flat_type_onehot_encode</th><th>block_onehot_encode</th><th>street_name_onehot_encode</th><th>storey_range_onehot_encode</th><th>flat_model_onehot_encode</th><th>floor_area_sqm_onehot_encode</th><th>remaining_lease_onehot_encode</th><th>resale_price</th><th>Xcols</th></tr>\n",
       "<tr><td>(2,[],[])</td><td>(11,[],[])</td><td>(25,[],[])</td><td>(6,[1],[1.0])</td><td>(2386,[22],[1.0])</td><td>(540,[183],[1.0])</td><td>(16,[1],[1.0])</td><td>(18,[1],[1.0])</td><td>(159,[11],[1.0])</td><td>(607,[449],[1.0])</td><td>790000.0</td><td>(3770,[39,66,2613...</td></tr>\n",
       "<tr><td>(2,[],[])</td><td>(11,[],[])</td><td>(25,[],[])</td><td>(6,[1],[1.0])</td><td>(2386,[22],[1.0])</td><td>(540,[183],[1.0])</td><td>(16,[2],[1.0])</td><td>(18,[1],[1.0])</td><td>(159,[11],[1.0])</td><td>(607,[449],[1.0])</td><td>810000.0</td><td>(3770,[39,66,2613...</td></tr>\n",
       "<tr><td>(2,[],[])</td><td>(11,[],[])</td><td>(25,[],[])</td><td>(6,[2],[1.0])</td><td>(2386,[27],[1.0])</td><td>(540,[392],[1.0])</td><td>(16,[1],[1.0])</td><td>(18,[1],[1.0])</td><td>(159,[15],[1.0])</td><td>(607,[394],[1.0])</td><td>425000.0</td><td>(3770,[40,71,2822...</td></tr>\n",
       "<tr><td>(2,[],[])</td><td>(11,[],[])</td><td>(25,[],[])</td><td>(6,[3],[1.0])</td><td>(2386,[15],[1.0])</td><td>(540,[183],[1.0])</td><td>(16,[0],[1.0])</td><td>(18,[6],[1.0])</td><td>(159,[22],[1.0])</td><td>(607,[473],[1.0])</td><td>910000.0</td><td>(3770,[41,59,2613...</td></tr>\n",
       "<tr><td>(2,[],[])</td><td>(11,[],[])</td><td>(25,[0],[1.0])</td><td>(6,[0],[1.0])</td><td>(2386,[0],[1.0])</td><td>(540,[21],[1.0])</td><td>(16,[2],[1.0])</td><td>(18,[1],[1.0])</td><td>(159,[46],[1.0])</td><td>(607,[267],[1.0])</td><td>280000.0</td><td>(3770,[13,38,44,2...</td></tr>\n",
       "<tr><td>(2,[],[])</td><td>(11,[],[])</td><td>(25,[0],[1.0])</td><td>(6,[0],[1.0])</td><td>(2386,[143],[1.0])</td><td>(540,[110],[1.0])</td><td>(16,[3],[1.0])</td><td>(18,[2],[1.0])</td><td>(159,[3],[1.0])</td><td>(607,[177],[1.0])</td><td>360000.0</td><td>(3770,[13,38,187,...</td></tr>\n",
       "<tr><td>(2,[],[])</td><td>(11,[],[])</td><td>(25,[0],[1.0])</td><td>(6,[0],[1.0])</td><td>(2386,[326],[1.0])</td><td>(540,[110],[1.0])</td><td>(16,[3],[1.0])</td><td>(18,[4],[1.0])</td><td>(159,[9],[1.0])</td><td>(607,[67],[1.0])</td><td>295000.0</td><td>(3770,[13,38,370,...</td></tr>\n",
       "<tr><td>(2,[],[])</td><td>(11,[],[])</td><td>(25,[0],[1.0])</td><td>(6,[0],[1.0])</td><td>(2386,[348],[1.0])</td><td>(540,[285],[1.0])</td><td>(16,[2],[1.0])</td><td>(18,[9],[1.0])</td><td>(159,[2],[1.0])</td><td>(607,[154],[1.0])</td><td>325000.0</td><td>(3770,[13,38,392,...</td></tr>\n",
       "<tr><td>(2,[],[])</td><td>(11,[],[])</td><td>(25,[0],[1.0])</td><td>(6,[0],[1.0])</td><td>(2386,[348],[1.0])</td><td>(540,[285],[1.0])</td><td>(16,[2],[1.0])</td><td>(18,[9],[1.0])</td><td>(159,[7],[1.0])</td><td>(607,[154],[1.0])</td><td>320000.0</td><td>(3770,[13,38,392,...</td></tr>\n",
       "<tr><td>(2,[],[])</td><td>(11,[],[])</td><td>(25,[0],[1.0])</td><td>(6,[0],[1.0])</td><td>(2386,[441],[1.0])</td><td>(540,[362],[1.0])</td><td>(16,[1],[1.0])</td><td>(18,[0],[1.0])</td><td>(159,[23],[1.0])</td><td>(607,[42],[1.0])</td><td>371000.0</td><td>(3770,[13,38,485,...</td></tr>\n",
       "</table>\n",
       "only showing top 10 rows\n"
      ],
      "text/plain": [
       "+------------------+-------------------+------------------+-----------------------+-------------------+-------------------------+--------------------------+------------------------+----------------------------+-----------------------------+------------+--------------------+\n",
       "|year_onehot_encode|month_onehot_encode|town_onehot_encode|flat_type_onehot_encode|block_onehot_encode|street_name_onehot_encode|storey_range_onehot_encode|flat_model_onehot_encode|floor_area_sqm_onehot_encode|remaining_lease_onehot_encode|resale_price|               Xcols|\n",
       "+------------------+-------------------+------------------+-----------------------+-------------------+-------------------------+--------------------------+------------------------+----------------------------+-----------------------------+------------+--------------------+\n",
       "|         (2,[],[])|         (11,[],[])|        (25,[],[])|          (6,[1],[1.0])|  (2386,[22],[1.0])|        (540,[183],[1.0])|            (16,[1],[1.0])|          (18,[1],[1.0])|            (159,[11],[1.0])|            (607,[449],[1.0])|    790000.0|(3770,[39,66,2613...|\n",
       "|         (2,[],[])|         (11,[],[])|        (25,[],[])|          (6,[1],[1.0])|  (2386,[22],[1.0])|        (540,[183],[1.0])|            (16,[2],[1.0])|          (18,[1],[1.0])|            (159,[11],[1.0])|            (607,[449],[1.0])|    810000.0|(3770,[39,66,2613...|\n",
       "|         (2,[],[])|         (11,[],[])|        (25,[],[])|          (6,[2],[1.0])|  (2386,[27],[1.0])|        (540,[392],[1.0])|            (16,[1],[1.0])|          (18,[1],[1.0])|            (159,[15],[1.0])|            (607,[394],[1.0])|    425000.0|(3770,[40,71,2822...|\n",
       "|         (2,[],[])|         (11,[],[])|        (25,[],[])|          (6,[3],[1.0])|  (2386,[15],[1.0])|        (540,[183],[1.0])|            (16,[0],[1.0])|          (18,[6],[1.0])|            (159,[22],[1.0])|            (607,[473],[1.0])|    910000.0|(3770,[41,59,2613...|\n",
       "|         (2,[],[])|         (11,[],[])|    (25,[0],[1.0])|          (6,[0],[1.0])|   (2386,[0],[1.0])|         (540,[21],[1.0])|            (16,[2],[1.0])|          (18,[1],[1.0])|            (159,[46],[1.0])|            (607,[267],[1.0])|    280000.0|(3770,[13,38,44,2...|\n",
       "|         (2,[],[])|         (11,[],[])|    (25,[0],[1.0])|          (6,[0],[1.0])| (2386,[143],[1.0])|        (540,[110],[1.0])|            (16,[3],[1.0])|          (18,[2],[1.0])|             (159,[3],[1.0])|            (607,[177],[1.0])|    360000.0|(3770,[13,38,187,...|\n",
       "|         (2,[],[])|         (11,[],[])|    (25,[0],[1.0])|          (6,[0],[1.0])| (2386,[326],[1.0])|        (540,[110],[1.0])|            (16,[3],[1.0])|          (18,[4],[1.0])|             (159,[9],[1.0])|             (607,[67],[1.0])|    295000.0|(3770,[13,38,370,...|\n",
       "|         (2,[],[])|         (11,[],[])|    (25,[0],[1.0])|          (6,[0],[1.0])| (2386,[348],[1.0])|        (540,[285],[1.0])|            (16,[2],[1.0])|          (18,[9],[1.0])|             (159,[2],[1.0])|            (607,[154],[1.0])|    325000.0|(3770,[13,38,392,...|\n",
       "|         (2,[],[])|         (11,[],[])|    (25,[0],[1.0])|          (6,[0],[1.0])| (2386,[348],[1.0])|        (540,[285],[1.0])|            (16,[2],[1.0])|          (18,[9],[1.0])|             (159,[7],[1.0])|            (607,[154],[1.0])|    320000.0|(3770,[13,38,392,...|\n",
       "|         (2,[],[])|         (11,[],[])|    (25,[0],[1.0])|          (6,[0],[1.0])| (2386,[441],[1.0])|        (540,[362],[1.0])|            (16,[1],[1.0])|          (18,[0],[1.0])|            (159,[23],[1.0])|             (607,[42],[1.0])|    371000.0|(3770,[13,38,485,...|\n",
       "+------------------+-------------------+------------------+-----------------------+-------------------+-------------------------+--------------------------+------------------------+----------------------------+-----------------------------+------------+--------------------+\n",
       "only showing top 10 rows"
      ]
     },
     "execution_count": 49,
     "metadata": {},
     "output_type": "execute_result"
    }
   ],
   "source": [
    "#df_mean_train\n",
    "df_mean_train_vectored = featureassembler.transform(df_mean_train)\n",
    "df_mean_train_vectored"
   ]
  },
  {
   "cell_type": "code",
   "execution_count": 50,
   "metadata": {},
   "outputs": [
    {
     "data": {
      "text/html": [
       "<table border='1'>\n",
       "<tr><th>year_onehot_encode</th><th>month_onehot_encode</th><th>town_onehot_encode</th><th>flat_type_onehot_encode</th><th>block_onehot_encode</th><th>street_name_onehot_encode</th><th>storey_range_onehot_encode</th><th>flat_model_onehot_encode</th><th>floor_area_sqm_onehot_encode</th><th>remaining_lease_onehot_encode</th><th>resale_price</th><th>Xcols</th></tr>\n",
       "<tr><td>(2,[],[])</td><td>(11,[],[])</td><td>(25,[],[])</td><td>(6,[1],[1.0])</td><td>(2386,[32],[1.0])</td><td>(540,[183],[1.0])</td><td>(16,[3],[1.0])</td><td>(18,[1],[1.0])</td><td>(159,[11],[1.0])</td><td>(607,[222],[1.0])</td><td>710000.0</td><td>(3770,[39,76,2613...</td></tr>\n",
       "<tr><td>(2,[],[])</td><td>(11,[],[])</td><td>(25,[0],[1.0])</td><td>(6,[0],[1.0])</td><td>(2386,[33],[1.0])</td><td>(540,[21],[1.0])</td><td>(16,[1],[1.0])</td><td>(18,[2],[1.0])</td><td>(159,[51],[1.0])</td><td>(607,[247],[1.0])</td><td>340000.0</td><td>(3770,[13,38,77,2...</td></tr>\n",
       "<tr><td>(2,[],[])</td><td>(11,[],[])</td><td>(25,[0],[1.0])</td><td>(6,[0],[1.0])</td><td>(2386,[194],[1.0])</td><td>(540,[324],[1.0])</td><td>(16,[1],[1.0])</td><td>(18,[4],[1.0])</td><td>(159,[75],[1.0])</td><td>(607,[188],[1.0])</td><td>368000.0</td><td>(3770,[13,38,238,...</td></tr>\n",
       "<tr><td>(2,[],[])</td><td>(11,[],[])</td><td>(25,[0],[1.0])</td><td>(6,[0],[1.0])</td><td>(2386,[300],[1.0])</td><td>(540,[400],[1.0])</td><td>(16,[3],[1.0])</td><td>(18,[9],[1.0])</td><td>(159,[3],[1.0])</td><td>(607,[86],[1.0])</td><td>303000.0</td><td>(3770,[13,38,344,...</td></tr>\n",
       "<tr><td>(2,[],[])</td><td>(11,[],[])</td><td>(25,[0],[1.0])</td><td>(6,[0],[1.0])</td><td>(2386,[348],[1.0])</td><td>(540,[285],[1.0])</td><td>(16,[2],[1.0])</td><td>(18,[9],[1.0])</td><td>(159,[7],[1.0])</td><td>(607,[154],[1.0])</td><td>327500.0</td><td>(3770,[13,38,392,...</td></tr>\n",
       "<tr><td>(2,[],[])</td><td>(11,[],[])</td><td>(25,[0],[1.0])</td><td>(6,[0],[1.0])</td><td>(2386,[376],[1.0])</td><td>(540,[459],[1.0])</td><td>(16,[1],[1.0])</td><td>(18,[4],[1.0])</td><td>(159,[9],[1.0])</td><td>(607,[251],[1.0])</td><td>328000.0</td><td>(3770,[13,38,420,...</td></tr>\n",
       "<tr><td>(2,[],[])</td><td>(11,[],[])</td><td>(25,[0],[1.0])</td><td>(6,[0],[1.0])</td><td>(2386,[390],[1.0])</td><td>(540,[220],[1.0])</td><td>(16,[1],[1.0])</td><td>(18,[9],[1.0])</td><td>(159,[36],[1.0])</td><td>(607,[171],[1.0])</td><td>350000.0</td><td>(3770,[13,38,434,...</td></tr>\n",
       "<tr><td>(2,[],[])</td><td>(11,[],[])</td><td>(25,[0],[1.0])</td><td>(6,[0],[1.0])</td><td>(2386,[486],[1.0])</td><td>(540,[100],[1.0])</td><td>(16,[1],[1.0])</td><td>(18,[0],[1.0])</td><td>(159,[23],[1.0])</td><td>(607,[78],[1.0])</td><td>350000.0</td><td>(3770,[13,38,530,...</td></tr>\n",
       "<tr><td>(2,[],[])</td><td>(11,[],[])</td><td>(25,[0],[1.0])</td><td>(6,[0],[1.0])</td><td>(2386,[518],[1.0])</td><td>(540,[82],[1.0])</td><td>(16,[1],[1.0])</td><td>(18,[9],[1.0])</td><td>(159,[75],[1.0])</td><td>(607,[127],[1.0])</td><td>315000.0</td><td>(3770,[13,38,562,...</td></tr>\n",
       "<tr><td>(2,[],[])</td><td>(11,[],[])</td><td>(25,[0],[1.0])</td><td>(6,[0],[1.0])</td><td>(2386,[585],[1.0])</td><td>(540,[47],[1.0])</td><td>(16,[0],[1.0])</td><td>(18,[9],[1.0])</td><td>(159,[7],[1.0])</td><td>(607,[117],[1.0])</td><td>321000.0</td><td>(3770,[13,38,629,...</td></tr>\n",
       "</table>\n",
       "only showing top 10 rows\n"
      ],
      "text/plain": [
       "+------------------+-------------------+------------------+-----------------------+-------------------+-------------------------+--------------------------+------------------------+----------------------------+-----------------------------+------------+--------------------+\n",
       "|year_onehot_encode|month_onehot_encode|town_onehot_encode|flat_type_onehot_encode|block_onehot_encode|street_name_onehot_encode|storey_range_onehot_encode|flat_model_onehot_encode|floor_area_sqm_onehot_encode|remaining_lease_onehot_encode|resale_price|               Xcols|\n",
       "+------------------+-------------------+------------------+-----------------------+-------------------+-------------------------+--------------------------+------------------------+----------------------------+-----------------------------+------------+--------------------+\n",
       "|         (2,[],[])|         (11,[],[])|        (25,[],[])|          (6,[1],[1.0])|  (2386,[32],[1.0])|        (540,[183],[1.0])|            (16,[3],[1.0])|          (18,[1],[1.0])|            (159,[11],[1.0])|            (607,[222],[1.0])|    710000.0|(3770,[39,76,2613...|\n",
       "|         (2,[],[])|         (11,[],[])|    (25,[0],[1.0])|          (6,[0],[1.0])|  (2386,[33],[1.0])|         (540,[21],[1.0])|            (16,[1],[1.0])|          (18,[2],[1.0])|            (159,[51],[1.0])|            (607,[247],[1.0])|    340000.0|(3770,[13,38,77,2...|\n",
       "|         (2,[],[])|         (11,[],[])|    (25,[0],[1.0])|          (6,[0],[1.0])| (2386,[194],[1.0])|        (540,[324],[1.0])|            (16,[1],[1.0])|          (18,[4],[1.0])|            (159,[75],[1.0])|            (607,[188],[1.0])|    368000.0|(3770,[13,38,238,...|\n",
       "|         (2,[],[])|         (11,[],[])|    (25,[0],[1.0])|          (6,[0],[1.0])| (2386,[300],[1.0])|        (540,[400],[1.0])|            (16,[3],[1.0])|          (18,[9],[1.0])|             (159,[3],[1.0])|             (607,[86],[1.0])|    303000.0|(3770,[13,38,344,...|\n",
       "|         (2,[],[])|         (11,[],[])|    (25,[0],[1.0])|          (6,[0],[1.0])| (2386,[348],[1.0])|        (540,[285],[1.0])|            (16,[2],[1.0])|          (18,[9],[1.0])|             (159,[7],[1.0])|            (607,[154],[1.0])|    327500.0|(3770,[13,38,392,...|\n",
       "|         (2,[],[])|         (11,[],[])|    (25,[0],[1.0])|          (6,[0],[1.0])| (2386,[376],[1.0])|        (540,[459],[1.0])|            (16,[1],[1.0])|          (18,[4],[1.0])|             (159,[9],[1.0])|            (607,[251],[1.0])|    328000.0|(3770,[13,38,420,...|\n",
       "|         (2,[],[])|         (11,[],[])|    (25,[0],[1.0])|          (6,[0],[1.0])| (2386,[390],[1.0])|        (540,[220],[1.0])|            (16,[1],[1.0])|          (18,[9],[1.0])|            (159,[36],[1.0])|            (607,[171],[1.0])|    350000.0|(3770,[13,38,434,...|\n",
       "|         (2,[],[])|         (11,[],[])|    (25,[0],[1.0])|          (6,[0],[1.0])| (2386,[486],[1.0])|        (540,[100],[1.0])|            (16,[1],[1.0])|          (18,[0],[1.0])|            (159,[23],[1.0])|             (607,[78],[1.0])|    350000.0|(3770,[13,38,530,...|\n",
       "|         (2,[],[])|         (11,[],[])|    (25,[0],[1.0])|          (6,[0],[1.0])| (2386,[518],[1.0])|         (540,[82],[1.0])|            (16,[1],[1.0])|          (18,[9],[1.0])|            (159,[75],[1.0])|            (607,[127],[1.0])|    315000.0|(3770,[13,38,562,...|\n",
       "|         (2,[],[])|         (11,[],[])|    (25,[0],[1.0])|          (6,[0],[1.0])| (2386,[585],[1.0])|         (540,[47],[1.0])|            (16,[0],[1.0])|          (18,[9],[1.0])|             (159,[7],[1.0])|            (607,[117],[1.0])|    321000.0|(3770,[13,38,629,...|\n",
       "+------------------+-------------------+------------------+-----------------------+-------------------+-------------------------+--------------------------+------------------------+----------------------------+-----------------------------+------------+--------------------+\n",
       "only showing top 10 rows"
      ]
     },
     "execution_count": 50,
     "metadata": {},
     "output_type": "execute_result"
    }
   ],
   "source": [
    "#df_mean_test\n",
    "df_mean_test_vectored = featureassembler.transform(df_mean_test)\n",
    "df_mean_test_vectored"
   ]
  },
  {
   "cell_type": "code",
   "execution_count": 51,
   "metadata": {},
   "outputs": [
    {
     "data": {
      "text/html": [
       "<table border='1'>\n",
       "<tr><th>year_onehot_encode</th><th>month_onehot_encode</th><th>town_onehot_encode</th><th>flat_type_onehot_encode</th><th>block_onehot_encode</th><th>street_name_onehot_encode</th><th>storey_range_onehot_encode</th><th>flat_model_onehot_encode</th><th>floor_area_sqm_onehot_encode</th><th>remaining_lease_onehot_encode</th><th>resale_price</th><th>Xcols</th></tr>\n",
       "<tr><td>(2,[],[])</td><td>(11,[],[])</td><td>(25,[],[])</td><td>(6,[1],[1.0])</td><td>(2386,[22],[1.0])</td><td>(540,[183],[1.0])</td><td>(16,[1],[1.0])</td><td>(18,[1],[1.0])</td><td>(158,[11],[1.0])</td><td>(607,[449],[1.0])</td><td>790000.0</td><td>(3769,[39,66,2613...</td></tr>\n",
       "<tr><td>(2,[],[])</td><td>(11,[],[])</td><td>(25,[],[])</td><td>(6,[1],[1.0])</td><td>(2386,[22],[1.0])</td><td>(540,[183],[1.0])</td><td>(16,[2],[1.0])</td><td>(18,[1],[1.0])</td><td>(158,[11],[1.0])</td><td>(607,[449],[1.0])</td><td>810000.0</td><td>(3769,[39,66,2613...</td></tr>\n",
       "<tr><td>(2,[],[])</td><td>(11,[],[])</td><td>(25,[],[])</td><td>(6,[2],[1.0])</td><td>(2386,[27],[1.0])</td><td>(540,[392],[1.0])</td><td>(16,[1],[1.0])</td><td>(18,[1],[1.0])</td><td>(158,[15],[1.0])</td><td>(607,[394],[1.0])</td><td>425000.0</td><td>(3769,[40,71,2822...</td></tr>\n",
       "<tr><td>(2,[],[])</td><td>(11,[],[])</td><td>(25,[],[])</td><td>(6,[3],[1.0])</td><td>(2386,[15],[1.0])</td><td>(540,[183],[1.0])</td><td>(16,[0],[1.0])</td><td>(18,[6],[1.0])</td><td>(158,[22],[1.0])</td><td>(607,[473],[1.0])</td><td>910000.0</td><td>(3769,[41,59,2613...</td></tr>\n",
       "<tr><td>(2,[],[])</td><td>(11,[],[])</td><td>(25,[0],[1.0])</td><td>(6,[0],[1.0])</td><td>(2386,[0],[1.0])</td><td>(540,[21],[1.0])</td><td>(16,[2],[1.0])</td><td>(18,[1],[1.0])</td><td>(158,[46],[1.0])</td><td>(607,[267],[1.0])</td><td>280000.0</td><td>(3769,[13,38,44,2...</td></tr>\n",
       "<tr><td>(2,[],[])</td><td>(11,[],[])</td><td>(25,[0],[1.0])</td><td>(6,[0],[1.0])</td><td>(2386,[143],[1.0])</td><td>(540,[110],[1.0])</td><td>(16,[3],[1.0])</td><td>(18,[2],[1.0])</td><td>(158,[3],[1.0])</td><td>(607,[177],[1.0])</td><td>360000.0</td><td>(3769,[13,38,187,...</td></tr>\n",
       "<tr><td>(2,[],[])</td><td>(11,[],[])</td><td>(25,[0],[1.0])</td><td>(6,[0],[1.0])</td><td>(2386,[326],[1.0])</td><td>(540,[110],[1.0])</td><td>(16,[3],[1.0])</td><td>(18,[4],[1.0])</td><td>(158,[9],[1.0])</td><td>(607,[67],[1.0])</td><td>295000.0</td><td>(3769,[13,38,370,...</td></tr>\n",
       "<tr><td>(2,[],[])</td><td>(11,[],[])</td><td>(25,[0],[1.0])</td><td>(6,[0],[1.0])</td><td>(2386,[348],[1.0])</td><td>(540,[285],[1.0])</td><td>(16,[2],[1.0])</td><td>(18,[9],[1.0])</td><td>(158,[2],[1.0])</td><td>(607,[154],[1.0])</td><td>325000.0</td><td>(3769,[13,38,392,...</td></tr>\n",
       "<tr><td>(2,[],[])</td><td>(11,[],[])</td><td>(25,[0],[1.0])</td><td>(6,[0],[1.0])</td><td>(2386,[348],[1.0])</td><td>(540,[285],[1.0])</td><td>(16,[2],[1.0])</td><td>(18,[9],[1.0])</td><td>(158,[7],[1.0])</td><td>(607,[154],[1.0])</td><td>320000.0</td><td>(3769,[13,38,392,...</td></tr>\n",
       "<tr><td>(2,[],[])</td><td>(11,[],[])</td><td>(25,[0],[1.0])</td><td>(6,[0],[1.0])</td><td>(2386,[441],[1.0])</td><td>(540,[362],[1.0])</td><td>(16,[1],[1.0])</td><td>(18,[0],[1.0])</td><td>(158,[23],[1.0])</td><td>(607,[42],[1.0])</td><td>371000.0</td><td>(3769,[13,38,485,...</td></tr>\n",
       "</table>\n",
       "only showing top 10 rows\n"
      ],
      "text/plain": [
       "+------------------+-------------------+------------------+-----------------------+-------------------+-------------------------+--------------------------+------------------------+----------------------------+-----------------------------+------------+--------------------+\n",
       "|year_onehot_encode|month_onehot_encode|town_onehot_encode|flat_type_onehot_encode|block_onehot_encode|street_name_onehot_encode|storey_range_onehot_encode|flat_model_onehot_encode|floor_area_sqm_onehot_encode|remaining_lease_onehot_encode|resale_price|               Xcols|\n",
       "+------------------+-------------------+------------------+-----------------------+-------------------+-------------------------+--------------------------+------------------------+----------------------------+-----------------------------+------------+--------------------+\n",
       "|         (2,[],[])|         (11,[],[])|        (25,[],[])|          (6,[1],[1.0])|  (2386,[22],[1.0])|        (540,[183],[1.0])|            (16,[1],[1.0])|          (18,[1],[1.0])|            (158,[11],[1.0])|            (607,[449],[1.0])|    790000.0|(3769,[39,66,2613...|\n",
       "|         (2,[],[])|         (11,[],[])|        (25,[],[])|          (6,[1],[1.0])|  (2386,[22],[1.0])|        (540,[183],[1.0])|            (16,[2],[1.0])|          (18,[1],[1.0])|            (158,[11],[1.0])|            (607,[449],[1.0])|    810000.0|(3769,[39,66,2613...|\n",
       "|         (2,[],[])|         (11,[],[])|        (25,[],[])|          (6,[2],[1.0])|  (2386,[27],[1.0])|        (540,[392],[1.0])|            (16,[1],[1.0])|          (18,[1],[1.0])|            (158,[15],[1.0])|            (607,[394],[1.0])|    425000.0|(3769,[40,71,2822...|\n",
       "|         (2,[],[])|         (11,[],[])|        (25,[],[])|          (6,[3],[1.0])|  (2386,[15],[1.0])|        (540,[183],[1.0])|            (16,[0],[1.0])|          (18,[6],[1.0])|            (158,[22],[1.0])|            (607,[473],[1.0])|    910000.0|(3769,[41,59,2613...|\n",
       "|         (2,[],[])|         (11,[],[])|    (25,[0],[1.0])|          (6,[0],[1.0])|   (2386,[0],[1.0])|         (540,[21],[1.0])|            (16,[2],[1.0])|          (18,[1],[1.0])|            (158,[46],[1.0])|            (607,[267],[1.0])|    280000.0|(3769,[13,38,44,2...|\n",
       "|         (2,[],[])|         (11,[],[])|    (25,[0],[1.0])|          (6,[0],[1.0])| (2386,[143],[1.0])|        (540,[110],[1.0])|            (16,[3],[1.0])|          (18,[2],[1.0])|             (158,[3],[1.0])|            (607,[177],[1.0])|    360000.0|(3769,[13,38,187,...|\n",
       "|         (2,[],[])|         (11,[],[])|    (25,[0],[1.0])|          (6,[0],[1.0])| (2386,[326],[1.0])|        (540,[110],[1.0])|            (16,[3],[1.0])|          (18,[4],[1.0])|             (158,[9],[1.0])|             (607,[67],[1.0])|    295000.0|(3769,[13,38,370,...|\n",
       "|         (2,[],[])|         (11,[],[])|    (25,[0],[1.0])|          (6,[0],[1.0])| (2386,[348],[1.0])|        (540,[285],[1.0])|            (16,[2],[1.0])|          (18,[9],[1.0])|             (158,[2],[1.0])|            (607,[154],[1.0])|    325000.0|(3769,[13,38,392,...|\n",
       "|         (2,[],[])|         (11,[],[])|    (25,[0],[1.0])|          (6,[0],[1.0])| (2386,[348],[1.0])|        (540,[285],[1.0])|            (16,[2],[1.0])|          (18,[9],[1.0])|             (158,[7],[1.0])|            (607,[154],[1.0])|    320000.0|(3769,[13,38,392,...|\n",
       "|         (2,[],[])|         (11,[],[])|    (25,[0],[1.0])|          (6,[0],[1.0])| (2386,[441],[1.0])|        (540,[362],[1.0])|            (16,[1],[1.0])|          (18,[0],[1.0])|            (158,[23],[1.0])|             (607,[42],[1.0])|    371000.0|(3769,[13,38,485,...|\n",
       "+------------------+-------------------+------------------+-----------------------+-------------------+-------------------------+--------------------------+------------------------+----------------------------+-----------------------------+------------+--------------------+\n",
       "only showing top 10 rows"
      ]
     },
     "execution_count": 51,
     "metadata": {},
     "output_type": "execute_result"
    }
   ],
   "source": [
    "#df_median_train\n",
    "df_median_train_vectored = featureassembler.transform(df_median_train)\n",
    "df_median_train_vectored"
   ]
  },
  {
   "cell_type": "code",
   "execution_count": 52,
   "metadata": {},
   "outputs": [
    {
     "data": {
      "text/html": [
       "<table border='1'>\n",
       "<tr><th>year_onehot_encode</th><th>month_onehot_encode</th><th>town_onehot_encode</th><th>flat_type_onehot_encode</th><th>block_onehot_encode</th><th>street_name_onehot_encode</th><th>storey_range_onehot_encode</th><th>flat_model_onehot_encode</th><th>floor_area_sqm_onehot_encode</th><th>remaining_lease_onehot_encode</th><th>resale_price</th><th>Xcols</th></tr>\n",
       "<tr><td>(2,[],[])</td><td>(11,[],[])</td><td>(25,[],[])</td><td>(6,[1],[1.0])</td><td>(2386,[32],[1.0])</td><td>(540,[183],[1.0])</td><td>(16,[3],[1.0])</td><td>(18,[1],[1.0])</td><td>(158,[11],[1.0])</td><td>(607,[222],[1.0])</td><td>710000.0</td><td>(3769,[39,76,2613...</td></tr>\n",
       "<tr><td>(2,[],[])</td><td>(11,[],[])</td><td>(25,[0],[1.0])</td><td>(6,[0],[1.0])</td><td>(2386,[33],[1.0])</td><td>(540,[21],[1.0])</td><td>(16,[1],[1.0])</td><td>(18,[2],[1.0])</td><td>(158,[51],[1.0])</td><td>(607,[247],[1.0])</td><td>340000.0</td><td>(3769,[13,38,77,2...</td></tr>\n",
       "<tr><td>(2,[],[])</td><td>(11,[],[])</td><td>(25,[0],[1.0])</td><td>(6,[0],[1.0])</td><td>(2386,[194],[1.0])</td><td>(540,[324],[1.0])</td><td>(16,[1],[1.0])</td><td>(18,[4],[1.0])</td><td>(158,[75],[1.0])</td><td>(607,[188],[1.0])</td><td>368000.0</td><td>(3769,[13,38,238,...</td></tr>\n",
       "<tr><td>(2,[],[])</td><td>(11,[],[])</td><td>(25,[0],[1.0])</td><td>(6,[0],[1.0])</td><td>(2386,[300],[1.0])</td><td>(540,[400],[1.0])</td><td>(16,[3],[1.0])</td><td>(18,[9],[1.0])</td><td>(158,[3],[1.0])</td><td>(607,[86],[1.0])</td><td>303000.0</td><td>(3769,[13,38,344,...</td></tr>\n",
       "<tr><td>(2,[],[])</td><td>(11,[],[])</td><td>(25,[0],[1.0])</td><td>(6,[0],[1.0])</td><td>(2386,[348],[1.0])</td><td>(540,[285],[1.0])</td><td>(16,[2],[1.0])</td><td>(18,[9],[1.0])</td><td>(158,[7],[1.0])</td><td>(607,[154],[1.0])</td><td>327500.0</td><td>(3769,[13,38,392,...</td></tr>\n",
       "<tr><td>(2,[],[])</td><td>(11,[],[])</td><td>(25,[0],[1.0])</td><td>(6,[0],[1.0])</td><td>(2386,[376],[1.0])</td><td>(540,[459],[1.0])</td><td>(16,[1],[1.0])</td><td>(18,[4],[1.0])</td><td>(158,[9],[1.0])</td><td>(607,[251],[1.0])</td><td>328000.0</td><td>(3769,[13,38,420,...</td></tr>\n",
       "<tr><td>(2,[],[])</td><td>(11,[],[])</td><td>(25,[0],[1.0])</td><td>(6,[0],[1.0])</td><td>(2386,[390],[1.0])</td><td>(540,[220],[1.0])</td><td>(16,[1],[1.0])</td><td>(18,[9],[1.0])</td><td>(158,[36],[1.0])</td><td>(607,[171],[1.0])</td><td>350000.0</td><td>(3769,[13,38,434,...</td></tr>\n",
       "<tr><td>(2,[],[])</td><td>(11,[],[])</td><td>(25,[0],[1.0])</td><td>(6,[0],[1.0])</td><td>(2386,[486],[1.0])</td><td>(540,[100],[1.0])</td><td>(16,[1],[1.0])</td><td>(18,[0],[1.0])</td><td>(158,[23],[1.0])</td><td>(607,[78],[1.0])</td><td>350000.0</td><td>(3769,[13,38,530,...</td></tr>\n",
       "<tr><td>(2,[],[])</td><td>(11,[],[])</td><td>(25,[0],[1.0])</td><td>(6,[0],[1.0])</td><td>(2386,[518],[1.0])</td><td>(540,[82],[1.0])</td><td>(16,[1],[1.0])</td><td>(18,[9],[1.0])</td><td>(158,[75],[1.0])</td><td>(607,[127],[1.0])</td><td>315000.0</td><td>(3769,[13,38,562,...</td></tr>\n",
       "<tr><td>(2,[],[])</td><td>(11,[],[])</td><td>(25,[0],[1.0])</td><td>(6,[0],[1.0])</td><td>(2386,[585],[1.0])</td><td>(540,[47],[1.0])</td><td>(16,[0],[1.0])</td><td>(18,[9],[1.0])</td><td>(158,[7],[1.0])</td><td>(607,[117],[1.0])</td><td>321000.0</td><td>(3769,[13,38,629,...</td></tr>\n",
       "</table>\n",
       "only showing top 10 rows\n"
      ],
      "text/plain": [
       "+------------------+-------------------+------------------+-----------------------+-------------------+-------------------------+--------------------------+------------------------+----------------------------+-----------------------------+------------+--------------------+\n",
       "|year_onehot_encode|month_onehot_encode|town_onehot_encode|flat_type_onehot_encode|block_onehot_encode|street_name_onehot_encode|storey_range_onehot_encode|flat_model_onehot_encode|floor_area_sqm_onehot_encode|remaining_lease_onehot_encode|resale_price|               Xcols|\n",
       "+------------------+-------------------+------------------+-----------------------+-------------------+-------------------------+--------------------------+------------------------+----------------------------+-----------------------------+------------+--------------------+\n",
       "|         (2,[],[])|         (11,[],[])|        (25,[],[])|          (6,[1],[1.0])|  (2386,[32],[1.0])|        (540,[183],[1.0])|            (16,[3],[1.0])|          (18,[1],[1.0])|            (158,[11],[1.0])|            (607,[222],[1.0])|    710000.0|(3769,[39,76,2613...|\n",
       "|         (2,[],[])|         (11,[],[])|    (25,[0],[1.0])|          (6,[0],[1.0])|  (2386,[33],[1.0])|         (540,[21],[1.0])|            (16,[1],[1.0])|          (18,[2],[1.0])|            (158,[51],[1.0])|            (607,[247],[1.0])|    340000.0|(3769,[13,38,77,2...|\n",
       "|         (2,[],[])|         (11,[],[])|    (25,[0],[1.0])|          (6,[0],[1.0])| (2386,[194],[1.0])|        (540,[324],[1.0])|            (16,[1],[1.0])|          (18,[4],[1.0])|            (158,[75],[1.0])|            (607,[188],[1.0])|    368000.0|(3769,[13,38,238,...|\n",
       "|         (2,[],[])|         (11,[],[])|    (25,[0],[1.0])|          (6,[0],[1.0])| (2386,[300],[1.0])|        (540,[400],[1.0])|            (16,[3],[1.0])|          (18,[9],[1.0])|             (158,[3],[1.0])|             (607,[86],[1.0])|    303000.0|(3769,[13,38,344,...|\n",
       "|         (2,[],[])|         (11,[],[])|    (25,[0],[1.0])|          (6,[0],[1.0])| (2386,[348],[1.0])|        (540,[285],[1.0])|            (16,[2],[1.0])|          (18,[9],[1.0])|             (158,[7],[1.0])|            (607,[154],[1.0])|    327500.0|(3769,[13,38,392,...|\n",
       "|         (2,[],[])|         (11,[],[])|    (25,[0],[1.0])|          (6,[0],[1.0])| (2386,[376],[1.0])|        (540,[459],[1.0])|            (16,[1],[1.0])|          (18,[4],[1.0])|             (158,[9],[1.0])|            (607,[251],[1.0])|    328000.0|(3769,[13,38,420,...|\n",
       "|         (2,[],[])|         (11,[],[])|    (25,[0],[1.0])|          (6,[0],[1.0])| (2386,[390],[1.0])|        (540,[220],[1.0])|            (16,[1],[1.0])|          (18,[9],[1.0])|            (158,[36],[1.0])|            (607,[171],[1.0])|    350000.0|(3769,[13,38,434,...|\n",
       "|         (2,[],[])|         (11,[],[])|    (25,[0],[1.0])|          (6,[0],[1.0])| (2386,[486],[1.0])|        (540,[100],[1.0])|            (16,[1],[1.0])|          (18,[0],[1.0])|            (158,[23],[1.0])|             (607,[78],[1.0])|    350000.0|(3769,[13,38,530,...|\n",
       "|         (2,[],[])|         (11,[],[])|    (25,[0],[1.0])|          (6,[0],[1.0])| (2386,[518],[1.0])|         (540,[82],[1.0])|            (16,[1],[1.0])|          (18,[9],[1.0])|            (158,[75],[1.0])|            (607,[127],[1.0])|    315000.0|(3769,[13,38,562,...|\n",
       "|         (2,[],[])|         (11,[],[])|    (25,[0],[1.0])|          (6,[0],[1.0])| (2386,[585],[1.0])|         (540,[47],[1.0])|            (16,[0],[1.0])|          (18,[9],[1.0])|             (158,[7],[1.0])|            (607,[117],[1.0])|    321000.0|(3769,[13,38,629,...|\n",
       "+------------------+-------------------+------------------+-----------------------+-------------------+-------------------------+--------------------------+------------------------+----------------------------+-----------------------------+------------+--------------------+\n",
       "only showing top 10 rows"
      ]
     },
     "execution_count": 52,
     "metadata": {},
     "output_type": "execute_result"
    }
   ],
   "source": [
    "#df_median_test\n",
    "df_median_test_vectored = featureassembler.transform(df_median_test)\n",
    "df_median_test_vectored"
   ]
  },
  {
   "cell_type": "code",
   "execution_count": 53,
   "metadata": {},
   "outputs": [
    {
     "data": {
      "text/html": [
       "<table border='1'>\n",
       "<tr><th>year_onehot_encode</th><th>month_onehot_encode</th><th>town_onehot_encode</th><th>flat_type_onehot_encode</th><th>block_onehot_encode</th><th>street_name_onehot_encode</th><th>storey_range_onehot_encode</th><th>flat_model_onehot_encode</th><th>floor_area_sqm_onehot_encode</th><th>remaining_lease_onehot_encode</th><th>resale_price</th><th>Xcols</th></tr>\n",
       "<tr><td>(2,[],[])</td><td>(11,[],[])</td><td>(25,[],[])</td><td>(6,[1],[1.0])</td><td>(2386,[22],[1.0])</td><td>(540,[183],[1.0])</td><td>(16,[1],[1.0])</td><td>(18,[1],[1.0])</td><td>(158,[11],[1.0])</td><td>(607,[449],[1.0])</td><td>790000.0</td><td>(3769,[39,66,2613...</td></tr>\n",
       "<tr><td>(2,[],[])</td><td>(11,[],[])</td><td>(25,[],[])</td><td>(6,[1],[1.0])</td><td>(2386,[22],[1.0])</td><td>(540,[183],[1.0])</td><td>(16,[2],[1.0])</td><td>(18,[1],[1.0])</td><td>(158,[11],[1.0])</td><td>(607,[449],[1.0])</td><td>810000.0</td><td>(3769,[39,66,2613...</td></tr>\n",
       "<tr><td>(2,[],[])</td><td>(11,[],[])</td><td>(25,[],[])</td><td>(6,[2],[1.0])</td><td>(2386,[27],[1.0])</td><td>(540,[392],[1.0])</td><td>(16,[1],[1.0])</td><td>(18,[1],[1.0])</td><td>(158,[15],[1.0])</td><td>(607,[394],[1.0])</td><td>425000.0</td><td>(3769,[40,71,2822...</td></tr>\n",
       "<tr><td>(2,[],[])</td><td>(11,[],[])</td><td>(25,[],[])</td><td>(6,[3],[1.0])</td><td>(2386,[15],[1.0])</td><td>(540,[183],[1.0])</td><td>(16,[0],[1.0])</td><td>(18,[6],[1.0])</td><td>(158,[22],[1.0])</td><td>(607,[473],[1.0])</td><td>910000.0</td><td>(3769,[41,59,2613...</td></tr>\n",
       "<tr><td>(2,[],[])</td><td>(11,[],[])</td><td>(25,[0],[1.0])</td><td>(6,[0],[1.0])</td><td>(2386,[0],[1.0])</td><td>(540,[21],[1.0])</td><td>(16,[2],[1.0])</td><td>(18,[1],[1.0])</td><td>(158,[46],[1.0])</td><td>(607,[267],[1.0])</td><td>280000.0</td><td>(3769,[13,38,44,2...</td></tr>\n",
       "<tr><td>(2,[],[])</td><td>(11,[],[])</td><td>(25,[0],[1.0])</td><td>(6,[0],[1.0])</td><td>(2386,[143],[1.0])</td><td>(540,[110],[1.0])</td><td>(16,[3],[1.0])</td><td>(18,[2],[1.0])</td><td>(158,[3],[1.0])</td><td>(607,[177],[1.0])</td><td>360000.0</td><td>(3769,[13,38,187,...</td></tr>\n",
       "<tr><td>(2,[],[])</td><td>(11,[],[])</td><td>(25,[0],[1.0])</td><td>(6,[0],[1.0])</td><td>(2386,[326],[1.0])</td><td>(540,[110],[1.0])</td><td>(16,[3],[1.0])</td><td>(18,[4],[1.0])</td><td>(158,[9],[1.0])</td><td>(607,[67],[1.0])</td><td>295000.0</td><td>(3769,[13,38,370,...</td></tr>\n",
       "<tr><td>(2,[],[])</td><td>(11,[],[])</td><td>(25,[0],[1.0])</td><td>(6,[0],[1.0])</td><td>(2386,[348],[1.0])</td><td>(540,[285],[1.0])</td><td>(16,[2],[1.0])</td><td>(18,[9],[1.0])</td><td>(158,[2],[1.0])</td><td>(607,[154],[1.0])</td><td>325000.0</td><td>(3769,[13,38,392,...</td></tr>\n",
       "<tr><td>(2,[],[])</td><td>(11,[],[])</td><td>(25,[0],[1.0])</td><td>(6,[0],[1.0])</td><td>(2386,[348],[1.0])</td><td>(540,[285],[1.0])</td><td>(16,[2],[1.0])</td><td>(18,[9],[1.0])</td><td>(158,[7],[1.0])</td><td>(607,[154],[1.0])</td><td>320000.0</td><td>(3769,[13,38,392,...</td></tr>\n",
       "<tr><td>(2,[],[])</td><td>(11,[],[])</td><td>(25,[0],[1.0])</td><td>(6,[0],[1.0])</td><td>(2386,[441],[1.0])</td><td>(540,[362],[1.0])</td><td>(16,[1],[1.0])</td><td>(18,[0],[1.0])</td><td>(158,[23],[1.0])</td><td>(607,[42],[1.0])</td><td>371000.0</td><td>(3769,[13,38,485,...</td></tr>\n",
       "</table>\n",
       "only showing top 10 rows\n"
      ],
      "text/plain": [
       "+------------------+-------------------+------------------+-----------------------+-------------------+-------------------------+--------------------------+------------------------+----------------------------+-----------------------------+------------+--------------------+\n",
       "|year_onehot_encode|month_onehot_encode|town_onehot_encode|flat_type_onehot_encode|block_onehot_encode|street_name_onehot_encode|storey_range_onehot_encode|flat_model_onehot_encode|floor_area_sqm_onehot_encode|remaining_lease_onehot_encode|resale_price|               Xcols|\n",
       "+------------------+-------------------+------------------+-----------------------+-------------------+-------------------------+--------------------------+------------------------+----------------------------+-----------------------------+------------+--------------------+\n",
       "|         (2,[],[])|         (11,[],[])|        (25,[],[])|          (6,[1],[1.0])|  (2386,[22],[1.0])|        (540,[183],[1.0])|            (16,[1],[1.0])|          (18,[1],[1.0])|            (158,[11],[1.0])|            (607,[449],[1.0])|    790000.0|(3769,[39,66,2613...|\n",
       "|         (2,[],[])|         (11,[],[])|        (25,[],[])|          (6,[1],[1.0])|  (2386,[22],[1.0])|        (540,[183],[1.0])|            (16,[2],[1.0])|          (18,[1],[1.0])|            (158,[11],[1.0])|            (607,[449],[1.0])|    810000.0|(3769,[39,66,2613...|\n",
       "|         (2,[],[])|         (11,[],[])|        (25,[],[])|          (6,[2],[1.0])|  (2386,[27],[1.0])|        (540,[392],[1.0])|            (16,[1],[1.0])|          (18,[1],[1.0])|            (158,[15],[1.0])|            (607,[394],[1.0])|    425000.0|(3769,[40,71,2822...|\n",
       "|         (2,[],[])|         (11,[],[])|        (25,[],[])|          (6,[3],[1.0])|  (2386,[15],[1.0])|        (540,[183],[1.0])|            (16,[0],[1.0])|          (18,[6],[1.0])|            (158,[22],[1.0])|            (607,[473],[1.0])|    910000.0|(3769,[41,59,2613...|\n",
       "|         (2,[],[])|         (11,[],[])|    (25,[0],[1.0])|          (6,[0],[1.0])|   (2386,[0],[1.0])|         (540,[21],[1.0])|            (16,[2],[1.0])|          (18,[1],[1.0])|            (158,[46],[1.0])|            (607,[267],[1.0])|    280000.0|(3769,[13,38,44,2...|\n",
       "|         (2,[],[])|         (11,[],[])|    (25,[0],[1.0])|          (6,[0],[1.0])| (2386,[143],[1.0])|        (540,[110],[1.0])|            (16,[3],[1.0])|          (18,[2],[1.0])|             (158,[3],[1.0])|            (607,[177],[1.0])|    360000.0|(3769,[13,38,187,...|\n",
       "|         (2,[],[])|         (11,[],[])|    (25,[0],[1.0])|          (6,[0],[1.0])| (2386,[326],[1.0])|        (540,[110],[1.0])|            (16,[3],[1.0])|          (18,[4],[1.0])|             (158,[9],[1.0])|             (607,[67],[1.0])|    295000.0|(3769,[13,38,370,...|\n",
       "|         (2,[],[])|         (11,[],[])|    (25,[0],[1.0])|          (6,[0],[1.0])| (2386,[348],[1.0])|        (540,[285],[1.0])|            (16,[2],[1.0])|          (18,[9],[1.0])|             (158,[2],[1.0])|            (607,[154],[1.0])|    325000.0|(3769,[13,38,392,...|\n",
       "|         (2,[],[])|         (11,[],[])|    (25,[0],[1.0])|          (6,[0],[1.0])| (2386,[348],[1.0])|        (540,[285],[1.0])|            (16,[2],[1.0])|          (18,[9],[1.0])|             (158,[7],[1.0])|            (607,[154],[1.0])|    320000.0|(3769,[13,38,392,...|\n",
       "|         (2,[],[])|         (11,[],[])|    (25,[0],[1.0])|          (6,[0],[1.0])| (2386,[441],[1.0])|        (540,[362],[1.0])|            (16,[1],[1.0])|          (18,[0],[1.0])|            (158,[23],[1.0])|             (607,[42],[1.0])|    371000.0|(3769,[13,38,485,...|\n",
       "+------------------+-------------------+------------------+-----------------------+-------------------+-------------------------+--------------------------+------------------------+----------------------------+-----------------------------+------------+--------------------+\n",
       "only showing top 10 rows"
      ]
     },
     "execution_count": 53,
     "metadata": {},
     "output_type": "execute_result"
    }
   ],
   "source": [
    "#df_replaced_train\n",
    "df_replaced_train_vectored = featureassembler.transform(df_replaced_train)\n",
    "df_replaced_train_vectored"
   ]
  },
  {
   "cell_type": "code",
   "execution_count": 54,
   "metadata": {},
   "outputs": [
    {
     "data": {
      "text/html": [
       "<table border='1'>\n",
       "<tr><th>year_onehot_encode</th><th>month_onehot_encode</th><th>town_onehot_encode</th><th>flat_type_onehot_encode</th><th>block_onehot_encode</th><th>street_name_onehot_encode</th><th>storey_range_onehot_encode</th><th>flat_model_onehot_encode</th><th>floor_area_sqm_onehot_encode</th><th>remaining_lease_onehot_encode</th><th>resale_price</th><th>Xcols</th></tr>\n",
       "<tr><td>(2,[],[])</td><td>(11,[],[])</td><td>(25,[],[])</td><td>(6,[1],[1.0])</td><td>(2386,[32],[1.0])</td><td>(540,[183],[1.0])</td><td>(16,[3],[1.0])</td><td>(18,[1],[1.0])</td><td>(158,[11],[1.0])</td><td>(607,[222],[1.0])</td><td>710000.0</td><td>(3769,[39,76,2613...</td></tr>\n",
       "<tr><td>(2,[],[])</td><td>(11,[],[])</td><td>(25,[0],[1.0])</td><td>(6,[0],[1.0])</td><td>(2386,[33],[1.0])</td><td>(540,[21],[1.0])</td><td>(16,[1],[1.0])</td><td>(18,[2],[1.0])</td><td>(158,[51],[1.0])</td><td>(607,[247],[1.0])</td><td>340000.0</td><td>(3769,[13,38,77,2...</td></tr>\n",
       "<tr><td>(2,[],[])</td><td>(11,[],[])</td><td>(25,[0],[1.0])</td><td>(6,[0],[1.0])</td><td>(2386,[194],[1.0])</td><td>(540,[324],[1.0])</td><td>(16,[1],[1.0])</td><td>(18,[4],[1.0])</td><td>(158,[75],[1.0])</td><td>(607,[188],[1.0])</td><td>368000.0</td><td>(3769,[13,38,238,...</td></tr>\n",
       "<tr><td>(2,[],[])</td><td>(11,[],[])</td><td>(25,[0],[1.0])</td><td>(6,[0],[1.0])</td><td>(2386,[300],[1.0])</td><td>(540,[400],[1.0])</td><td>(16,[3],[1.0])</td><td>(18,[9],[1.0])</td><td>(158,[3],[1.0])</td><td>(607,[86],[1.0])</td><td>303000.0</td><td>(3769,[13,38,344,...</td></tr>\n",
       "<tr><td>(2,[],[])</td><td>(11,[],[])</td><td>(25,[0],[1.0])</td><td>(6,[0],[1.0])</td><td>(2386,[348],[1.0])</td><td>(540,[285],[1.0])</td><td>(16,[2],[1.0])</td><td>(18,[9],[1.0])</td><td>(158,[7],[1.0])</td><td>(607,[154],[1.0])</td><td>327500.0</td><td>(3769,[13,38,392,...</td></tr>\n",
       "<tr><td>(2,[],[])</td><td>(11,[],[])</td><td>(25,[0],[1.0])</td><td>(6,[0],[1.0])</td><td>(2386,[376],[1.0])</td><td>(540,[459],[1.0])</td><td>(16,[1],[1.0])</td><td>(18,[4],[1.0])</td><td>(158,[9],[1.0])</td><td>(607,[251],[1.0])</td><td>328000.0</td><td>(3769,[13,38,420,...</td></tr>\n",
       "<tr><td>(2,[],[])</td><td>(11,[],[])</td><td>(25,[0],[1.0])</td><td>(6,[0],[1.0])</td><td>(2386,[390],[1.0])</td><td>(540,[220],[1.0])</td><td>(16,[1],[1.0])</td><td>(18,[9],[1.0])</td><td>(158,[36],[1.0])</td><td>(607,[171],[1.0])</td><td>350000.0</td><td>(3769,[13,38,434,...</td></tr>\n",
       "<tr><td>(2,[],[])</td><td>(11,[],[])</td><td>(25,[0],[1.0])</td><td>(6,[0],[1.0])</td><td>(2386,[486],[1.0])</td><td>(540,[100],[1.0])</td><td>(16,[1],[1.0])</td><td>(18,[0],[1.0])</td><td>(158,[23],[1.0])</td><td>(607,[78],[1.0])</td><td>350000.0</td><td>(3769,[13,38,530,...</td></tr>\n",
       "<tr><td>(2,[],[])</td><td>(11,[],[])</td><td>(25,[0],[1.0])</td><td>(6,[0],[1.0])</td><td>(2386,[518],[1.0])</td><td>(540,[82],[1.0])</td><td>(16,[1],[1.0])</td><td>(18,[9],[1.0])</td><td>(158,[75],[1.0])</td><td>(607,[127],[1.0])</td><td>315000.0</td><td>(3769,[13,38,562,...</td></tr>\n",
       "<tr><td>(2,[],[])</td><td>(11,[],[])</td><td>(25,[0],[1.0])</td><td>(6,[0],[1.0])</td><td>(2386,[585],[1.0])</td><td>(540,[47],[1.0])</td><td>(16,[0],[1.0])</td><td>(18,[9],[1.0])</td><td>(158,[7],[1.0])</td><td>(607,[117],[1.0])</td><td>321000.0</td><td>(3769,[13,38,629,...</td></tr>\n",
       "</table>\n",
       "only showing top 10 rows\n"
      ],
      "text/plain": [
       "+------------------+-------------------+------------------+-----------------------+-------------------+-------------------------+--------------------------+------------------------+----------------------------+-----------------------------+------------+--------------------+\n",
       "|year_onehot_encode|month_onehot_encode|town_onehot_encode|flat_type_onehot_encode|block_onehot_encode|street_name_onehot_encode|storey_range_onehot_encode|flat_model_onehot_encode|floor_area_sqm_onehot_encode|remaining_lease_onehot_encode|resale_price|               Xcols|\n",
       "+------------------+-------------------+------------------+-----------------------+-------------------+-------------------------+--------------------------+------------------------+----------------------------+-----------------------------+------------+--------------------+\n",
       "|         (2,[],[])|         (11,[],[])|        (25,[],[])|          (6,[1],[1.0])|  (2386,[32],[1.0])|        (540,[183],[1.0])|            (16,[3],[1.0])|          (18,[1],[1.0])|            (158,[11],[1.0])|            (607,[222],[1.0])|    710000.0|(3769,[39,76,2613...|\n",
       "|         (2,[],[])|         (11,[],[])|    (25,[0],[1.0])|          (6,[0],[1.0])|  (2386,[33],[1.0])|         (540,[21],[1.0])|            (16,[1],[1.0])|          (18,[2],[1.0])|            (158,[51],[1.0])|            (607,[247],[1.0])|    340000.0|(3769,[13,38,77,2...|\n",
       "|         (2,[],[])|         (11,[],[])|    (25,[0],[1.0])|          (6,[0],[1.0])| (2386,[194],[1.0])|        (540,[324],[1.0])|            (16,[1],[1.0])|          (18,[4],[1.0])|            (158,[75],[1.0])|            (607,[188],[1.0])|    368000.0|(3769,[13,38,238,...|\n",
       "|         (2,[],[])|         (11,[],[])|    (25,[0],[1.0])|          (6,[0],[1.0])| (2386,[300],[1.0])|        (540,[400],[1.0])|            (16,[3],[1.0])|          (18,[9],[1.0])|             (158,[3],[1.0])|             (607,[86],[1.0])|    303000.0|(3769,[13,38,344,...|\n",
       "|         (2,[],[])|         (11,[],[])|    (25,[0],[1.0])|          (6,[0],[1.0])| (2386,[348],[1.0])|        (540,[285],[1.0])|            (16,[2],[1.0])|          (18,[9],[1.0])|             (158,[7],[1.0])|            (607,[154],[1.0])|    327500.0|(3769,[13,38,392,...|\n",
       "|         (2,[],[])|         (11,[],[])|    (25,[0],[1.0])|          (6,[0],[1.0])| (2386,[376],[1.0])|        (540,[459],[1.0])|            (16,[1],[1.0])|          (18,[4],[1.0])|             (158,[9],[1.0])|            (607,[251],[1.0])|    328000.0|(3769,[13,38,420,...|\n",
       "|         (2,[],[])|         (11,[],[])|    (25,[0],[1.0])|          (6,[0],[1.0])| (2386,[390],[1.0])|        (540,[220],[1.0])|            (16,[1],[1.0])|          (18,[9],[1.0])|            (158,[36],[1.0])|            (607,[171],[1.0])|    350000.0|(3769,[13,38,434,...|\n",
       "|         (2,[],[])|         (11,[],[])|    (25,[0],[1.0])|          (6,[0],[1.0])| (2386,[486],[1.0])|        (540,[100],[1.0])|            (16,[1],[1.0])|          (18,[0],[1.0])|            (158,[23],[1.0])|             (607,[78],[1.0])|    350000.0|(3769,[13,38,530,...|\n",
       "|         (2,[],[])|         (11,[],[])|    (25,[0],[1.0])|          (6,[0],[1.0])| (2386,[518],[1.0])|         (540,[82],[1.0])|            (16,[1],[1.0])|          (18,[9],[1.0])|            (158,[75],[1.0])|            (607,[127],[1.0])|    315000.0|(3769,[13,38,562,...|\n",
       "|         (2,[],[])|         (11,[],[])|    (25,[0],[1.0])|          (6,[0],[1.0])| (2386,[585],[1.0])|         (540,[47],[1.0])|            (16,[0],[1.0])|          (18,[9],[1.0])|             (158,[7],[1.0])|            (607,[117],[1.0])|    321000.0|(3769,[13,38,629,...|\n",
       "+------------------+-------------------+------------------+-----------------------+-------------------+-------------------------+--------------------------+------------------------+----------------------------+-----------------------------+------------+--------------------+\n",
       "only showing top 10 rows"
      ]
     },
     "execution_count": 54,
     "metadata": {},
     "output_type": "execute_result"
    }
   ],
   "source": [
    "#df_replaced_test\n",
    "df_replaced_test_vectored = featureassembler.transform(df_replaced_test)\n",
    "df_replaced_test_vectored"
   ]
  },
  {
   "cell_type": "markdown",
   "metadata": {},
   "source": [
    "## 4.3 Check of data <a id='4.3'></a>\n",
    "[Back to top](#top)"
   ]
  },
  {
   "cell_type": "markdown",
   "metadata": {},
   "source": [
    "use code to show number of rows and columns,\n",
    "\n",
    "as well as a sample of 10 rows before heading into Machine Learning Modelling"
   ]
  },
  {
   "cell_type": "markdown",
   "metadata": {},
   "source": [
    "### 4.3.1 dropped <a id='4.3.1'></a>\n",
    "[Back to top](#top)"
   ]
  },
  {
   "cell_type": "code",
   "execution_count": 55,
   "metadata": {},
   "outputs": [
    {
     "data": {
      "text/html": [
       "<table border='1'>\n",
       "<tr><th>Xcols</th><th>resale_price</th></tr>\n",
       "<tr><td>(3769,[39,66,2612...</td><td>790000.0</td></tr>\n",
       "<tr><td>(3769,[39,66,2612...</td><td>810000.0</td></tr>\n",
       "<tr><td>(3769,[40,71,2822...</td><td>425000.0</td></tr>\n",
       "<tr><td>(3769,[41,59,2612...</td><td>910000.0</td></tr>\n",
       "<tr><td>(3769,[13,38,45,2...</td><td>280000.0</td></tr>\n",
       "<tr><td>(3769,[13,38,187,...</td><td>360000.0</td></tr>\n",
       "<tr><td>(3769,[13,38,370,...</td><td>295000.0</td></tr>\n",
       "<tr><td>(3769,[13,38,392,...</td><td>325000.0</td></tr>\n",
       "<tr><td>(3769,[13,38,392,...</td><td>320000.0</td></tr>\n",
       "<tr><td>(3769,[13,38,484,...</td><td>371000.0</td></tr>\n",
       "</table>\n",
       "only showing top 10 rows\n"
      ],
      "text/plain": [
       "+--------------------+------------+\n",
       "|               Xcols|resale_price|\n",
       "+--------------------+------------+\n",
       "|(3769,[39,66,2612...|    790000.0|\n",
       "|(3769,[39,66,2612...|    810000.0|\n",
       "|(3769,[40,71,2822...|    425000.0|\n",
       "|(3769,[41,59,2612...|    910000.0|\n",
       "|(3769,[13,38,45,2...|    280000.0|\n",
       "|(3769,[13,38,187,...|    360000.0|\n",
       "|(3769,[13,38,370,...|    295000.0|\n",
       "|(3769,[13,38,392,...|    325000.0|\n",
       "|(3769,[13,38,392,...|    320000.0|\n",
       "|(3769,[13,38,484,...|    371000.0|\n",
       "+--------------------+------------+\n",
       "only showing top 10 rows"
      ]
     },
     "execution_count": 55,
     "metadata": {},
     "output_type": "execute_result"
    }
   ],
   "source": [
    "dropped_train_vectored = df_dropped_train_vectored.select('Xcols','resale_price')\n",
    "dropped_train_vectored"
   ]
  },
  {
   "cell_type": "code",
   "execution_count": 56,
   "metadata": {},
   "outputs": [
    {
     "name": "stdout",
     "output_type": "stream",
     "text": [
      "dropped_train_vectored\n",
      "no. of rows: 45038 | no. of columns: 2\n"
     ]
    }
   ],
   "source": [
    "print('dropped_train_vectored')\n",
    "print('no. of rows:', dropped_train_vectored.count(), '|', 'no. of columns:', len(dropped_train_vectored.columns))"
   ]
  },
  {
   "cell_type": "code",
   "execution_count": 57,
   "metadata": {},
   "outputs": [
    {
     "data": {
      "text/html": [
       "<table border='1'>\n",
       "<tr><th>Xcols</th><th>resale_price</th></tr>\n",
       "<tr><td>(3769,[39,76,2612...</td><td>710000.0</td></tr>\n",
       "<tr><td>(3769,[13,38,78,2...</td><td>340000.0</td></tr>\n",
       "<tr><td>(3769,[13,38,238,...</td><td>368000.0</td></tr>\n",
       "<tr><td>(3769,[13,38,344,...</td><td>303000.0</td></tr>\n",
       "<tr><td>(3769,[13,38,392,...</td><td>327500.0</td></tr>\n",
       "<tr><td>(3769,[13,38,420,...</td><td>328000.0</td></tr>\n",
       "<tr><td>(3769,[13,38,434,...</td><td>350000.0</td></tr>\n",
       "<tr><td>(3769,[13,38,528,...</td><td>350000.0</td></tr>\n",
       "<tr><td>(3769,[13,38,562,...</td><td>315000.0</td></tr>\n",
       "<tr><td>(3769,[13,38,629,...</td><td>321000.0</td></tr>\n",
       "</table>\n",
       "only showing top 10 rows\n"
      ],
      "text/plain": [
       "+--------------------+------------+\n",
       "|               Xcols|resale_price|\n",
       "+--------------------+------------+\n",
       "|(3769,[39,76,2612...|    710000.0|\n",
       "|(3769,[13,38,78,2...|    340000.0|\n",
       "|(3769,[13,38,238,...|    368000.0|\n",
       "|(3769,[13,38,344,...|    303000.0|\n",
       "|(3769,[13,38,392,...|    327500.0|\n",
       "|(3769,[13,38,420,...|    328000.0|\n",
       "|(3769,[13,38,434,...|    350000.0|\n",
       "|(3769,[13,38,528,...|    350000.0|\n",
       "|(3769,[13,38,562,...|    315000.0|\n",
       "|(3769,[13,38,629,...|    321000.0|\n",
       "+--------------------+------------+\n",
       "only showing top 10 rows"
      ]
     },
     "execution_count": 57,
     "metadata": {},
     "output_type": "execute_result"
    }
   ],
   "source": [
    "dropped_test_vectored = df_dropped_test_vectored.select('Xcols','resale_price')\n",
    "dropped_test_vectored"
   ]
  },
  {
   "cell_type": "code",
   "execution_count": 58,
   "metadata": {},
   "outputs": [
    {
     "name": "stdout",
     "output_type": "stream",
     "text": [
      "dropped_test_vectored\n",
      "no. of rows: 19159 | no. of columns: 2\n"
     ]
    }
   ],
   "source": [
    "print('dropped_test_vectored')\n",
    "print('no. of rows:', dropped_test_vectored.count(), '|', 'no. of columns:', len(dropped_test_vectored.columns))"
   ]
  },
  {
   "cell_type": "markdown",
   "metadata": {},
   "source": [
    "### 4.3.2 mean <a id='4.3.2'></a>\n",
    "[Back to top](#top)"
   ]
  },
  {
   "cell_type": "code",
   "execution_count": 59,
   "metadata": {},
   "outputs": [
    {
     "data": {
      "text/html": [
       "<table border='1'>\n",
       "<tr><th>Xcols</th><th>resale_price</th></tr>\n",
       "<tr><td>(3770,[39,66,2613...</td><td>790000.0</td></tr>\n",
       "<tr><td>(3770,[39,66,2613...</td><td>810000.0</td></tr>\n",
       "<tr><td>(3770,[40,71,2822...</td><td>425000.0</td></tr>\n",
       "<tr><td>(3770,[41,59,2613...</td><td>910000.0</td></tr>\n",
       "<tr><td>(3770,[13,38,44,2...</td><td>280000.0</td></tr>\n",
       "<tr><td>(3770,[13,38,187,...</td><td>360000.0</td></tr>\n",
       "<tr><td>(3770,[13,38,370,...</td><td>295000.0</td></tr>\n",
       "<tr><td>(3770,[13,38,392,...</td><td>325000.0</td></tr>\n",
       "<tr><td>(3770,[13,38,392,...</td><td>320000.0</td></tr>\n",
       "<tr><td>(3770,[13,38,485,...</td><td>371000.0</td></tr>\n",
       "</table>\n",
       "only showing top 10 rows\n"
      ],
      "text/plain": [
       "+--------------------+------------+\n",
       "|               Xcols|resale_price|\n",
       "+--------------------+------------+\n",
       "|(3770,[39,66,2613...|    790000.0|\n",
       "|(3770,[39,66,2613...|    810000.0|\n",
       "|(3770,[40,71,2822...|    425000.0|\n",
       "|(3770,[41,59,2613...|    910000.0|\n",
       "|(3770,[13,38,44,2...|    280000.0|\n",
       "|(3770,[13,38,187,...|    360000.0|\n",
       "|(3770,[13,38,370,...|    295000.0|\n",
       "|(3770,[13,38,392,...|    325000.0|\n",
       "|(3770,[13,38,392,...|    320000.0|\n",
       "|(3770,[13,38,485,...|    371000.0|\n",
       "+--------------------+------------+\n",
       "only showing top 10 rows"
      ]
     },
     "execution_count": 59,
     "metadata": {},
     "output_type": "execute_result"
    }
   ],
   "source": [
    "mean_train_vectored = df_mean_train_vectored.select('Xcols','resale_price')\n",
    "mean_train_vectored"
   ]
  },
  {
   "cell_type": "code",
   "execution_count": 60,
   "metadata": {},
   "outputs": [
    {
     "name": "stdout",
     "output_type": "stream",
     "text": [
      "mean_train_vectored\n",
      "no. of rows: 45077 | no. of columns: 2\n"
     ]
    }
   ],
   "source": [
    "print('mean_train_vectored')\n",
    "print('no. of rows:', mean_train_vectored.count(), '|', 'no. of columns:', len(mean_train_vectored.columns))"
   ]
  },
  {
   "cell_type": "code",
   "execution_count": 61,
   "metadata": {},
   "outputs": [
    {
     "data": {
      "text/html": [
       "<table border='1'>\n",
       "<tr><th>Xcols</th><th>resale_price</th></tr>\n",
       "<tr><td>(3770,[39,76,2613...</td><td>710000.0</td></tr>\n",
       "<tr><td>(3770,[13,38,77,2...</td><td>340000.0</td></tr>\n",
       "<tr><td>(3770,[13,38,238,...</td><td>368000.0</td></tr>\n",
       "<tr><td>(3770,[13,38,344,...</td><td>303000.0</td></tr>\n",
       "<tr><td>(3770,[13,38,392,...</td><td>327500.0</td></tr>\n",
       "<tr><td>(3770,[13,38,420,...</td><td>328000.0</td></tr>\n",
       "<tr><td>(3770,[13,38,434,...</td><td>350000.0</td></tr>\n",
       "<tr><td>(3770,[13,38,530,...</td><td>350000.0</td></tr>\n",
       "<tr><td>(3770,[13,38,562,...</td><td>315000.0</td></tr>\n",
       "<tr><td>(3770,[13,38,629,...</td><td>321000.0</td></tr>\n",
       "</table>\n",
       "only showing top 10 rows\n"
      ],
      "text/plain": [
       "+--------------------+------------+\n",
       "|               Xcols|resale_price|\n",
       "+--------------------+------------+\n",
       "|(3770,[39,76,2613...|    710000.0|\n",
       "|(3770,[13,38,77,2...|    340000.0|\n",
       "|(3770,[13,38,238,...|    368000.0|\n",
       "|(3770,[13,38,344,...|    303000.0|\n",
       "|(3770,[13,38,392,...|    327500.0|\n",
       "|(3770,[13,38,420,...|    328000.0|\n",
       "|(3770,[13,38,434,...|    350000.0|\n",
       "|(3770,[13,38,530,...|    350000.0|\n",
       "|(3770,[13,38,562,...|    315000.0|\n",
       "|(3770,[13,38,629,...|    321000.0|\n",
       "+--------------------+------------+\n",
       "only showing top 10 rows"
      ]
     },
     "execution_count": 61,
     "metadata": {},
     "output_type": "execute_result"
    }
   ],
   "source": [
    "mean_test_vectored = df_mean_test_vectored.select('Xcols','resale_price')\n",
    "mean_test_vectored"
   ]
  },
  {
   "cell_type": "code",
   "execution_count": 62,
   "metadata": {},
   "outputs": [
    {
     "name": "stdout",
     "output_type": "stream",
     "text": [
      "mean_test_vectored\n",
      "no. of rows: 19170 | no. of columns: 2\n"
     ]
    }
   ],
   "source": [
    "print('mean_test_vectored')\n",
    "print('no. of rows:', mean_test_vectored.count(), '|', 'no. of columns:', len(mean_test_vectored.columns))"
   ]
  },
  {
   "cell_type": "markdown",
   "metadata": {},
   "source": [
    "### 4.3.3 median <a id='4.3.3'></a>\n",
    "[Back to top](#top)"
   ]
  },
  {
   "cell_type": "code",
   "execution_count": 63,
   "metadata": {},
   "outputs": [
    {
     "data": {
      "text/html": [
       "<table border='1'>\n",
       "<tr><th>Xcols</th><th>resale_price</th></tr>\n",
       "<tr><td>(3769,[39,66,2613...</td><td>790000.0</td></tr>\n",
       "<tr><td>(3769,[39,66,2613...</td><td>810000.0</td></tr>\n",
       "<tr><td>(3769,[40,71,2822...</td><td>425000.0</td></tr>\n",
       "<tr><td>(3769,[41,59,2613...</td><td>910000.0</td></tr>\n",
       "<tr><td>(3769,[13,38,44,2...</td><td>280000.0</td></tr>\n",
       "<tr><td>(3769,[13,38,187,...</td><td>360000.0</td></tr>\n",
       "<tr><td>(3769,[13,38,370,...</td><td>295000.0</td></tr>\n",
       "<tr><td>(3769,[13,38,392,...</td><td>325000.0</td></tr>\n",
       "<tr><td>(3769,[13,38,392,...</td><td>320000.0</td></tr>\n",
       "<tr><td>(3769,[13,38,485,...</td><td>371000.0</td></tr>\n",
       "</table>\n",
       "only showing top 10 rows\n"
      ],
      "text/plain": [
       "+--------------------+------------+\n",
       "|               Xcols|resale_price|\n",
       "+--------------------+------------+\n",
       "|(3769,[39,66,2613...|    790000.0|\n",
       "|(3769,[39,66,2613...|    810000.0|\n",
       "|(3769,[40,71,2822...|    425000.0|\n",
       "|(3769,[41,59,2613...|    910000.0|\n",
       "|(3769,[13,38,44,2...|    280000.0|\n",
       "|(3769,[13,38,187,...|    360000.0|\n",
       "|(3769,[13,38,370,...|    295000.0|\n",
       "|(3769,[13,38,392,...|    325000.0|\n",
       "|(3769,[13,38,392,...|    320000.0|\n",
       "|(3769,[13,38,485,...|    371000.0|\n",
       "+--------------------+------------+\n",
       "only showing top 10 rows"
      ]
     },
     "execution_count": 63,
     "metadata": {},
     "output_type": "execute_result"
    }
   ],
   "source": [
    "median_train_vectored = df_median_train_vectored.select('Xcols','resale_price')\n",
    "median_train_vectored"
   ]
  },
  {
   "cell_type": "code",
   "execution_count": 64,
   "metadata": {},
   "outputs": [
    {
     "name": "stdout",
     "output_type": "stream",
     "text": [
      "median_train_vectored\n",
      "no. of rows: 45077 | no. of columns: 2\n"
     ]
    }
   ],
   "source": [
    "print('median_train_vectored')\n",
    "print('no. of rows:', median_train_vectored.count(), '|', 'no. of columns:', len(median_train_vectored.columns))"
   ]
  },
  {
   "cell_type": "code",
   "execution_count": 65,
   "metadata": {},
   "outputs": [
    {
     "data": {
      "text/html": [
       "<table border='1'>\n",
       "<tr><th>Xcols</th><th>resale_price</th></tr>\n",
       "<tr><td>(3769,[39,76,2613...</td><td>710000.0</td></tr>\n",
       "<tr><td>(3769,[13,38,77,2...</td><td>340000.0</td></tr>\n",
       "<tr><td>(3769,[13,38,238,...</td><td>368000.0</td></tr>\n",
       "<tr><td>(3769,[13,38,344,...</td><td>303000.0</td></tr>\n",
       "<tr><td>(3769,[13,38,392,...</td><td>327500.0</td></tr>\n",
       "<tr><td>(3769,[13,38,420,...</td><td>328000.0</td></tr>\n",
       "<tr><td>(3769,[13,38,434,...</td><td>350000.0</td></tr>\n",
       "<tr><td>(3769,[13,38,530,...</td><td>350000.0</td></tr>\n",
       "<tr><td>(3769,[13,38,562,...</td><td>315000.0</td></tr>\n",
       "<tr><td>(3769,[13,38,629,...</td><td>321000.0</td></tr>\n",
       "</table>\n",
       "only showing top 10 rows\n"
      ],
      "text/plain": [
       "+--------------------+------------+\n",
       "|               Xcols|resale_price|\n",
       "+--------------------+------------+\n",
       "|(3769,[39,76,2613...|    710000.0|\n",
       "|(3769,[13,38,77,2...|    340000.0|\n",
       "|(3769,[13,38,238,...|    368000.0|\n",
       "|(3769,[13,38,344,...|    303000.0|\n",
       "|(3769,[13,38,392,...|    327500.0|\n",
       "|(3769,[13,38,420,...|    328000.0|\n",
       "|(3769,[13,38,434,...|    350000.0|\n",
       "|(3769,[13,38,530,...|    350000.0|\n",
       "|(3769,[13,38,562,...|    315000.0|\n",
       "|(3769,[13,38,629,...|    321000.0|\n",
       "+--------------------+------------+\n",
       "only showing top 10 rows"
      ]
     },
     "execution_count": 65,
     "metadata": {},
     "output_type": "execute_result"
    }
   ],
   "source": [
    "median_test_vectored = df_median_test_vectored.select('Xcols','resale_price')\n",
    "median_test_vectored"
   ]
  },
  {
   "cell_type": "code",
   "execution_count": 66,
   "metadata": {},
   "outputs": [
    {
     "name": "stdout",
     "output_type": "stream",
     "text": [
      "median_test_vectored\n",
      "no. of rows: 19170 | no. of columns: 2\n"
     ]
    }
   ],
   "source": [
    "print('median_test_vectored')\n",
    "print('no. of rows:', median_test_vectored.count(), '|', 'no. of columns:', len(median_test_vectored.columns))"
   ]
  },
  {
   "cell_type": "markdown",
   "metadata": {},
   "source": [
    "### 4.3.4 replaced <a id='4.3.4'></a>\n",
    "[Back to top](#top)"
   ]
  },
  {
   "cell_type": "code",
   "execution_count": 67,
   "metadata": {},
   "outputs": [
    {
     "data": {
      "text/html": [
       "<table border='1'>\n",
       "<tr><th>Xcols</th><th>resale_price</th></tr>\n",
       "<tr><td>(3769,[39,66,2613...</td><td>790000.0</td></tr>\n",
       "<tr><td>(3769,[39,66,2613...</td><td>810000.0</td></tr>\n",
       "<tr><td>(3769,[40,71,2822...</td><td>425000.0</td></tr>\n",
       "<tr><td>(3769,[41,59,2613...</td><td>910000.0</td></tr>\n",
       "<tr><td>(3769,[13,38,44,2...</td><td>280000.0</td></tr>\n",
       "<tr><td>(3769,[13,38,187,...</td><td>360000.0</td></tr>\n",
       "<tr><td>(3769,[13,38,370,...</td><td>295000.0</td></tr>\n",
       "<tr><td>(3769,[13,38,392,...</td><td>325000.0</td></tr>\n",
       "<tr><td>(3769,[13,38,392,...</td><td>320000.0</td></tr>\n",
       "<tr><td>(3769,[13,38,485,...</td><td>371000.0</td></tr>\n",
       "</table>\n",
       "only showing top 10 rows\n"
      ],
      "text/plain": [
       "+--------------------+------------+\n",
       "|               Xcols|resale_price|\n",
       "+--------------------+------------+\n",
       "|(3769,[39,66,2613...|    790000.0|\n",
       "|(3769,[39,66,2613...|    810000.0|\n",
       "|(3769,[40,71,2822...|    425000.0|\n",
       "|(3769,[41,59,2613...|    910000.0|\n",
       "|(3769,[13,38,44,2...|    280000.0|\n",
       "|(3769,[13,38,187,...|    360000.0|\n",
       "|(3769,[13,38,370,...|    295000.0|\n",
       "|(3769,[13,38,392,...|    325000.0|\n",
       "|(3769,[13,38,392,...|    320000.0|\n",
       "|(3769,[13,38,485,...|    371000.0|\n",
       "+--------------------+------------+\n",
       "only showing top 10 rows"
      ]
     },
     "execution_count": 67,
     "metadata": {},
     "output_type": "execute_result"
    }
   ],
   "source": [
    "replaced_train_vectored = df_replaced_train_vectored.select('Xcols','resale_price')\n",
    "replaced_train_vectored"
   ]
  },
  {
   "cell_type": "code",
   "execution_count": 68,
   "metadata": {},
   "outputs": [
    {
     "name": "stdout",
     "output_type": "stream",
     "text": [
      "replaced_train_vectored\n",
      "no. of rows: 45077 | no. of columns: 2\n"
     ]
    }
   ],
   "source": [
    "print('replaced_train_vectored')\n",
    "print('no. of rows:', replaced_train_vectored.count(), '|', 'no. of columns:', len(replaced_train_vectored.columns))"
   ]
  },
  {
   "cell_type": "code",
   "execution_count": 69,
   "metadata": {},
   "outputs": [
    {
     "data": {
      "text/html": [
       "<table border='1'>\n",
       "<tr><th>Xcols</th><th>resale_price</th></tr>\n",
       "<tr><td>(3769,[39,76,2613...</td><td>710000.0</td></tr>\n",
       "<tr><td>(3769,[13,38,77,2...</td><td>340000.0</td></tr>\n",
       "<tr><td>(3769,[13,38,238,...</td><td>368000.0</td></tr>\n",
       "<tr><td>(3769,[13,38,344,...</td><td>303000.0</td></tr>\n",
       "<tr><td>(3769,[13,38,392,...</td><td>327500.0</td></tr>\n",
       "<tr><td>(3769,[13,38,420,...</td><td>328000.0</td></tr>\n",
       "<tr><td>(3769,[13,38,434,...</td><td>350000.0</td></tr>\n",
       "<tr><td>(3769,[13,38,530,...</td><td>350000.0</td></tr>\n",
       "<tr><td>(3769,[13,38,562,...</td><td>315000.0</td></tr>\n",
       "<tr><td>(3769,[13,38,629,...</td><td>321000.0</td></tr>\n",
       "</table>\n",
       "only showing top 10 rows\n"
      ],
      "text/plain": [
       "+--------------------+------------+\n",
       "|               Xcols|resale_price|\n",
       "+--------------------+------------+\n",
       "|(3769,[39,76,2613...|    710000.0|\n",
       "|(3769,[13,38,77,2...|    340000.0|\n",
       "|(3769,[13,38,238,...|    368000.0|\n",
       "|(3769,[13,38,344,...|    303000.0|\n",
       "|(3769,[13,38,392,...|    327500.0|\n",
       "|(3769,[13,38,420,...|    328000.0|\n",
       "|(3769,[13,38,434,...|    350000.0|\n",
       "|(3769,[13,38,530,...|    350000.0|\n",
       "|(3769,[13,38,562,...|    315000.0|\n",
       "|(3769,[13,38,629,...|    321000.0|\n",
       "+--------------------+------------+\n",
       "only showing top 10 rows"
      ]
     },
     "execution_count": 69,
     "metadata": {},
     "output_type": "execute_result"
    }
   ],
   "source": [
    "replaced_test_vectored = df_replaced_test_vectored.select('Xcols','resale_price')\n",
    "replaced_test_vectored"
   ]
  },
  {
   "cell_type": "code",
   "execution_count": 70,
   "metadata": {},
   "outputs": [
    {
     "name": "stdout",
     "output_type": "stream",
     "text": [
      "replaced_test_vectored\n",
      "no. of rows: 19170 | no. of columns: 2\n"
     ]
    }
   ],
   "source": [
    "print('replaced_test_vectored')\n",
    "print('no. of rows:', replaced_test_vectored.count(), '|', 'no. of columns:', len(replaced_test_vectored.columns))"
   ]
  },
  {
   "cell_type": "markdown",
   "metadata": {},
   "source": [
    "# 5. Model Evaluation and Selection <a id='5'></a>\n",
    "[Back to top](#top)"
   ]
  },
  {
   "cell_type": "code",
   "execution_count": 71,
   "metadata": {},
   "outputs": [],
   "source": [
    "vector_regressor = LinearRegression(featuresCol='Xcols', labelCol='resale_price')"
   ]
  },
  {
   "cell_type": "code",
   "execution_count": 72,
   "metadata": {},
   "outputs": [],
   "source": [
    "#set up regressors\n",
    "dropped_vector_regressor = vector_regressor.fit(dropped_train_vectored)"
   ]
  },
  {
   "cell_type": "code",
   "execution_count": 73,
   "metadata": {},
   "outputs": [],
   "source": [
    "mean_vector_regressor = vector_regressor.fit(mean_train_vectored)"
   ]
  },
  {
   "cell_type": "code",
   "execution_count": 74,
   "metadata": {},
   "outputs": [],
   "source": [
    "median_vector_regressor = vector_regressor.fit(median_train_vectored)"
   ]
  },
  {
   "cell_type": "code",
   "execution_count": 75,
   "metadata": {},
   "outputs": [],
   "source": [
    "replaced_vector_regressor = vector_regressor.fit(replaced_train_vectored)"
   ]
  },
  {
   "cell_type": "markdown",
   "metadata": {},
   "source": [
    "## 5.1 Evaluation (prediction) <a id='5.1'></a>\n",
    "[Back to top](#top)"
   ]
  },
  {
   "cell_type": "code",
   "execution_count": 76,
   "metadata": {},
   "outputs": [],
   "source": [
    "#train data\n",
    "train_dropped_vector_pred_results = dropped_vector_regressor.evaluate(dropped_train_vectored)\n",
    "train_mean_vector_pred_results = mean_vector_regressor.evaluate(mean_train_vectored)\n",
    "train_median_vector_pred_results = median_vector_regressor.evaluate(median_train_vectored)\n",
    "train_replaced_vector_pred_results = replaced_vector_regressor.evaluate(replaced_train_vectored)"
   ]
  },
  {
   "cell_type": "code",
   "execution_count": 77,
   "metadata": {},
   "outputs": [],
   "source": [
    "#test data\n",
    "test_dropped_vector_pred_results = dropped_vector_regressor.evaluate(dropped_test_vectored)\n",
    "test_mean_vector_pred_results = mean_vector_regressor.evaluate(mean_test_vectored)\n",
    "test_median_vector_pred_results = median_vector_regressor.evaluate(median_test_vectored)\n",
    "test_replaced_vector_pred_results = replaced_vector_regressor.evaluate(replaced_test_vectored)"
   ]
  },
  {
   "cell_type": "markdown",
   "metadata": {},
   "source": [
    "### 5.1.1 dropped <a id='5.1.1'></a>\n",
    "[Back to top](#top)"
   ]
  },
  {
   "cell_type": "code",
   "execution_count": 78,
   "metadata": {},
   "outputs": [
    {
     "data": {
      "text/html": [
       "<table border='1'>\n",
       "<tr><th>Xcols</th><th>resale_price</th><th>prediction</th></tr>\n",
       "<tr><td>(3769,[39,66,2612...</td><td>790000.0</td><td>793406.6473628095</td></tr>\n",
       "<tr><td>(3769,[39,66,2612...</td><td>810000.0</td><td>800100.1903715098</td></tr>\n",
       "<tr><td>(3769,[40,71,2822...</td><td>425000.0</td><td>485453.05714896944</td></tr>\n",
       "<tr><td>(3769,[41,59,2612...</td><td>910000.0</td><td>949171.1295926572</td></tr>\n",
       "<tr><td>(3769,[13,38,45,2...</td><td>280000.0</td><td>294792.2439470758</td></tr>\n",
       "<tr><td>(3769,[13,38,187,...</td><td>360000.0</td><td>306049.17861117417</td></tr>\n",
       "<tr><td>(3769,[13,38,370,...</td><td>295000.0</td><td>245908.56142212034</td></tr>\n",
       "<tr><td>(3769,[13,38,392,...</td><td>325000.0</td><td>328250.5021463899</td></tr>\n",
       "<tr><td>(3769,[13,38,392,...</td><td>320000.0</td><td>326341.5504263826</td></tr>\n",
       "<tr><td>(3769,[13,38,484,...</td><td>371000.0</td><td>328767.3961913134</td></tr>\n",
       "</table>\n",
       "only showing top 10 rows\n"
      ],
      "text/plain": [
       "+--------------------+------------+------------------+\n",
       "|               Xcols|resale_price|        prediction|\n",
       "+--------------------+------------+------------------+\n",
       "|(3769,[39,66,2612...|    790000.0| 793406.6473628095|\n",
       "|(3769,[39,66,2612...|    810000.0| 800100.1903715098|\n",
       "|(3769,[40,71,2822...|    425000.0|485453.05714896944|\n",
       "|(3769,[41,59,2612...|    910000.0| 949171.1295926572|\n",
       "|(3769,[13,38,45,2...|    280000.0| 294792.2439470758|\n",
       "|(3769,[13,38,187,...|    360000.0|306049.17861117417|\n",
       "|(3769,[13,38,370,...|    295000.0|245908.56142212034|\n",
       "|(3769,[13,38,392,...|    325000.0| 328250.5021463899|\n",
       "|(3769,[13,38,392,...|    320000.0| 326341.5504263826|\n",
       "|(3769,[13,38,484,...|    371000.0| 328767.3961913134|\n",
       "+--------------------+------------+------------------+\n",
       "only showing top 10 rows"
      ]
     },
     "execution_count": 78,
     "metadata": {},
     "output_type": "execute_result"
    }
   ],
   "source": [
    "train_dropped_vector_pred_results.predictions"
   ]
  },
  {
   "cell_type": "code",
   "execution_count": 79,
   "metadata": {},
   "outputs": [
    {
     "data": {
      "text/html": [
       "<table border='1'>\n",
       "<tr><th>Xcols</th><th>resale_price</th><th>prediction</th></tr>\n",
       "<tr><td>(3769,[39,76,2612...</td><td>710000.0</td><td>765938.7453025808</td></tr>\n",
       "<tr><td>(3769,[13,38,78,2...</td><td>340000.0</td><td>345269.2226735138</td></tr>\n",
       "<tr><td>(3769,[13,38,238,...</td><td>368000.0</td><td>324398.78467100265</td></tr>\n",
       "<tr><td>(3769,[13,38,344,...</td><td>303000.0</td><td>298412.1396350726</td></tr>\n",
       "<tr><td>(3769,[13,38,392,...</td><td>327500.0</td><td>326341.5504263826</td></tr>\n",
       "<tr><td>(3769,[13,38,420,...</td><td>328000.0</td><td>300107.9509803761</td></tr>\n",
       "<tr><td>(3769,[13,38,434,...</td><td>350000.0</td><td>333658.27158800664</td></tr>\n",
       "<tr><td>(3769,[13,38,528,...</td><td>350000.0</td><td>360911.1429121726</td></tr>\n",
       "<tr><td>(3769,[13,38,562,...</td><td>315000.0</td><td>308754.41866413655</td></tr>\n",
       "<tr><td>(3769,[13,38,629,...</td><td>321000.0</td><td>306803.2751677892</td></tr>\n",
       "</table>\n",
       "only showing top 10 rows\n"
      ],
      "text/plain": [
       "+--------------------+------------+------------------+\n",
       "|               Xcols|resale_price|        prediction|\n",
       "+--------------------+------------+------------------+\n",
       "|(3769,[39,76,2612...|    710000.0| 765938.7453025808|\n",
       "|(3769,[13,38,78,2...|    340000.0| 345269.2226735138|\n",
       "|(3769,[13,38,238,...|    368000.0|324398.78467100265|\n",
       "|(3769,[13,38,344,...|    303000.0| 298412.1396350726|\n",
       "|(3769,[13,38,392,...|    327500.0| 326341.5504263826|\n",
       "|(3769,[13,38,420,...|    328000.0| 300107.9509803761|\n",
       "|(3769,[13,38,434,...|    350000.0|333658.27158800664|\n",
       "|(3769,[13,38,528,...|    350000.0| 360911.1429121726|\n",
       "|(3769,[13,38,562,...|    315000.0|308754.41866413655|\n",
       "|(3769,[13,38,629,...|    321000.0| 306803.2751677892|\n",
       "+--------------------+------------+------------------+\n",
       "only showing top 10 rows"
      ]
     },
     "execution_count": 79,
     "metadata": {},
     "output_type": "execute_result"
    }
   ],
   "source": [
    "test_dropped_vector_pred_results.predictions"
   ]
  },
  {
   "cell_type": "markdown",
   "metadata": {},
   "source": [
    "### 5.1.2 mean <a id='5.1.2'></a>\n",
    "[Back to top](#top)"
   ]
  },
  {
   "cell_type": "code",
   "execution_count": 80,
   "metadata": {},
   "outputs": [
    {
     "data": {
      "text/html": [
       "<table border='1'>\n",
       "<tr><th>Xcols</th><th>resale_price</th><th>prediction</th></tr>\n",
       "<tr><td>(3770,[39,66,2613...</td><td>790000.0</td><td>782797.5735601548</td></tr>\n",
       "<tr><td>(3770,[39,66,2613...</td><td>810000.0</td><td>789878.5623613272</td></tr>\n",
       "<tr><td>(3770,[40,71,2822...</td><td>425000.0</td><td>479975.1703967366</td></tr>\n",
       "<tr><td>(3770,[41,59,2613...</td><td>910000.0</td><td>942148.4391373054</td></tr>\n",
       "<tr><td>(3770,[13,38,44,2...</td><td>280000.0</td><td>297861.20961669955</td></tr>\n",
       "<tr><td>(3770,[13,38,187,...</td><td>360000.0</td><td>300736.5153887132</td></tr>\n",
       "<tr><td>(3770,[13,38,370,...</td><td>295000.0</td><td>252017.59712604783</td></tr>\n",
       "<tr><td>(3770,[13,38,392,...</td><td>325000.0</td><td>323381.5125617803</td></tr>\n",
       "<tr><td>(3770,[13,38,392,...</td><td>320000.0</td><td>322860.71391974215</td></tr>\n",
       "<tr><td>(3770,[13,38,485,...</td><td>371000.0</td><td>321251.29528619105</td></tr>\n",
       "</table>\n",
       "only showing top 10 rows\n"
      ],
      "text/plain": [
       "+--------------------+------------+------------------+\n",
       "|               Xcols|resale_price|        prediction|\n",
       "+--------------------+------------+------------------+\n",
       "|(3770,[39,66,2613...|    790000.0| 782797.5735601548|\n",
       "|(3770,[39,66,2613...|    810000.0| 789878.5623613272|\n",
       "|(3770,[40,71,2822...|    425000.0| 479975.1703967366|\n",
       "|(3770,[41,59,2613...|    910000.0| 942148.4391373054|\n",
       "|(3770,[13,38,44,2...|    280000.0|297861.20961669955|\n",
       "|(3770,[13,38,187,...|    360000.0| 300736.5153887132|\n",
       "|(3770,[13,38,370,...|    295000.0|252017.59712604783|\n",
       "|(3770,[13,38,392,...|    325000.0| 323381.5125617803|\n",
       "|(3770,[13,38,392,...|    320000.0|322860.71391974215|\n",
       "|(3770,[13,38,485,...|    371000.0|321251.29528619105|\n",
       "+--------------------+------------+------------------+\n",
       "only showing top 10 rows"
      ]
     },
     "execution_count": 80,
     "metadata": {},
     "output_type": "execute_result"
    }
   ],
   "source": [
    "train_mean_vector_pred_results.predictions"
   ]
  },
  {
   "cell_type": "code",
   "execution_count": 81,
   "metadata": {},
   "outputs": [
    {
     "data": {
      "text/html": [
       "<table border='1'>\n",
       "<tr><th>Xcols</th><th>resale_price</th><th>prediction</th></tr>\n",
       "<tr><td>(3770,[39,76,2613...</td><td>710000.0</td><td>757669.7202719052</td></tr>\n",
       "<tr><td>(3770,[13,38,77,2...</td><td>340000.0</td><td>334584.33388794784</td></tr>\n",
       "<tr><td>(3770,[13,38,238,...</td><td>368000.0</td><td>318915.6420923141</td></tr>\n",
       "<tr><td>(3770,[13,38,344,...</td><td>303000.0</td><td>298423.9665520831</td></tr>\n",
       "<tr><td>(3770,[13,38,392,...</td><td>327500.0</td><td>322860.71391974215</td></tr>\n",
       "<tr><td>(3770,[13,38,420,...</td><td>328000.0</td><td>300943.2835686598</td></tr>\n",
       "<tr><td>(3770,[13,38,434,...</td><td>350000.0</td><td>334902.6917041618</td></tr>\n",
       "<tr><td>(3770,[13,38,530,...</td><td>350000.0</td><td>359537.62678212853</td></tr>\n",
       "<tr><td>(3770,[13,38,562,...</td><td>315000.0</td><td>306922.298360079</td></tr>\n",
       "<tr><td>(3770,[13,38,629,...</td><td>321000.0</td><td>308739.637495431</td></tr>\n",
       "</table>\n",
       "only showing top 10 rows\n"
      ],
      "text/plain": [
       "+--------------------+------------+------------------+\n",
       "|               Xcols|resale_price|        prediction|\n",
       "+--------------------+------------+------------------+\n",
       "|(3770,[39,76,2613...|    710000.0| 757669.7202719052|\n",
       "|(3770,[13,38,77,2...|    340000.0|334584.33388794784|\n",
       "|(3770,[13,38,238,...|    368000.0| 318915.6420923141|\n",
       "|(3770,[13,38,344,...|    303000.0| 298423.9665520831|\n",
       "|(3770,[13,38,392,...|    327500.0|322860.71391974215|\n",
       "|(3770,[13,38,420,...|    328000.0| 300943.2835686598|\n",
       "|(3770,[13,38,434,...|    350000.0| 334902.6917041618|\n",
       "|(3770,[13,38,530,...|    350000.0|359537.62678212853|\n",
       "|(3770,[13,38,562,...|    315000.0|  306922.298360079|\n",
       "|(3770,[13,38,629,...|    321000.0|  308739.637495431|\n",
       "+--------------------+------------+------------------+\n",
       "only showing top 10 rows"
      ]
     },
     "execution_count": 81,
     "metadata": {},
     "output_type": "execute_result"
    }
   ],
   "source": [
    "test_mean_vector_pred_results.predictions"
   ]
  },
  {
   "cell_type": "markdown",
   "metadata": {},
   "source": [
    "### 5.1.3 median <a id='5.1.3'></a>\n",
    "[Back to top](#top)"
   ]
  },
  {
   "cell_type": "code",
   "execution_count": 82,
   "metadata": {},
   "outputs": [
    {
     "data": {
      "text/html": [
       "<table border='1'>\n",
       "<tr><th>Xcols</th><th>resale_price</th><th>prediction</th></tr>\n",
       "<tr><td>(3769,[39,66,2613...</td><td>790000.0</td><td>782489.063303831</td></tr>\n",
       "<tr><td>(3769,[39,66,2613...</td><td>810000.0</td><td>789560.5018978261</td></tr>\n",
       "<tr><td>(3769,[40,71,2822...</td><td>425000.0</td><td>480190.6081904848</td></tr>\n",
       "<tr><td>(3769,[41,59,2613...</td><td>910000.0</td><td>941854.9611560544</td></tr>\n",
       "<tr><td>(3769,[13,38,44,2...</td><td>280000.0</td><td>298148.0339747467</td></tr>\n",
       "<tr><td>(3769,[13,38,187,...</td><td>360000.0</td><td>300894.067330844</td></tr>\n",
       "<tr><td>(3769,[13,38,370,...</td><td>295000.0</td><td>251904.966875872</td></tr>\n",
       "<tr><td>(3769,[13,38,392,...</td><td>325000.0</td><td>323508.70423153834</td></tr>\n",
       "<tr><td>(3769,[13,38,392,...</td><td>320000.0</td><td>322422.6086754372</td></tr>\n",
       "<tr><td>(3769,[13,38,485,...</td><td>371000.0</td><td>321324.5202029211</td></tr>\n",
       "</table>\n",
       "only showing top 10 rows\n"
      ],
      "text/plain": [
       "+--------------------+------------+------------------+\n",
       "|               Xcols|resale_price|        prediction|\n",
       "+--------------------+------------+------------------+\n",
       "|(3769,[39,66,2613...|    790000.0|  782489.063303831|\n",
       "|(3769,[39,66,2613...|    810000.0| 789560.5018978261|\n",
       "|(3769,[40,71,2822...|    425000.0| 480190.6081904848|\n",
       "|(3769,[41,59,2613...|    910000.0| 941854.9611560544|\n",
       "|(3769,[13,38,44,2...|    280000.0| 298148.0339747467|\n",
       "|(3769,[13,38,187,...|    360000.0|  300894.067330844|\n",
       "|(3769,[13,38,370,...|    295000.0|  251904.966875872|\n",
       "|(3769,[13,38,392,...|    325000.0|323508.70423153834|\n",
       "|(3769,[13,38,392,...|    320000.0| 322422.6086754372|\n",
       "|(3769,[13,38,485,...|    371000.0| 321324.5202029211|\n",
       "+--------------------+------------+------------------+\n",
       "only showing top 10 rows"
      ]
     },
     "execution_count": 82,
     "metadata": {},
     "output_type": "execute_result"
    }
   ],
   "source": [
    "train_median_vector_pred_results.predictions"
   ]
  },
  {
   "cell_type": "code",
   "execution_count": 83,
   "metadata": {},
   "outputs": [
    {
     "data": {
      "text/html": [
       "<table border='1'>\n",
       "<tr><th>Xcols</th><th>resale_price</th><th>prediction</th></tr>\n",
       "<tr><td>(3769,[39,76,2613...</td><td>710000.0</td><td>757691.7836112259</td></tr>\n",
       "<tr><td>(3769,[13,38,77,2...</td><td>340000.0</td><td>334647.1987314293</td></tr>\n",
       "<tr><td>(3769,[13,38,238,...</td><td>368000.0</td><td>318609.34267165855</td></tr>\n",
       "<tr><td>(3769,[13,38,344,...</td><td>303000.0</td><td>298577.03506785067</td></tr>\n",
       "<tr><td>(3769,[13,38,392,...</td><td>327500.0</td><td>322422.6086754372</td></tr>\n",
       "<tr><td>(3769,[13,38,420,...</td><td>328000.0</td><td>300928.2132679253</td></tr>\n",
       "<tr><td>(3769,[13,38,434,...</td><td>350000.0</td><td>334900.1884125463</td></tr>\n",
       "<tr><td>(3769,[13,38,530,...</td><td>350000.0</td><td>359619.90226227476</td></tr>\n",
       "<tr><td>(3769,[13,38,562,...</td><td>315000.0</td><td>307098.85917720594</td></tr>\n",
       "<tr><td>(3769,[13,38,629,...</td><td>321000.0</td><td>308239.7483384375</td></tr>\n",
       "</table>\n",
       "only showing top 10 rows\n"
      ],
      "text/plain": [
       "+--------------------+------------+------------------+\n",
       "|               Xcols|resale_price|        prediction|\n",
       "+--------------------+------------+------------------+\n",
       "|(3769,[39,76,2613...|    710000.0| 757691.7836112259|\n",
       "|(3769,[13,38,77,2...|    340000.0| 334647.1987314293|\n",
       "|(3769,[13,38,238,...|    368000.0|318609.34267165855|\n",
       "|(3769,[13,38,344,...|    303000.0|298577.03506785067|\n",
       "|(3769,[13,38,392,...|    327500.0| 322422.6086754372|\n",
       "|(3769,[13,38,420,...|    328000.0| 300928.2132679253|\n",
       "|(3769,[13,38,434,...|    350000.0| 334900.1884125463|\n",
       "|(3769,[13,38,530,...|    350000.0|359619.90226227476|\n",
       "|(3769,[13,38,562,...|    315000.0|307098.85917720594|\n",
       "|(3769,[13,38,629,...|    321000.0| 308239.7483384375|\n",
       "+--------------------+------------+------------------+\n",
       "only showing top 10 rows"
      ]
     },
     "execution_count": 83,
     "metadata": {},
     "output_type": "execute_result"
    }
   ],
   "source": [
    "test_median_vector_pred_results.predictions"
   ]
  },
  {
   "cell_type": "markdown",
   "metadata": {},
   "source": [
    "### 5.1.4 replaced <a id='5.1.4'></a>\n",
    "[Back to top](#top)"
   ]
  },
  {
   "cell_type": "code",
   "execution_count": 84,
   "metadata": {},
   "outputs": [
    {
     "data": {
      "text/html": [
       "<table border='1'>\n",
       "<tr><th>Xcols</th><th>resale_price</th><th>prediction</th></tr>\n",
       "<tr><td>(3769,[39,66,2613...</td><td>790000.0</td><td>782666.3773730898</td></tr>\n",
       "<tr><td>(3769,[39,66,2613...</td><td>810000.0</td><td>789744.5453642572</td></tr>\n",
       "<tr><td>(3769,[40,71,2822...</td><td>425000.0</td><td>480000.6273604996</td></tr>\n",
       "<tr><td>(3769,[41,59,2613...</td><td>910000.0</td><td>942091.661047861</td></tr>\n",
       "<tr><td>(3769,[13,38,44,2...</td><td>280000.0</td><td>297828.66542777244</td></tr>\n",
       "<tr><td>(3769,[13,38,187,...</td><td>360000.0</td><td>300724.5607424053</td></tr>\n",
       "<tr><td>(3769,[13,38,370,...</td><td>295000.0</td><td>252165.0699755016</td></tr>\n",
       "<tr><td>(3769,[13,38,392,...</td><td>325000.0</td><td>323289.1121017735</td></tr>\n",
       "<tr><td>(3769,[13,38,392,...</td><td>320000.0</td><td>322772.3367239351</td></tr>\n",
       "<tr><td>(3769,[13,38,485,...</td><td>371000.0</td><td>321257.6286982671</td></tr>\n",
       "</table>\n",
       "only showing top 10 rows\n"
      ],
      "text/plain": [
       "+--------------------+------------+------------------+\n",
       "|               Xcols|resale_price|        prediction|\n",
       "+--------------------+------------+------------------+\n",
       "|(3769,[39,66,2613...|    790000.0| 782666.3773730898|\n",
       "|(3769,[39,66,2613...|    810000.0| 789744.5453642572|\n",
       "|(3769,[40,71,2822...|    425000.0| 480000.6273604996|\n",
       "|(3769,[41,59,2613...|    910000.0|  942091.661047861|\n",
       "|(3769,[13,38,44,2...|    280000.0|297828.66542777244|\n",
       "|(3769,[13,38,187,...|    360000.0| 300724.5607424053|\n",
       "|(3769,[13,38,370,...|    295000.0| 252165.0699755016|\n",
       "|(3769,[13,38,392,...|    325000.0| 323289.1121017735|\n",
       "|(3769,[13,38,392,...|    320000.0| 322772.3367239351|\n",
       "|(3769,[13,38,485,...|    371000.0| 321257.6286982671|\n",
       "+--------------------+------------+------------------+\n",
       "only showing top 10 rows"
      ]
     },
     "execution_count": 84,
     "metadata": {},
     "output_type": "execute_result"
    }
   ],
   "source": [
    "train_replaced_vector_pred_results.predictions"
   ]
  },
  {
   "cell_type": "code",
   "execution_count": 85,
   "metadata": {},
   "outputs": [
    {
     "data": {
      "text/html": [
       "<table border='1'>\n",
       "<tr><th>Xcols</th><th>resale_price</th><th>prediction</th></tr>\n",
       "<tr><td>(3769,[39,76,2613...</td><td>710000.0</td><td>757683.8587720128</td></tr>\n",
       "<tr><td>(3769,[13,38,77,2...</td><td>340000.0</td><td>334834.5693440309</td></tr>\n",
       "<tr><td>(3769,[13,38,238,...</td><td>368000.0</td><td>318096.50560970267</td></tr>\n",
       "<tr><td>(3769,[13,38,344,...</td><td>303000.0</td><td>298309.30340587854</td></tr>\n",
       "<tr><td>(3769,[13,38,392,...</td><td>327500.0</td><td>322772.3367239351</td></tr>\n",
       "<tr><td>(3769,[13,38,420,...</td><td>328000.0</td><td>301205.72472569835</td></tr>\n",
       "<tr><td>(3769,[13,38,434,...</td><td>350000.0</td><td>334772.14403877925</td></tr>\n",
       "<tr><td>(3769,[13,38,530,...</td><td>350000.0</td><td>359678.24724751164</td></tr>\n",
       "<tr><td>(3769,[13,38,562,...</td><td>315000.0</td><td>306978.1663921033</td></tr>\n",
       "<tr><td>(3769,[13,38,629,...</td><td>321000.0</td><td>308674.7549702703</td></tr>\n",
       "</table>\n",
       "only showing top 10 rows\n"
      ],
      "text/plain": [
       "+--------------------+------------+------------------+\n",
       "|               Xcols|resale_price|        prediction|\n",
       "+--------------------+------------+------------------+\n",
       "|(3769,[39,76,2613...|    710000.0| 757683.8587720128|\n",
       "|(3769,[13,38,77,2...|    340000.0| 334834.5693440309|\n",
       "|(3769,[13,38,238,...|    368000.0|318096.50560970267|\n",
       "|(3769,[13,38,344,...|    303000.0|298309.30340587854|\n",
       "|(3769,[13,38,392,...|    327500.0| 322772.3367239351|\n",
       "|(3769,[13,38,420,...|    328000.0|301205.72472569835|\n",
       "|(3769,[13,38,434,...|    350000.0|334772.14403877925|\n",
       "|(3769,[13,38,530,...|    350000.0|359678.24724751164|\n",
       "|(3769,[13,38,562,...|    315000.0| 306978.1663921033|\n",
       "|(3769,[13,38,629,...|    321000.0| 308674.7549702703|\n",
       "+--------------------+------------+------------------+\n",
       "only showing top 10 rows"
      ]
     },
     "execution_count": 85,
     "metadata": {},
     "output_type": "execute_result"
    }
   ],
   "source": [
    "test_replaced_vector_pred_results.predictions"
   ]
  },
  {
   "cell_type": "markdown",
   "metadata": {},
   "source": [
    "## 5.2 Metrics <a id='5.2'></a>\n",
    "[Back to top](#top)"
   ]
  },
  {
   "cell_type": "markdown",
   "metadata": {},
   "source": [
    "### 5.2.1 dropped <a id='5.2.1'></a>\n",
    "[Back to top](#top)"
   ]
  },
  {
   "cell_type": "code",
   "execution_count": 86,
   "metadata": {},
   "outputs": [
    {
     "name": "stdout",
     "output_type": "stream",
     "text": [
      "MAE: 24443.868923989827\n",
      "MSE: 1094676509.0256722\n",
      "r2: 0.953338975689754\n"
     ]
    }
   ],
   "source": [
    "#train_dropped_vector_pred_results\n",
    "print('MAE:', train_dropped_vector_pred_results.meanAbsoluteError)\n",
    "print('MSE:', train_dropped_vector_pred_results.meanSquaredError)\n",
    "print('r2:', train_dropped_vector_pred_results.r2)"
   ]
  },
  {
   "cell_type": "code",
   "execution_count": 87,
   "metadata": {},
   "outputs": [
    {
     "name": "stdout",
     "output_type": "stream",
     "text": [
      "MAE: 26884.35991529819\n",
      "MSE: 1336460250.3150105\n",
      "r2: 0.944544169027746\n"
     ]
    }
   ],
   "source": [
    "#test_dropped_vector_pred_results\n",
    "print('MAE:', test_dropped_vector_pred_results.meanAbsoluteError)\n",
    "print('MSE:', test_dropped_vector_pred_results.meanSquaredError)\n",
    "print('r2:', test_dropped_vector_pred_results.r2)"
   ]
  },
  {
   "cell_type": "markdown",
   "metadata": {},
   "source": [
    "### 5.2.2 mean <a id='5.2.2'></a>\n",
    "[Back to top](#top)"
   ]
  },
  {
   "cell_type": "code",
   "execution_count": 88,
   "metadata": {},
   "outputs": [
    {
     "name": "stdout",
     "output_type": "stream",
     "text": [
      "MAE: 24494.99611714089\n",
      "MSE: 1097595347.2071295\n",
      "r2: 0.9535314343879944\n"
     ]
    }
   ],
   "source": [
    "#train_mean_vector_pred_results\n",
    "print('MAE:', train_mean_vector_pred_results.meanAbsoluteError)\n",
    "print('MSE:', train_mean_vector_pred_results.meanSquaredError)\n",
    "print('r2:', train_mean_vector_pred_results.r2)"
   ]
  },
  {
   "cell_type": "code",
   "execution_count": 89,
   "metadata": {},
   "outputs": [
    {
     "name": "stdout",
     "output_type": "stream",
     "text": [
      "MAE: 26822.58746237245\n",
      "MSE: 1324861743.2540681\n",
      "r2: 0.9440826203737729\n"
     ]
    }
   ],
   "source": [
    "#test_mean_vector_pred_results\n",
    "print('MAE:', test_mean_vector_pred_results.meanAbsoluteError)\n",
    "print('MSE:', test_mean_vector_pred_results.meanSquaredError)\n",
    "print('r2:', test_mean_vector_pred_results.r2)"
   ]
  },
  {
   "cell_type": "markdown",
   "metadata": {},
   "source": [
    "### 5.2.3 median <a id='5.2.3'></a>\n",
    "[Back to top](#top)"
   ]
  },
  {
   "cell_type": "code",
   "execution_count": 90,
   "metadata": {},
   "outputs": [
    {
     "name": "stdout",
     "output_type": "stream",
     "text": [
      "MAE: 24497.616128862694\n",
      "MSE: 1097827722.3381748\n",
      "r2: 0.9535215963916407\n"
     ]
    }
   ],
   "source": [
    "#train_median_vector_pred_results\n",
    "print('MAE:', train_median_vector_pred_results.meanAbsoluteError)\n",
    "print('MSE:', train_median_vector_pred_results.meanSquaredError)\n",
    "print('r2:', train_median_vector_pred_results.r2)"
   ]
  },
  {
   "cell_type": "code",
   "execution_count": 91,
   "metadata": {},
   "outputs": [
    {
     "name": "stdout",
     "output_type": "stream",
     "text": [
      "MAE: 26825.423101718432\n",
      "MSE: 1325431991.6871912\n",
      "r2: 0.9440585523543901\n"
     ]
    }
   ],
   "source": [
    "#test_median_vector_pred_results\n",
    "print('MAE:', test_median_vector_pred_results.meanAbsoluteError)\n",
    "print('MSE:', test_median_vector_pred_results.meanSquaredError)\n",
    "print('r2:', test_median_vector_pred_results.r2)"
   ]
  },
  {
   "cell_type": "markdown",
   "metadata": {},
   "source": [
    "### 5.2.4 replaced <a id='5.2.4'></a>\n",
    "[Back to top](#top)"
   ]
  },
  {
   "cell_type": "code",
   "execution_count": 92,
   "metadata": {},
   "outputs": [
    {
     "name": "stdout",
     "output_type": "stream",
     "text": [
      "MAE: 24496.095464247366\n",
      "MSE: 1097693223.9522278\n",
      "r2: 0.9535272906095399\n"
     ]
    }
   ],
   "source": [
    "#train_replaced_vector_pred_results\n",
    "print('MAE:', train_replaced_vector_pred_results.meanAbsoluteError)\n",
    "print('MSE:', train_replaced_vector_pred_results.meanSquaredError)\n",
    "print('r2:', train_replaced_vector_pred_results.r2)"
   ]
  },
  {
   "cell_type": "code",
   "execution_count": 93,
   "metadata": {},
   "outputs": [
    {
     "name": "stdout",
     "output_type": "stream",
     "text": [
      "MAE: 26823.656378744265\n",
      "MSE: 1324765537.1393485\n",
      "r2: 0.9440866808682861\n"
     ]
    }
   ],
   "source": [
    "#test_replaced_vector_pred_results\n",
    "print('MAE:', test_replaced_vector_pred_results.meanAbsoluteError)\n",
    "print('MSE:', test_replaced_vector_pred_results.meanSquaredError)\n",
    "print('r2:', test_replaced_vector_pred_results.r2)"
   ]
  },
  {
   "cell_type": "markdown",
   "metadata": {},
   "source": [
    "## 5.3 Scaling (mean scaled) <a id='5.3'></a>\n",
    "[Back to top](#top)"
   ]
  },
  {
   "cell_type": "code",
   "execution_count": 94,
   "metadata": {},
   "outputs": [],
   "source": [
    "sScaler = StandardScaler(withMean=True, withStd=True, inputCol=\"Xcols\", outputCol=\"Xcols_sscaled\")"
   ]
  },
  {
   "cell_type": "code",
   "execution_count": 95,
   "metadata": {},
   "outputs": [
    {
     "data": {
      "text/html": [
       "<table border='1'>\n",
       "<tr><th>year_onehot_encode</th><th>month_onehot_encode</th><th>town_onehot_encode</th><th>flat_type_onehot_encode</th><th>block_onehot_encode</th><th>street_name_onehot_encode</th><th>storey_range_onehot_encode</th><th>flat_model_onehot_encode</th><th>floor_area_sqm_onehot_encode</th><th>remaining_lease_onehot_encode</th><th>resale_price</th><th>Xcols</th><th>Xcols_sscaled</th></tr>\n",
       "<tr><td>(2,[],[])</td><td>(11,[],[])</td><td>(25,[],[])</td><td>(6,[1],[1.0])</td><td>(2386,[22],[1.0])</td><td>(540,[183],[1.0])</td><td>(16,[1],[1.0])</td><td>(18,[1],[1.0])</td><td>(159,[11],[1.0])</td><td>(607,[449],[1.0])</td><td>790000.0</td><td>(3770,[39,66,2613...</td><td>[-0.7276138906731...</td></tr>\n",
       "<tr><td>(2,[],[])</td><td>(11,[],[])</td><td>(25,[],[])</td><td>(6,[1],[1.0])</td><td>(2386,[22],[1.0])</td><td>(540,[183],[1.0])</td><td>(16,[2],[1.0])</td><td>(18,[1],[1.0])</td><td>(159,[11],[1.0])</td><td>(607,[449],[1.0])</td><td>810000.0</td><td>(3770,[39,66,2613...</td><td>[-0.7276138906731...</td></tr>\n",
       "<tr><td>(2,[],[])</td><td>(11,[],[])</td><td>(25,[],[])</td><td>(6,[2],[1.0])</td><td>(2386,[27],[1.0])</td><td>(540,[392],[1.0])</td><td>(16,[1],[1.0])</td><td>(18,[1],[1.0])</td><td>(159,[15],[1.0])</td><td>(607,[394],[1.0])</td><td>425000.0</td><td>(3770,[40,71,2822...</td><td>[-0.7276138906731...</td></tr>\n",
       "<tr><td>(2,[],[])</td><td>(11,[],[])</td><td>(25,[],[])</td><td>(6,[3],[1.0])</td><td>(2386,[15],[1.0])</td><td>(540,[183],[1.0])</td><td>(16,[0],[1.0])</td><td>(18,[6],[1.0])</td><td>(159,[22],[1.0])</td><td>(607,[473],[1.0])</td><td>910000.0</td><td>(3770,[41,59,2613...</td><td>[-0.7276138906731...</td></tr>\n",
       "<tr><td>(2,[],[])</td><td>(11,[],[])</td><td>(25,[0],[1.0])</td><td>(6,[0],[1.0])</td><td>(2386,[0],[1.0])</td><td>(540,[21],[1.0])</td><td>(16,[2],[1.0])</td><td>(18,[1],[1.0])</td><td>(159,[46],[1.0])</td><td>(607,[267],[1.0])</td><td>280000.0</td><td>(3770,[13,38,44,2...</td><td>[-0.7276138906731...</td></tr>\n",
       "<tr><td>(2,[],[])</td><td>(11,[],[])</td><td>(25,[0],[1.0])</td><td>(6,[0],[1.0])</td><td>(2386,[143],[1.0])</td><td>(540,[110],[1.0])</td><td>(16,[3],[1.0])</td><td>(18,[2],[1.0])</td><td>(159,[3],[1.0])</td><td>(607,[177],[1.0])</td><td>360000.0</td><td>(3770,[13,38,187,...</td><td>[-0.7276138906731...</td></tr>\n",
       "<tr><td>(2,[],[])</td><td>(11,[],[])</td><td>(25,[0],[1.0])</td><td>(6,[0],[1.0])</td><td>(2386,[326],[1.0])</td><td>(540,[110],[1.0])</td><td>(16,[3],[1.0])</td><td>(18,[4],[1.0])</td><td>(159,[9],[1.0])</td><td>(607,[67],[1.0])</td><td>295000.0</td><td>(3770,[13,38,370,...</td><td>[-0.7276138906731...</td></tr>\n",
       "<tr><td>(2,[],[])</td><td>(11,[],[])</td><td>(25,[0],[1.0])</td><td>(6,[0],[1.0])</td><td>(2386,[348],[1.0])</td><td>(540,[285],[1.0])</td><td>(16,[2],[1.0])</td><td>(18,[9],[1.0])</td><td>(159,[2],[1.0])</td><td>(607,[154],[1.0])</td><td>325000.0</td><td>(3770,[13,38,392,...</td><td>[-0.7276138906731...</td></tr>\n",
       "<tr><td>(2,[],[])</td><td>(11,[],[])</td><td>(25,[0],[1.0])</td><td>(6,[0],[1.0])</td><td>(2386,[348],[1.0])</td><td>(540,[285],[1.0])</td><td>(16,[2],[1.0])</td><td>(18,[9],[1.0])</td><td>(159,[7],[1.0])</td><td>(607,[154],[1.0])</td><td>320000.0</td><td>(3770,[13,38,392,...</td><td>[-0.7276138906731...</td></tr>\n",
       "<tr><td>(2,[],[])</td><td>(11,[],[])</td><td>(25,[0],[1.0])</td><td>(6,[0],[1.0])</td><td>(2386,[441],[1.0])</td><td>(540,[362],[1.0])</td><td>(16,[1],[1.0])</td><td>(18,[0],[1.0])</td><td>(159,[23],[1.0])</td><td>(607,[42],[1.0])</td><td>371000.0</td><td>(3770,[13,38,485,...</td><td>[-0.7276138906731...</td></tr>\n",
       "</table>\n",
       "only showing top 10 rows\n"
      ],
      "text/plain": [
       "+------------------+-------------------+------------------+-----------------------+-------------------+-------------------------+--------------------------+------------------------+----------------------------+-----------------------------+------------+--------------------+--------------------+\n",
       "|year_onehot_encode|month_onehot_encode|town_onehot_encode|flat_type_onehot_encode|block_onehot_encode|street_name_onehot_encode|storey_range_onehot_encode|flat_model_onehot_encode|floor_area_sqm_onehot_encode|remaining_lease_onehot_encode|resale_price|               Xcols|       Xcols_sscaled|\n",
       "+------------------+-------------------+------------------+-----------------------+-------------------+-------------------------+--------------------------+------------------------+----------------------------+-----------------------------+------------+--------------------+--------------------+\n",
       "|         (2,[],[])|         (11,[],[])|        (25,[],[])|          (6,[1],[1.0])|  (2386,[22],[1.0])|        (540,[183],[1.0])|            (16,[1],[1.0])|          (18,[1],[1.0])|            (159,[11],[1.0])|            (607,[449],[1.0])|    790000.0|(3770,[39,66,2613...|[-0.7276138906731...|\n",
       "|         (2,[],[])|         (11,[],[])|        (25,[],[])|          (6,[1],[1.0])|  (2386,[22],[1.0])|        (540,[183],[1.0])|            (16,[2],[1.0])|          (18,[1],[1.0])|            (159,[11],[1.0])|            (607,[449],[1.0])|    810000.0|(3770,[39,66,2613...|[-0.7276138906731...|\n",
       "|         (2,[],[])|         (11,[],[])|        (25,[],[])|          (6,[2],[1.0])|  (2386,[27],[1.0])|        (540,[392],[1.0])|            (16,[1],[1.0])|          (18,[1],[1.0])|            (159,[15],[1.0])|            (607,[394],[1.0])|    425000.0|(3770,[40,71,2822...|[-0.7276138906731...|\n",
       "|         (2,[],[])|         (11,[],[])|        (25,[],[])|          (6,[3],[1.0])|  (2386,[15],[1.0])|        (540,[183],[1.0])|            (16,[0],[1.0])|          (18,[6],[1.0])|            (159,[22],[1.0])|            (607,[473],[1.0])|    910000.0|(3770,[41,59,2613...|[-0.7276138906731...|\n",
       "|         (2,[],[])|         (11,[],[])|    (25,[0],[1.0])|          (6,[0],[1.0])|   (2386,[0],[1.0])|         (540,[21],[1.0])|            (16,[2],[1.0])|          (18,[1],[1.0])|            (159,[46],[1.0])|            (607,[267],[1.0])|    280000.0|(3770,[13,38,44,2...|[-0.7276138906731...|\n",
       "|         (2,[],[])|         (11,[],[])|    (25,[0],[1.0])|          (6,[0],[1.0])| (2386,[143],[1.0])|        (540,[110],[1.0])|            (16,[3],[1.0])|          (18,[2],[1.0])|             (159,[3],[1.0])|            (607,[177],[1.0])|    360000.0|(3770,[13,38,187,...|[-0.7276138906731...|\n",
       "|         (2,[],[])|         (11,[],[])|    (25,[0],[1.0])|          (6,[0],[1.0])| (2386,[326],[1.0])|        (540,[110],[1.0])|            (16,[3],[1.0])|          (18,[4],[1.0])|             (159,[9],[1.0])|             (607,[67],[1.0])|    295000.0|(3770,[13,38,370,...|[-0.7276138906731...|\n",
       "|         (2,[],[])|         (11,[],[])|    (25,[0],[1.0])|          (6,[0],[1.0])| (2386,[348],[1.0])|        (540,[285],[1.0])|            (16,[2],[1.0])|          (18,[9],[1.0])|             (159,[2],[1.0])|            (607,[154],[1.0])|    325000.0|(3770,[13,38,392,...|[-0.7276138906731...|\n",
       "|         (2,[],[])|         (11,[],[])|    (25,[0],[1.0])|          (6,[0],[1.0])| (2386,[348],[1.0])|        (540,[285],[1.0])|            (16,[2],[1.0])|          (18,[9],[1.0])|             (159,[7],[1.0])|            (607,[154],[1.0])|    320000.0|(3770,[13,38,392,...|[-0.7276138906731...|\n",
       "|         (2,[],[])|         (11,[],[])|    (25,[0],[1.0])|          (6,[0],[1.0])| (2386,[441],[1.0])|        (540,[362],[1.0])|            (16,[1],[1.0])|          (18,[0],[1.0])|            (159,[23],[1.0])|             (607,[42],[1.0])|    371000.0|(3770,[13,38,485,...|[-0.7276138906731...|\n",
       "+------------------+-------------------+------------------+-----------------------+-------------------+-------------------------+--------------------------+------------------------+----------------------------+-----------------------------+------------+--------------------+--------------------+\n",
       "only showing top 10 rows"
      ]
     },
     "execution_count": 95,
     "metadata": {},
     "output_type": "execute_result"
    }
   ],
   "source": [
    "df_mean_train_sscaled = sScaler.fit(df_mean_train_vectored).transform(df_mean_train_vectored)\n",
    "df_mean_train_sscaled"
   ]
  },
  {
   "cell_type": "code",
   "execution_count": 96,
   "metadata": {},
   "outputs": [
    {
     "data": {
      "text/html": [
       "<table border='1'>\n",
       "<tr><th>year_onehot_encode</th><th>month_onehot_encode</th><th>town_onehot_encode</th><th>flat_type_onehot_encode</th><th>block_onehot_encode</th><th>street_name_onehot_encode</th><th>storey_range_onehot_encode</th><th>flat_model_onehot_encode</th><th>floor_area_sqm_onehot_encode</th><th>remaining_lease_onehot_encode</th><th>resale_price</th><th>Xcols</th><th>Xcols_sscaled</th></tr>\n",
       "<tr><td>(2,[],[])</td><td>(11,[],[])</td><td>(25,[],[])</td><td>(6,[1],[1.0])</td><td>(2386,[32],[1.0])</td><td>(540,[183],[1.0])</td><td>(16,[3],[1.0])</td><td>(18,[1],[1.0])</td><td>(159,[11],[1.0])</td><td>(607,[222],[1.0])</td><td>710000.0</td><td>(3770,[39,76,2613...</td><td>[-0.7230848196582...</td></tr>\n",
       "<tr><td>(2,[],[])</td><td>(11,[],[])</td><td>(25,[0],[1.0])</td><td>(6,[0],[1.0])</td><td>(2386,[33],[1.0])</td><td>(540,[21],[1.0])</td><td>(16,[1],[1.0])</td><td>(18,[2],[1.0])</td><td>(159,[51],[1.0])</td><td>(607,[247],[1.0])</td><td>340000.0</td><td>(3770,[13,38,77,2...</td><td>[-0.7230848196582...</td></tr>\n",
       "<tr><td>(2,[],[])</td><td>(11,[],[])</td><td>(25,[0],[1.0])</td><td>(6,[0],[1.0])</td><td>(2386,[194],[1.0])</td><td>(540,[324],[1.0])</td><td>(16,[1],[1.0])</td><td>(18,[4],[1.0])</td><td>(159,[75],[1.0])</td><td>(607,[188],[1.0])</td><td>368000.0</td><td>(3770,[13,38,238,...</td><td>[-0.7230848196582...</td></tr>\n",
       "<tr><td>(2,[],[])</td><td>(11,[],[])</td><td>(25,[0],[1.0])</td><td>(6,[0],[1.0])</td><td>(2386,[300],[1.0])</td><td>(540,[400],[1.0])</td><td>(16,[3],[1.0])</td><td>(18,[9],[1.0])</td><td>(159,[3],[1.0])</td><td>(607,[86],[1.0])</td><td>303000.0</td><td>(3770,[13,38,344,...</td><td>[-0.7230848196582...</td></tr>\n",
       "<tr><td>(2,[],[])</td><td>(11,[],[])</td><td>(25,[0],[1.0])</td><td>(6,[0],[1.0])</td><td>(2386,[348],[1.0])</td><td>(540,[285],[1.0])</td><td>(16,[2],[1.0])</td><td>(18,[9],[1.0])</td><td>(159,[7],[1.0])</td><td>(607,[154],[1.0])</td><td>327500.0</td><td>(3770,[13,38,392,...</td><td>[-0.7230848196582...</td></tr>\n",
       "<tr><td>(2,[],[])</td><td>(11,[],[])</td><td>(25,[0],[1.0])</td><td>(6,[0],[1.0])</td><td>(2386,[376],[1.0])</td><td>(540,[459],[1.0])</td><td>(16,[1],[1.0])</td><td>(18,[4],[1.0])</td><td>(159,[9],[1.0])</td><td>(607,[251],[1.0])</td><td>328000.0</td><td>(3770,[13,38,420,...</td><td>[-0.7230848196582...</td></tr>\n",
       "<tr><td>(2,[],[])</td><td>(11,[],[])</td><td>(25,[0],[1.0])</td><td>(6,[0],[1.0])</td><td>(2386,[390],[1.0])</td><td>(540,[220],[1.0])</td><td>(16,[1],[1.0])</td><td>(18,[9],[1.0])</td><td>(159,[36],[1.0])</td><td>(607,[171],[1.0])</td><td>350000.0</td><td>(3770,[13,38,434,...</td><td>[-0.7230848196582...</td></tr>\n",
       "<tr><td>(2,[],[])</td><td>(11,[],[])</td><td>(25,[0],[1.0])</td><td>(6,[0],[1.0])</td><td>(2386,[486],[1.0])</td><td>(540,[100],[1.0])</td><td>(16,[1],[1.0])</td><td>(18,[0],[1.0])</td><td>(159,[23],[1.0])</td><td>(607,[78],[1.0])</td><td>350000.0</td><td>(3770,[13,38,530,...</td><td>[-0.7230848196582...</td></tr>\n",
       "<tr><td>(2,[],[])</td><td>(11,[],[])</td><td>(25,[0],[1.0])</td><td>(6,[0],[1.0])</td><td>(2386,[518],[1.0])</td><td>(540,[82],[1.0])</td><td>(16,[1],[1.0])</td><td>(18,[9],[1.0])</td><td>(159,[75],[1.0])</td><td>(607,[127],[1.0])</td><td>315000.0</td><td>(3770,[13,38,562,...</td><td>[-0.7230848196582...</td></tr>\n",
       "<tr><td>(2,[],[])</td><td>(11,[],[])</td><td>(25,[0],[1.0])</td><td>(6,[0],[1.0])</td><td>(2386,[585],[1.0])</td><td>(540,[47],[1.0])</td><td>(16,[0],[1.0])</td><td>(18,[9],[1.0])</td><td>(159,[7],[1.0])</td><td>(607,[117],[1.0])</td><td>321000.0</td><td>(3770,[13,38,629,...</td><td>[-0.7230848196582...</td></tr>\n",
       "</table>\n",
       "only showing top 10 rows\n"
      ],
      "text/plain": [
       "+------------------+-------------------+------------------+-----------------------+-------------------+-------------------------+--------------------------+------------------------+----------------------------+-----------------------------+------------+--------------------+--------------------+\n",
       "|year_onehot_encode|month_onehot_encode|town_onehot_encode|flat_type_onehot_encode|block_onehot_encode|street_name_onehot_encode|storey_range_onehot_encode|flat_model_onehot_encode|floor_area_sqm_onehot_encode|remaining_lease_onehot_encode|resale_price|               Xcols|       Xcols_sscaled|\n",
       "+------------------+-------------------+------------------+-----------------------+-------------------+-------------------------+--------------------------+------------------------+----------------------------+-----------------------------+------------+--------------------+--------------------+\n",
       "|         (2,[],[])|         (11,[],[])|        (25,[],[])|          (6,[1],[1.0])|  (2386,[32],[1.0])|        (540,[183],[1.0])|            (16,[3],[1.0])|          (18,[1],[1.0])|            (159,[11],[1.0])|            (607,[222],[1.0])|    710000.0|(3770,[39,76,2613...|[-0.7230848196582...|\n",
       "|         (2,[],[])|         (11,[],[])|    (25,[0],[1.0])|          (6,[0],[1.0])|  (2386,[33],[1.0])|         (540,[21],[1.0])|            (16,[1],[1.0])|          (18,[2],[1.0])|            (159,[51],[1.0])|            (607,[247],[1.0])|    340000.0|(3770,[13,38,77,2...|[-0.7230848196582...|\n",
       "|         (2,[],[])|         (11,[],[])|    (25,[0],[1.0])|          (6,[0],[1.0])| (2386,[194],[1.0])|        (540,[324],[1.0])|            (16,[1],[1.0])|          (18,[4],[1.0])|            (159,[75],[1.0])|            (607,[188],[1.0])|    368000.0|(3770,[13,38,238,...|[-0.7230848196582...|\n",
       "|         (2,[],[])|         (11,[],[])|    (25,[0],[1.0])|          (6,[0],[1.0])| (2386,[300],[1.0])|        (540,[400],[1.0])|            (16,[3],[1.0])|          (18,[9],[1.0])|             (159,[3],[1.0])|             (607,[86],[1.0])|    303000.0|(3770,[13,38,344,...|[-0.7230848196582...|\n",
       "|         (2,[],[])|         (11,[],[])|    (25,[0],[1.0])|          (6,[0],[1.0])| (2386,[348],[1.0])|        (540,[285],[1.0])|            (16,[2],[1.0])|          (18,[9],[1.0])|             (159,[7],[1.0])|            (607,[154],[1.0])|    327500.0|(3770,[13,38,392,...|[-0.7230848196582...|\n",
       "|         (2,[],[])|         (11,[],[])|    (25,[0],[1.0])|          (6,[0],[1.0])| (2386,[376],[1.0])|        (540,[459],[1.0])|            (16,[1],[1.0])|          (18,[4],[1.0])|             (159,[9],[1.0])|            (607,[251],[1.0])|    328000.0|(3770,[13,38,420,...|[-0.7230848196582...|\n",
       "|         (2,[],[])|         (11,[],[])|    (25,[0],[1.0])|          (6,[0],[1.0])| (2386,[390],[1.0])|        (540,[220],[1.0])|            (16,[1],[1.0])|          (18,[9],[1.0])|            (159,[36],[1.0])|            (607,[171],[1.0])|    350000.0|(3770,[13,38,434,...|[-0.7230848196582...|\n",
       "|         (2,[],[])|         (11,[],[])|    (25,[0],[1.0])|          (6,[0],[1.0])| (2386,[486],[1.0])|        (540,[100],[1.0])|            (16,[1],[1.0])|          (18,[0],[1.0])|            (159,[23],[1.0])|             (607,[78],[1.0])|    350000.0|(3770,[13,38,530,...|[-0.7230848196582...|\n",
       "|         (2,[],[])|         (11,[],[])|    (25,[0],[1.0])|          (6,[0],[1.0])| (2386,[518],[1.0])|         (540,[82],[1.0])|            (16,[1],[1.0])|          (18,[9],[1.0])|            (159,[75],[1.0])|            (607,[127],[1.0])|    315000.0|(3770,[13,38,562,...|[-0.7230848196582...|\n",
       "|         (2,[],[])|         (11,[],[])|    (25,[0],[1.0])|          (6,[0],[1.0])| (2386,[585],[1.0])|         (540,[47],[1.0])|            (16,[0],[1.0])|          (18,[9],[1.0])|             (159,[7],[1.0])|            (607,[117],[1.0])|    321000.0|(3770,[13,38,629,...|[-0.7230848196582...|\n",
       "+------------------+-------------------+------------------+-----------------------+-------------------+-------------------------+--------------------------+------------------------+----------------------------+-----------------------------+------------+--------------------+--------------------+\n",
       "only showing top 10 rows"
      ]
     },
     "execution_count": 96,
     "metadata": {},
     "output_type": "execute_result"
    }
   ],
   "source": [
    "df_mean_test_sscaled = sScaler.fit(df_mean_test_vectored).transform(df_mean_test_vectored)\n",
    "df_mean_test_sscaled"
   ]
  },
  {
   "cell_type": "code",
   "execution_count": 97,
   "metadata": {},
   "outputs": [
    {
     "data": {
      "text/html": [
       "<table border='1'>\n",
       "<tr><th>Xcols_sscaled</th><th>resale_price</th></tr>\n",
       "<tr><td>[-0.7276138906731...</td><td>790000.0</td></tr>\n",
       "<tr><td>[-0.7276138906731...</td><td>810000.0</td></tr>\n",
       "<tr><td>[-0.7276138906731...</td><td>425000.0</td></tr>\n",
       "<tr><td>[-0.7276138906731...</td><td>910000.0</td></tr>\n",
       "<tr><td>[-0.7276138906731...</td><td>280000.0</td></tr>\n",
       "<tr><td>[-0.7276138906731...</td><td>360000.0</td></tr>\n",
       "<tr><td>[-0.7276138906731...</td><td>295000.0</td></tr>\n",
       "<tr><td>[-0.7276138906731...</td><td>325000.0</td></tr>\n",
       "<tr><td>[-0.7276138906731...</td><td>320000.0</td></tr>\n",
       "<tr><td>[-0.7276138906731...</td><td>371000.0</td></tr>\n",
       "</table>\n",
       "only showing top 10 rows\n"
      ],
      "text/plain": [
       "+--------------------+------------+\n",
       "|       Xcols_sscaled|resale_price|\n",
       "+--------------------+------------+\n",
       "|[-0.7276138906731...|    790000.0|\n",
       "|[-0.7276138906731...|    810000.0|\n",
       "|[-0.7276138906731...|    425000.0|\n",
       "|[-0.7276138906731...|    910000.0|\n",
       "|[-0.7276138906731...|    280000.0|\n",
       "|[-0.7276138906731...|    360000.0|\n",
       "|[-0.7276138906731...|    295000.0|\n",
       "|[-0.7276138906731...|    325000.0|\n",
       "|[-0.7276138906731...|    320000.0|\n",
       "|[-0.7276138906731...|    371000.0|\n",
       "+--------------------+------------+\n",
       "only showing top 10 rows"
      ]
     },
     "execution_count": 97,
     "metadata": {},
     "output_type": "execute_result"
    }
   ],
   "source": [
    "mean_train_scaled = df_mean_train_sscaled.select('Xcols_sscaled','resale_price')\n",
    "mean_train_scaled"
   ]
  },
  {
   "cell_type": "code",
   "execution_count": 98,
   "metadata": {},
   "outputs": [
    {
     "name": "stdout",
     "output_type": "stream",
     "text": [
      "mean_train_scaled\n",
      "no. of rows: 45077 | no. of columns: 2\n"
     ]
    }
   ],
   "source": [
    "print('mean_train_scaled')\n",
    "print('no. of rows:', mean_train_scaled.count(), '|', 'no. of columns:', len(mean_train_scaled.columns))"
   ]
  },
  {
   "cell_type": "code",
   "execution_count": 99,
   "metadata": {},
   "outputs": [
    {
     "data": {
      "text/html": [
       "<table border='1'>\n",
       "<tr><th>Xcols_sscaled</th><th>resale_price</th></tr>\n",
       "<tr><td>[-0.7230848196582...</td><td>710000.0</td></tr>\n",
       "<tr><td>[-0.7230848196582...</td><td>340000.0</td></tr>\n",
       "<tr><td>[-0.7230848196582...</td><td>368000.0</td></tr>\n",
       "<tr><td>[-0.7230848196582...</td><td>303000.0</td></tr>\n",
       "<tr><td>[-0.7230848196582...</td><td>327500.0</td></tr>\n",
       "<tr><td>[-0.7230848196582...</td><td>328000.0</td></tr>\n",
       "<tr><td>[-0.7230848196582...</td><td>350000.0</td></tr>\n",
       "<tr><td>[-0.7230848196582...</td><td>350000.0</td></tr>\n",
       "<tr><td>[-0.7230848196582...</td><td>315000.0</td></tr>\n",
       "<tr><td>[-0.7230848196582...</td><td>321000.0</td></tr>\n",
       "</table>\n",
       "only showing top 10 rows\n"
      ],
      "text/plain": [
       "+--------------------+------------+\n",
       "|       Xcols_sscaled|resale_price|\n",
       "+--------------------+------------+\n",
       "|[-0.7230848196582...|    710000.0|\n",
       "|[-0.7230848196582...|    340000.0|\n",
       "|[-0.7230848196582...|    368000.0|\n",
       "|[-0.7230848196582...|    303000.0|\n",
       "|[-0.7230848196582...|    327500.0|\n",
       "|[-0.7230848196582...|    328000.0|\n",
       "|[-0.7230848196582...|    350000.0|\n",
       "|[-0.7230848196582...|    350000.0|\n",
       "|[-0.7230848196582...|    315000.0|\n",
       "|[-0.7230848196582...|    321000.0|\n",
       "+--------------------+------------+\n",
       "only showing top 10 rows"
      ]
     },
     "execution_count": 99,
     "metadata": {},
     "output_type": "execute_result"
    }
   ],
   "source": [
    "mean_test_scaled = df_mean_test_sscaled.select('Xcols_sscaled','resale_price')\n",
    "mean_test_scaled"
   ]
  },
  {
   "cell_type": "code",
   "execution_count": 100,
   "metadata": {},
   "outputs": [
    {
     "name": "stdout",
     "output_type": "stream",
     "text": [
      "mean_test_scaled\n",
      "no. of rows: 19170 | no. of columns: 2\n"
     ]
    }
   ],
   "source": [
    "print('mean_test_scaled')\n",
    "print('no. of rows:', mean_test_scaled.count(), '|', 'no. of columns:', len(mean_test_scaled.columns))"
   ]
  },
  {
   "cell_type": "code",
   "execution_count": 101,
   "metadata": {},
   "outputs": [],
   "source": [
    "#scaled data\n",
    "scale_regressor = LinearRegression(featuresCol='Xcols_sscaled', labelCol='resale_price')"
   ]
  },
  {
   "cell_type": "code",
   "execution_count": 102,
   "metadata": {},
   "outputs": [],
   "source": [
    "mean_scaled_regressor = scale_regressor.fit(mean_train_scaled)"
   ]
  },
  {
   "cell_type": "code",
   "execution_count": 103,
   "metadata": {},
   "outputs": [],
   "source": [
    "train_mean_scaled_pred_results = mean_scaled_regressor.evaluate(mean_train_scaled)\n",
    "test_mean_scaled_pred_results = mean_scaled_regressor.evaluate(mean_test_scaled)"
   ]
  },
  {
   "cell_type": "code",
   "execution_count": 104,
   "metadata": {},
   "outputs": [
    {
     "data": {
      "text/html": [
       "<table border='1'>\n",
       "<tr><th>Xcols_sscaled</th><th>resale_price</th><th>prediction</th></tr>\n",
       "<tr><td>[-0.7276138906731...</td><td>790000.0</td><td>782797.575029494</td></tr>\n",
       "<tr><td>[-0.7276138906731...</td><td>810000.0</td><td>789878.5639470746</td></tr>\n",
       "<tr><td>[-0.7276138906731...</td><td>425000.0</td><td>479975.1715345682</td></tr>\n",
       "<tr><td>[-0.7276138906731...</td><td>910000.0</td><td>942148.4415325127</td></tr>\n",
       "<tr><td>[-0.7276138906731...</td><td>280000.0</td><td>297861.2071967344</td></tr>\n",
       "<tr><td>[-0.7276138906731...</td><td>360000.0</td><td>300736.51516487077</td></tr>\n",
       "<tr><td>[-0.7276138906731...</td><td>295000.0</td><td>252017.59722626573</td></tr>\n",
       "<tr><td>[-0.7276138906731...</td><td>325000.0</td><td>323381.5127038405</td></tr>\n",
       "<tr><td>[-0.7276138906731...</td><td>320000.0</td><td>322860.7138964037</td></tr>\n",
       "<tr><td>[-0.7276138906731...</td><td>371000.0</td><td>321251.29368169804</td></tr>\n",
       "</table>\n",
       "only showing top 10 rows\n"
      ],
      "text/plain": [
       "+--------------------+------------+------------------+\n",
       "|       Xcols_sscaled|resale_price|        prediction|\n",
       "+--------------------+------------+------------------+\n",
       "|[-0.7276138906731...|    790000.0|  782797.575029494|\n",
       "|[-0.7276138906731...|    810000.0| 789878.5639470746|\n",
       "|[-0.7276138906731...|    425000.0| 479975.1715345682|\n",
       "|[-0.7276138906731...|    910000.0| 942148.4415325127|\n",
       "|[-0.7276138906731...|    280000.0| 297861.2071967344|\n",
       "|[-0.7276138906731...|    360000.0|300736.51516487077|\n",
       "|[-0.7276138906731...|    295000.0|252017.59722626573|\n",
       "|[-0.7276138906731...|    325000.0| 323381.5127038405|\n",
       "|[-0.7276138906731...|    320000.0| 322860.7138964037|\n",
       "|[-0.7276138906731...|    371000.0|321251.29368169804|\n",
       "+--------------------+------------+------------------+\n",
       "only showing top 10 rows"
      ]
     },
     "execution_count": 104,
     "metadata": {},
     "output_type": "execute_result"
    }
   ],
   "source": [
    "train_mean_scaled_pred_results.predictions"
   ]
  },
  {
   "cell_type": "code",
   "execution_count": 105,
   "metadata": {},
   "outputs": [
    {
     "data": {
      "text/html": [
       "<table border='1'>\n",
       "<tr><th>Xcols_sscaled</th><th>resale_price</th><th>prediction</th></tr>\n",
       "<tr><td>[-0.7230848196582...</td><td>710000.0</td><td>753457.1701298003</td></tr>\n",
       "<tr><td>[-0.7230848196582...</td><td>340000.0</td><td>326532.341532552</td></tr>\n",
       "<tr><td>[-0.7230848196582...</td><td>368000.0</td><td>318264.8982380034</td></tr>\n",
       "<tr><td>[-0.7230848196582...</td><td>303000.0</td><td>281715.0528242481</td></tr>\n",
       "<tr><td>[-0.7230848196582...</td><td>327500.0</td><td>310183.0514451166</td></tr>\n",
       "<tr><td>[-0.7230848196582...</td><td>328000.0</td><td>301791.4091116852</td></tr>\n",
       "<tr><td>[-0.7230848196582...</td><td>350000.0</td><td>327215.0964044698</td></tr>\n",
       "<tr><td>[-0.7230848196582...</td><td>350000.0</td><td>360532.10092569643</td></tr>\n",
       "<tr><td>[-0.7230848196582...</td><td>315000.0</td><td>300799.52020344185</td></tr>\n",
       "<tr><td>[-0.7230848196582...</td><td>321000.0</td><td>317543.5533014153</td></tr>\n",
       "</table>\n",
       "only showing top 10 rows\n"
      ],
      "text/plain": [
       "+--------------------+------------+------------------+\n",
       "|       Xcols_sscaled|resale_price|        prediction|\n",
       "+--------------------+------------+------------------+\n",
       "|[-0.7230848196582...|    710000.0| 753457.1701298003|\n",
       "|[-0.7230848196582...|    340000.0|  326532.341532552|\n",
       "|[-0.7230848196582...|    368000.0| 318264.8982380034|\n",
       "|[-0.7230848196582...|    303000.0| 281715.0528242481|\n",
       "|[-0.7230848196582...|    327500.0| 310183.0514451166|\n",
       "|[-0.7230848196582...|    328000.0| 301791.4091116852|\n",
       "|[-0.7230848196582...|    350000.0| 327215.0964044698|\n",
       "|[-0.7230848196582...|    350000.0|360532.10092569643|\n",
       "|[-0.7230848196582...|    315000.0|300799.52020344185|\n",
       "|[-0.7230848196582...|    321000.0| 317543.5533014153|\n",
       "+--------------------+------------+------------------+\n",
       "only showing top 10 rows"
      ]
     },
     "execution_count": 105,
     "metadata": {},
     "output_type": "execute_result"
    }
   ],
   "source": [
    "test_mean_scaled_pred_results.predictions"
   ]
  },
  {
   "cell_type": "code",
   "execution_count": 106,
   "metadata": {},
   "outputs": [
    {
     "name": "stdout",
     "output_type": "stream",
     "text": [
      "MAE: 24494.996092145615\n",
      "MSE: 1097595347.0188785\n",
      "r2: 0.9535314343959642\n"
     ]
    }
   ],
   "source": [
    "#train_mean_scaled_pred_results\n",
    "print('MAE:', train_mean_scaled_pred_results.meanAbsoluteError)\n",
    "print('MSE:', train_mean_scaled_pred_results.meanSquaredError)\n",
    "print('r2:', train_mean_scaled_pred_results.r2)"
   ]
  },
  {
   "cell_type": "code",
   "execution_count": 107,
   "metadata": {},
   "outputs": [
    {
     "name": "stdout",
     "output_type": "stream",
     "text": [
      "MAE: 28940.793208332056\n",
      "MSE: 1564558614.6223886\n",
      "r2: 0.9339659262962453\n"
     ]
    }
   ],
   "source": [
    "#test_mean_scaled_pred_results\n",
    "print('MAE:', test_mean_scaled_pred_results.meanAbsoluteError)\n",
    "print('MSE:', test_mean_scaled_pred_results.meanSquaredError)\n",
    "print('r2:', test_mean_scaled_pred_results.r2)"
   ]
  },
  {
   "cell_type": "markdown",
   "metadata": {},
   "source": [
    "# 6. Report <a id='6'></a>\n",
    "[Back to top](#top)"
   ]
  },
  {
   "cell_type": "markdown",
   "metadata": {},
   "source": [
    "## 6.1 Problem Statement Formulation <a id='6.1'></a>\n",
    "[Back to top](#top)"
   ]
  },
  {
   "cell_type": "markdown",
   "metadata": {},
   "source": [
    "Before having done anything else, I first started off with establishing my problem statement, which is: \"what is the best price for me sell/buy my flat at?\"\n",
    "\n",
    "The purpose of my model was to allow users to predict prices of the hdb flat given the set of specifications that it has so that they will be able to know how much they should buy or sell their hdb flat at to get the best price. This problem statement does seem to slightly cater more towards the seller as it gives them an optimal selling price, but buyers are also taken into consideration when taking into account that the problem statement and model can give them a rough price on the hdb flat they want so that they know if a seller may be overpricing the hdb flat\n",
    "\n",
    "To start off the process of exploring the dataset, I first loaded it into Jupyter Notebook and used the .printSchema() function to check that the values in the columns seemed to be of the correct types. It is to be noted that there are 6 numerical columns and 6 categorical columns"
   ]
  },
  {
   "cell_type": "code",
   "execution_count": 108,
   "metadata": {},
   "outputs": [
    {
     "name": "stdout",
     "output_type": "stream",
     "text": [
      "root\n",
      " |-- year: integer (nullable = true)\n",
      " |-- month: integer (nullable = true)\n",
      " |-- town: string (nullable = true)\n",
      " |-- flat_type: string (nullable = true)\n",
      " |-- block: string (nullable = true)\n",
      " |-- street_name: string (nullable = true)\n",
      " |-- storey_range: string (nullable = true)\n",
      " |-- floor_area_sqm: double (nullable = true)\n",
      " |-- flat_model: string (nullable = true)\n",
      " |-- lease_commence_date: integer (nullable = true)\n",
      " |-- remaining_lease: integer (nullable = true)\n",
      " |-- resale_price: double (nullable = true)\n",
      "\n"
     ]
    }
   ],
   "source": [
    "df.printSchema()"
   ]
  },
  {
   "cell_type": "markdown",
   "metadata": {},
   "source": [
    "Then, I printed out the initial dataframe to get a glimpse and understand more about the columns available to work with, and how they can affect my target, resale price."
   ]
  },
  {
   "cell_type": "code",
   "execution_count": 109,
   "metadata": {},
   "outputs": [
    {
     "data": {
      "text/html": [
       "<table border='1'>\n",
       "<tr><th>year</th><th>month</th><th>town</th><th>flat_type</th><th>block</th><th>street_name</th><th>storey_range</th><th>floor_area_sqm</th><th>flat_model</th><th>lease_commence_date</th><th>remaining_lease</th><th>resale_price</th></tr>\n",
       "<tr><td>2017</td><td>1</td><td>ANG MO KIO</td><td>2 ROOM</td><td>406</td><td>ANG MO KIO AVE 10</td><td>10 TO 12</td><td>44.0</td><td>Improved</td><td>1979</td><td>736</td><td>232000.0</td></tr>\n",
       "<tr><td>2017</td><td>1</td><td>ANG MO KIO</td><td>3 ROOM</td><td>108</td><td>ANG MO KIO AVE 4</td><td>01 TO 03</td><td>67.0</td><td>New Generation</td><td>1978</td><td>727</td><td>250000.0</td></tr>\n",
       "<tr><td>2017</td><td>1</td><td>ANG MO KIO</td><td>3 ROOM</td><td>602</td><td>ANG MO KIO AVE 5</td><td>01 TO 03</td><td>67.0</td><td>New Generation</td><td>1980</td><td>749</td><td>262000.0</td></tr>\n",
       "<tr><td>2017</td><td>1</td><td>ANG MO KIO</td><td>3 ROOM</td><td>465</td><td>ANG MO KIO AVE 10</td><td>04 TO 06</td><td>68.0</td><td>New Generation</td><td>1980</td><td>745</td><td>265000.0</td></tr>\n",
       "<tr><td>2017</td><td>1</td><td>ANG MO KIO</td><td>3 ROOM</td><td>601</td><td>ANG MO KIO AVE 5</td><td>01 TO 03</td><td>67.0</td><td>New Generation</td><td>1980</td><td>749</td><td>265000.0</td></tr>\n",
       "<tr><td>2017</td><td>1</td><td>ANG MO KIO</td><td>3 ROOM</td><td>150</td><td>ANG MO KIO AVE 5</td><td>01 TO 03</td><td>68.0</td><td>New Generation</td><td>1981</td><td>756</td><td>275000.0</td></tr>\n",
       "<tr><td>2017</td><td>1</td><td>ANG MO KIO</td><td>3 ROOM</td><td>447</td><td>ANG MO KIO AVE 10</td><td>04 TO 06</td><td>68.0</td><td>New Generation</td><td>1979</td><td>738</td><td>280000.0</td></tr>\n",
       "<tr><td>2017</td><td>1</td><td>ANG MO KIO</td><td>3 ROOM</td><td>218</td><td>ANG MO KIO AVE 1</td><td>04 TO 06</td><td>67.0</td><td>New Generation</td><td>1976</td><td>700</td><td>285000.0</td></tr>\n",
       "<tr><td>2017</td><td>1</td><td>ANG MO KIO</td><td>3 ROOM</td><td>447</td><td>ANG MO KIO AVE 10</td><td>04 TO 06</td><td>68.0</td><td>New Generation</td><td>1979</td><td>738</td><td>285000.0</td></tr>\n",
       "<tr><td>2017</td><td>1</td><td>ANG MO KIO</td><td>3 ROOM</td><td>571</td><td>ANG MO KIO AVE 3</td><td>01 TO 03</td><td>67.0</td><td>New Generation</td><td>1979</td><td>736</td><td>285000.0</td></tr>\n",
       "</table>\n",
       "only showing top 10 rows\n"
      ],
      "text/plain": [
       "DataFrame[year: int, month: int, town: string, flat_type: string, block: string, street_name: string, storey_range: string, floor_area_sqm: double, flat_model: string, lease_commence_date: int, remaining_lease: int, resale_price: double]"
      ]
     },
     "execution_count": 109,
     "metadata": {},
     "output_type": "execute_result"
    }
   ],
   "source": [
    "df"
   ]
  },
  {
   "cell_type": "markdown",
   "metadata": {},
   "source": [
    "### 6.1.1 Columns in the Dataset <a id='6.1.1'></a>\n",
    "[Back to top](#top)\n",
    "\n",
    "\n",
    "For most columns the reason why the can affect my target variable is pretty obvious.\n",
    "\n",
    "Columns such as year and month, affects the resale price as depending on the date that the flat is sold for, the resale price may be slightly higher or lower since resale price is a continuous value which can be affected by time.\n",
    "\n",
    "The other columns tell us the characteristics of the flat being sold. These columns affect the resale price since depending on a flat’s location, size, type, and model, the size of the flat and the living environment are different. Generally, there are some living environments and flat sizes that appeal to people more. Therefore, those would be priced higher since they are more valuable to buyers generally, and buyers are willing to pay more for them.\n",
    "\n",
    "Last but not least, there are the columns of remaining lease and lease commence date to address. These two columns address the age of the flat. \n",
    "Firstly, a flat’s lease is 99 years and that once it has finished its lease, it will return to the hands of the government, making it invaluable the flats will then be recycled and be rebuilt into newer HDB flats for future Singaporeans.\n",
    "\n",
    "The remaining lease of a flat will affect how much a flat’s resale price is because when a flat’s lease ends, the flat will be considered invaluable and will be returned to the government. Also, the remaining lease affects how much of the buyers’ Central Provident Fund (CPF) can be used to purchase the flat.\n",
    "\n",
    "There are 3 scenarios on how the remaining lease affects this and they are stated below.\n",
    "\n",
    "ai. If the flat can cover you until you are at least 95, and the lease doesn’t expire before you turn 95:\n",
    "\n",
    "You’re allowed to use your CPF savings to finance your flat up to the flat’s Valuation Limit which is the current property value or the purchase price of the property, whichever is lower.\n",
    "\n",
    "\n",
    "aii. If the flat doesn’t cover you until at least 95:\n",
    "\n",
    "You’ll only be allowed to use your CPF funds up to the Valuation Limit pro-rated according to the length of time the lease can cover you.\n",
    "\n",
    "\n",
    "aiii. If the flat has less than 20 years of lease remaining:\n",
    "\n",
    "You’re not allowed to use any CPF savings to finance your flat.\n",
    "\n",
    "\n",
    "In all instances above, “you” refers to the youngest buyer. For instance, if you’re 30 and your co-homeowning partner is 28, your partner’s age will be used in the calculation.\n",
    "\n",
    "Also, the age of a flat affects the pricing of a flat as a flat that is very old, with an almost finished lease, may not be priced as high as a flat with a rather long remaining lease.\n",
    "\n",
    "However, there is also the case of more mature flats, meaning older flats, being priced higher due to its convenience. A buyer can tell the maturity of a flat generally by the age of the flat. The older the flat is, the more likely the area around it is already well developed, with facilities and amenities at an arm’ s reach, which make the location more convenient and valuable to the owner of the flat.\n",
    "\n",
    "Finally, since lease commence date and remaining lease can be found using each other, it is likely that one will be removed during the data cleansing process since it may be redundant. The one to be removed is not decided yet, however, since the one that is more useful for my problem statement is yet to be determined."
   ]
  },
  {
   "cell_type": "markdown",
   "metadata": {},
   "source": [
    "## 6.2 Exploratory Data Analysis and Data Cleansing <a id='6.2'></a>\n",
    "[Back to top](#top)"
   ]
  },
  {
   "cell_type": "markdown",
   "metadata": {},
   "source": [
    "Next, after understanding most of what I can about my dataset, I set off to explore the dataset even further. Firstly, I opened the dataset in excel to do a quick skim through of the values in it so as to check if there were any duplicated values that are supposed to be a singular value in the dataset.\n",
    "\n",
    "During my skim through, I came across 2 things to take note of. Firstly, there were null values in the floor_area_sqm column, and secondly, the remaining lease was calculated in months, not years.\n",
    "\n",
    "Afterwards, I decided to search for any missing values in the dataset. As expected, only the floor_area_sqm had missing values."
   ]
  },
  {
   "cell_type": "code",
   "execution_count": 110,
   "metadata": {},
   "outputs": [
    {
     "data": {
      "text/html": [
       "<table border='1'>\n",
       "<tr><th>year</th><th>month</th><th>town</th><th>flat_type</th><th>block</th><th>street_name</th><th>storey_range</th><th>floor_area_sqm</th><th>flat_model</th><th>lease_commence_date</th><th>remaining_lease</th><th>resale_price</th></tr>\n",
       "<tr><td>0</td><td>0</td><td>0</td><td>0</td><td>0</td><td>0</td><td>0</td><td>50</td><td>0</td><td>0</td><td>0</td><td>0</td></tr>\n",
       "</table>\n"
      ],
      "text/plain": [
       "+----+-----+----+---------+-----+-----------+------------+--------------+----------+-------------------+---------------+------------+\n",
       "|year|month|town|flat_type|block|street_name|storey_range|floor_area_sqm|flat_model|lease_commence_date|remaining_lease|resale_price|\n",
       "+----+-----+----+---------+-----+-----------+------------+--------------+----------+-------------------+---------------+------------+\n",
       "|   0|    0|   0|        0|    0|          0|           0|            50|         0|                  0|              0|           0|\n",
       "+----+-----+----+---------+-----+-----------+------------+--------------+----------+-------------------+---------------+------------+"
      ]
     },
     "execution_count": 110,
     "metadata": {},
     "output_type": "execute_result"
    }
   ],
   "source": [
    "df.select([count(when(isnan(c) | col(c).isNull(), c)).alias(c) for c in df.columns])"
   ]
  },
  {
   "cell_type": "markdown",
   "metadata": {},
   "source": [
    "Hence, I decided to filter out the rows with said null values into another dataframe to further explore."
   ]
  },
  {
   "cell_type": "code",
   "execution_count": 111,
   "metadata": {},
   "outputs": [
    {
     "data": {
      "text/html": [
       "<table border='1'>\n",
       "<tr><th>year</th><th>month</th><th>town</th><th>flat_type</th><th>block</th><th>street_name</th><th>storey_range</th><th>floor_area_sqm</th><th>flat_model</th><th>lease_commence_date</th><th>remaining_lease</th><th>resale_price</th></tr>\n",
       "<tr><td>2017</td><td>3</td><td>QUEENSTOWN</td><td>4 ROOM</td><td>161</td><td>MEI LING ST</td><td>19 TO 21</td><td>null</td><td>Improved</td><td>1970</td><td>628</td><td>556000.0</td></tr>\n",
       "<tr><td>2017</td><td>3</td><td>TOA PAYOH</td><td>4 ROOM</td><td>220</td><td>LOR 8 TOA PAYOH</td><td>16 TO 18</td><td>null</td><td>Improved</td><td>1976</td><td>698</td><td>383000.0</td></tr>\n",
       "<tr><td>2017</td><td>3</td><td>TOA PAYOH</td><td>4 ROOM</td><td>213</td><td>LOR 8 TOA PAYOH</td><td>16 TO 18</td><td>null</td><td>Improved</td><td>1975</td><td>683</td><td>390000.0</td></tr>\n",
       "<tr><td>2017</td><td>3</td><td>TOA PAYOH</td><td>4 ROOM</td><td>204</td><td>TOA PAYOH NTH</td><td>13 TO 15</td><td>null</td><td>Improved</td><td>1973</td><td>664</td><td>420000.0</td></tr>\n",
       "<tr><td>2017</td><td>3</td><td>TOA PAYOH</td><td>4 ROOM</td><td>208</td><td>TOA PAYOH NTH</td><td>07 TO 09</td><td>null</td><td>Improved</td><td>1973</td><td>664</td><td>420000.0</td></tr>\n",
       "<tr><td>2017</td><td>4</td><td>BEDOK</td><td>4 ROOM</td><td>37</td><td>BEDOK STH AVE 2</td><td>01 TO 03</td><td>null</td><td>Improved</td><td>1977</td><td>713</td><td>320000.0</td></tr>\n",
       "<tr><td>2017</td><td>4</td><td>BEDOK</td><td>4 ROOM</td><td>41</td><td>BEDOK STH RD</td><td>04 TO 06</td><td>null</td><td>Improved</td><td>1977</td><td>713</td><td>352000.0</td></tr>\n",
       "<tr><td>2017</td><td>4</td><td>BEDOK</td><td>4 ROOM</td><td>44</td><td>BEDOK STH RD</td><td>07 TO 09</td><td>null</td><td>Improved</td><td>1977</td><td>713</td><td>365000.0</td></tr>\n",
       "<tr><td>2017</td><td>4</td><td>BEDOK</td><td>4 ROOM</td><td>44</td><td>BEDOK STH RD</td><td>13 TO 15</td><td>null</td><td>Improved</td><td>1977</td><td>713</td><td>385000.0</td></tr>\n",
       "<tr><td>2017</td><td>4</td><td>BUKIT MERAH</td><td>4 ROOM</td><td>120</td><td>BT MERAH VIEW</td><td>04 TO 06</td><td>null</td><td>Improved</td><td>1973</td><td>657</td><td>420000.0</td></tr>\n",
       "</table>\n",
       "only showing top 10 rows\n"
      ],
      "text/plain": [
       "DataFrame[year: int, month: int, town: string, flat_type: string, block: string, street_name: string, storey_range: string, floor_area_sqm: double, flat_model: string, lease_commence_date: int, remaining_lease: int, resale_price: double]"
      ]
     },
     "execution_count": 111,
     "metadata": {},
     "output_type": "execute_result"
    }
   ],
   "source": [
    "df_nulls"
   ]
  },
  {
   "cell_type": "markdown",
   "metadata": {},
   "source": [
    "It was discovered that all the rows with the missing value were a 4-room type and improved model. The lease commence date were also around the 1970s to 1980s. Therefore, the floor area of the flats would be around 82-84 sqm, according to some research I did."
   ]
  },
  {
   "cell_type": "code",
   "execution_count": 112,
   "metadata": {},
   "outputs": [
    {
     "data": {
      "text/html": [
       "<table border='1'>\n",
       "<tr><th>flat_type</th><th>flat_model</th><th>lease_commence_date</th></tr>\n",
       "<tr><td>4 ROOM</td><td>Improved</td><td>1970</td></tr>\n",
       "<tr><td>4 ROOM</td><td>Improved</td><td>1972</td></tr>\n",
       "<tr><td>4 ROOM</td><td>Improved</td><td>1973</td></tr>\n",
       "<tr><td>4 ROOM</td><td>Improved</td><td>1974</td></tr>\n",
       "<tr><td>4 ROOM</td><td>Improved</td><td>1975</td></tr>\n",
       "<tr><td>4 ROOM</td><td>Improved</td><td>1976</td></tr>\n",
       "<tr><td>4 ROOM</td><td>Improved</td><td>1977</td></tr>\n",
       "<tr><td>4 ROOM</td><td>Improved</td><td>1980</td></tr>\n",
       "<tr><td>4 ROOM</td><td>Improved</td><td>1984</td></tr>\n",
       "</table>\n"
      ],
      "text/plain": [
       "+---------+----------+-------------------+\n",
       "|flat_type|flat_model|lease_commence_date|\n",
       "+---------+----------+-------------------+\n",
       "|   4 ROOM|  Improved|               1970|\n",
       "|   4 ROOM|  Improved|               1972|\n",
       "|   4 ROOM|  Improved|               1973|\n",
       "|   4 ROOM|  Improved|               1974|\n",
       "|   4 ROOM|  Improved|               1975|\n",
       "|   4 ROOM|  Improved|               1976|\n",
       "|   4 ROOM|  Improved|               1977|\n",
       "|   4 ROOM|  Improved|               1980|\n",
       "|   4 ROOM|  Improved|               1984|\n",
       "+---------+----------+-------------------+"
      ]
     },
     "execution_count": 112,
     "metadata": {},
     "output_type": "execute_result"
    }
   ],
   "source": [
    "df_nulls.select('flat_type', 'flat_model', 'lease_commence_date').distinct().sort('lease_commence_date')"
   ]
  },
  {
   "cell_type": "markdown",
   "metadata": {},
   "source": [
    "### 6.2.1 Missing Value Treatment <a id='6.2.1'></a>\n",
    "[Back to top](#top)"
   ]
  },
  {
   "cell_type": "markdown",
   "metadata": {},
   "source": [
    "To handle the missing values, there were a few things that I can do.\n",
    "Firstly, I can just resort to dropping all the columns with null values. This is because the number of rows with missing values in proportion to the entire dataset is very very small, so small that the removal of these values will probably not affect the overall results at all."
   ]
  },
  {
   "cell_type": "code",
   "execution_count": 113,
   "metadata": {},
   "outputs": [
    {
     "data": {
      "text/html": [
       "<table border='1'>\n",
       "<tr><th>year</th><th>month</th><th>town</th><th>flat_type</th><th>block</th><th>street_name</th><th>storey_range</th><th>floor_area_sqm</th><th>flat_model</th><th>lease_commence_date</th><th>remaining_lease</th><th>resale_price</th></tr>\n",
       "<tr><td>2017</td><td>1</td><td>ANG MO KIO</td><td>2 ROOM</td><td>406</td><td>ANG MO KIO AVE 10</td><td>10 TO 12</td><td>44.0</td><td>Improved</td><td>1979</td><td>736</td><td>232000.0</td></tr>\n",
       "<tr><td>2017</td><td>1</td><td>ANG MO KIO</td><td>3 ROOM</td><td>108</td><td>ANG MO KIO AVE 4</td><td>01 TO 03</td><td>67.0</td><td>New Generation</td><td>1978</td><td>727</td><td>250000.0</td></tr>\n",
       "<tr><td>2017</td><td>1</td><td>ANG MO KIO</td><td>3 ROOM</td><td>602</td><td>ANG MO KIO AVE 5</td><td>01 TO 03</td><td>67.0</td><td>New Generation</td><td>1980</td><td>749</td><td>262000.0</td></tr>\n",
       "<tr><td>2017</td><td>1</td><td>ANG MO KIO</td><td>3 ROOM</td><td>465</td><td>ANG MO KIO AVE 10</td><td>04 TO 06</td><td>68.0</td><td>New Generation</td><td>1980</td><td>745</td><td>265000.0</td></tr>\n",
       "<tr><td>2017</td><td>1</td><td>ANG MO KIO</td><td>3 ROOM</td><td>601</td><td>ANG MO KIO AVE 5</td><td>01 TO 03</td><td>67.0</td><td>New Generation</td><td>1980</td><td>749</td><td>265000.0</td></tr>\n",
       "<tr><td>2017</td><td>1</td><td>ANG MO KIO</td><td>3 ROOM</td><td>150</td><td>ANG MO KIO AVE 5</td><td>01 TO 03</td><td>68.0</td><td>New Generation</td><td>1981</td><td>756</td><td>275000.0</td></tr>\n",
       "<tr><td>2017</td><td>1</td><td>ANG MO KIO</td><td>3 ROOM</td><td>447</td><td>ANG MO KIO AVE 10</td><td>04 TO 06</td><td>68.0</td><td>New Generation</td><td>1979</td><td>738</td><td>280000.0</td></tr>\n",
       "<tr><td>2017</td><td>1</td><td>ANG MO KIO</td><td>3 ROOM</td><td>218</td><td>ANG MO KIO AVE 1</td><td>04 TO 06</td><td>67.0</td><td>New Generation</td><td>1976</td><td>700</td><td>285000.0</td></tr>\n",
       "<tr><td>2017</td><td>1</td><td>ANG MO KIO</td><td>3 ROOM</td><td>447</td><td>ANG MO KIO AVE 10</td><td>04 TO 06</td><td>68.0</td><td>New Generation</td><td>1979</td><td>738</td><td>285000.0</td></tr>\n",
       "<tr><td>2017</td><td>1</td><td>ANG MO KIO</td><td>3 ROOM</td><td>571</td><td>ANG MO KIO AVE 3</td><td>01 TO 03</td><td>67.0</td><td>New Generation</td><td>1979</td><td>736</td><td>285000.0</td></tr>\n",
       "</table>\n",
       "only showing top 10 rows\n"
      ],
      "text/plain": [
       "+----+-----+----------+---------+-----+-----------------+------------+--------------+--------------+-------------------+---------------+------------+\n",
       "|year|month|      town|flat_type|block|      street_name|storey_range|floor_area_sqm|    flat_model|lease_commence_date|remaining_lease|resale_price|\n",
       "+----+-----+----------+---------+-----+-----------------+------------+--------------+--------------+-------------------+---------------+------------+\n",
       "|2017|    1|ANG MO KIO|   2 ROOM|  406|ANG MO KIO AVE 10|    10 TO 12|          44.0|      Improved|               1979|            736|    232000.0|\n",
       "|2017|    1|ANG MO KIO|   3 ROOM|  108| ANG MO KIO AVE 4|    01 TO 03|          67.0|New Generation|               1978|            727|    250000.0|\n",
       "|2017|    1|ANG MO KIO|   3 ROOM|  602| ANG MO KIO AVE 5|    01 TO 03|          67.0|New Generation|               1980|            749|    262000.0|\n",
       "|2017|    1|ANG MO KIO|   3 ROOM|  465|ANG MO KIO AVE 10|    04 TO 06|          68.0|New Generation|               1980|            745|    265000.0|\n",
       "|2017|    1|ANG MO KIO|   3 ROOM|  601| ANG MO KIO AVE 5|    01 TO 03|          67.0|New Generation|               1980|            749|    265000.0|\n",
       "|2017|    1|ANG MO KIO|   3 ROOM|  150| ANG MO KIO AVE 5|    01 TO 03|          68.0|New Generation|               1981|            756|    275000.0|\n",
       "|2017|    1|ANG MO KIO|   3 ROOM|  447|ANG MO KIO AVE 10|    04 TO 06|          68.0|New Generation|               1979|            738|    280000.0|\n",
       "|2017|    1|ANG MO KIO|   3 ROOM|  218| ANG MO KIO AVE 1|    04 TO 06|          67.0|New Generation|               1976|            700|    285000.0|\n",
       "|2017|    1|ANG MO KIO|   3 ROOM|  447|ANG MO KIO AVE 10|    04 TO 06|          68.0|New Generation|               1979|            738|    285000.0|\n",
       "|2017|    1|ANG MO KIO|   3 ROOM|  571| ANG MO KIO AVE 3|    01 TO 03|          67.0|New Generation|               1979|            736|    285000.0|\n",
       "+----+-----+----------+---------+-----+-----------------+------------+--------------+--------------+-------------------+---------------+------------+\n",
       "only showing top 10 rows"
      ]
     },
     "execution_count": 113,
     "metadata": {},
     "output_type": "execute_result"
    }
   ],
   "source": [
    "df_dropped_nulls"
   ]
  },
  {
   "cell_type": "markdown",
   "metadata": {},
   "source": [
    "Secondly, I can use the imputer to impute the mean and median of the dataset. Since all of the missing values are from 4-room, improved model flats built around the same timeframe, the values are most likely a similar value to the mean or median of the floor area of all other flats which are 4-room improved flats. Furthermore, after some extra research, I found out that there was only 1 timeframe, the 1970s – 1980s, where 4-room improved flats were being built. Hence, the floor area should not be too different from each other.\n",
    "\n",
    "I could fit the imputer with a dataset filled only with flats which are 4-room type and improved model, and fit it to the imputer. Then, the already fitted imputer can transform the dataset for me, making all imputed results the mean/median of the floor area of all 4-room type, improved model flats. Therefore, using an imputer to impute the null values with the mean/median seems to be another viable solution"
   ]
  },
  {
   "cell_type": "code",
   "execution_count": 114,
   "metadata": {},
   "outputs": [
    {
     "data": {
      "text/html": [
       "<table border='1'>\n",
       "<tr><th>year</th><th>month</th><th>town</th><th>flat_type</th><th>block</th><th>street_name</th><th>storey_range</th><th>floor_area_sqm</th><th>flat_model</th><th>lease_commence_date</th><th>remaining_lease</th><th>resale_price</th></tr>\n",
       "<tr><td>2017</td><td>1</td><td>ANG MO KIO</td><td>2 ROOM</td><td>406</td><td>ANG MO KIO AVE 10</td><td>10 TO 12</td><td>44.0</td><td>Improved</td><td>1979</td><td>736</td><td>232000.0</td></tr>\n",
       "<tr><td>2017</td><td>1</td><td>ANG MO KIO</td><td>3 ROOM</td><td>108</td><td>ANG MO KIO AVE 4</td><td>01 TO 03</td><td>67.0</td><td>New Generation</td><td>1978</td><td>727</td><td>250000.0</td></tr>\n",
       "<tr><td>2017</td><td>1</td><td>ANG MO KIO</td><td>3 ROOM</td><td>602</td><td>ANG MO KIO AVE 5</td><td>01 TO 03</td><td>67.0</td><td>New Generation</td><td>1980</td><td>749</td><td>262000.0</td></tr>\n",
       "<tr><td>2017</td><td>1</td><td>ANG MO KIO</td><td>3 ROOM</td><td>465</td><td>ANG MO KIO AVE 10</td><td>04 TO 06</td><td>68.0</td><td>New Generation</td><td>1980</td><td>745</td><td>265000.0</td></tr>\n",
       "<tr><td>2017</td><td>1</td><td>ANG MO KIO</td><td>3 ROOM</td><td>601</td><td>ANG MO KIO AVE 5</td><td>01 TO 03</td><td>67.0</td><td>New Generation</td><td>1980</td><td>749</td><td>265000.0</td></tr>\n",
       "<tr><td>2017</td><td>1</td><td>ANG MO KIO</td><td>3 ROOM</td><td>150</td><td>ANG MO KIO AVE 5</td><td>01 TO 03</td><td>68.0</td><td>New Generation</td><td>1981</td><td>756</td><td>275000.0</td></tr>\n",
       "<tr><td>2017</td><td>1</td><td>ANG MO KIO</td><td>3 ROOM</td><td>447</td><td>ANG MO KIO AVE 10</td><td>04 TO 06</td><td>68.0</td><td>New Generation</td><td>1979</td><td>738</td><td>280000.0</td></tr>\n",
       "<tr><td>2017</td><td>1</td><td>ANG MO KIO</td><td>3 ROOM</td><td>218</td><td>ANG MO KIO AVE 1</td><td>04 TO 06</td><td>67.0</td><td>New Generation</td><td>1976</td><td>700</td><td>285000.0</td></tr>\n",
       "<tr><td>2017</td><td>1</td><td>ANG MO KIO</td><td>3 ROOM</td><td>447</td><td>ANG MO KIO AVE 10</td><td>04 TO 06</td><td>68.0</td><td>New Generation</td><td>1979</td><td>738</td><td>285000.0</td></tr>\n",
       "<tr><td>2017</td><td>1</td><td>ANG MO KIO</td><td>3 ROOM</td><td>571</td><td>ANG MO KIO AVE 3</td><td>01 TO 03</td><td>67.0</td><td>New Generation</td><td>1979</td><td>736</td><td>285000.0</td></tr>\n",
       "</table>\n",
       "only showing top 10 rows\n"
      ],
      "text/plain": [
       "+----+-----+----------+---------+-----+-----------------+------------+--------------+--------------+-------------------+---------------+------------+\n",
       "|year|month|      town|flat_type|block|      street_name|storey_range|floor_area_sqm|    flat_model|lease_commence_date|remaining_lease|resale_price|\n",
       "+----+-----+----------+---------+-----+-----------------+------------+--------------+--------------+-------------------+---------------+------------+\n",
       "|2017|    1|ANG MO KIO|   2 ROOM|  406|ANG MO KIO AVE 10|    10 TO 12|          44.0|      Improved|               1979|            736|    232000.0|\n",
       "|2017|    1|ANG MO KIO|   3 ROOM|  108| ANG MO KIO AVE 4|    01 TO 03|          67.0|New Generation|               1978|            727|    250000.0|\n",
       "|2017|    1|ANG MO KIO|   3 ROOM|  602| ANG MO KIO AVE 5|    01 TO 03|          67.0|New Generation|               1980|            749|    262000.0|\n",
       "|2017|    1|ANG MO KIO|   3 ROOM|  465|ANG MO KIO AVE 10|    04 TO 06|          68.0|New Generation|               1980|            745|    265000.0|\n",
       "|2017|    1|ANG MO KIO|   3 ROOM|  601| ANG MO KIO AVE 5|    01 TO 03|          67.0|New Generation|               1980|            749|    265000.0|\n",
       "|2017|    1|ANG MO KIO|   3 ROOM|  150| ANG MO KIO AVE 5|    01 TO 03|          68.0|New Generation|               1981|            756|    275000.0|\n",
       "|2017|    1|ANG MO KIO|   3 ROOM|  447|ANG MO KIO AVE 10|    04 TO 06|          68.0|New Generation|               1979|            738|    280000.0|\n",
       "|2017|    1|ANG MO KIO|   3 ROOM|  218| ANG MO KIO AVE 1|    04 TO 06|          67.0|New Generation|               1976|            700|    285000.0|\n",
       "|2017|    1|ANG MO KIO|   3 ROOM|  447|ANG MO KIO AVE 10|    04 TO 06|          68.0|New Generation|               1979|            738|    285000.0|\n",
       "|2017|    1|ANG MO KIO|   3 ROOM|  571| ANG MO KIO AVE 3|    01 TO 03|          67.0|New Generation|               1979|            736|    285000.0|\n",
       "+----+-----+----------+---------+-----+-----------------+------------+--------------+--------------+-------------------+---------------+------------+\n",
       "only showing top 10 rows"
      ]
     },
     "execution_count": 114,
     "metadata": {},
     "output_type": "execute_result"
    }
   ],
   "source": [
    "df_impute_mean"
   ]
  },
  {
   "cell_type": "code",
   "execution_count": 115,
   "metadata": {},
   "outputs": [
    {
     "data": {
      "text/html": [
       "<table border='1'>\n",
       "<tr><th>year</th><th>month</th><th>town</th><th>flat_type</th><th>block</th><th>street_name</th><th>storey_range</th><th>floor_area_sqm</th><th>flat_model</th><th>lease_commence_date</th><th>remaining_lease</th><th>resale_price</th></tr>\n",
       "<tr><td>2017</td><td>1</td><td>ANG MO KIO</td><td>2 ROOM</td><td>406</td><td>ANG MO KIO AVE 10</td><td>10 TO 12</td><td>44.0</td><td>Improved</td><td>1979</td><td>736</td><td>232000.0</td></tr>\n",
       "<tr><td>2017</td><td>1</td><td>ANG MO KIO</td><td>3 ROOM</td><td>108</td><td>ANG MO KIO AVE 4</td><td>01 TO 03</td><td>67.0</td><td>New Generation</td><td>1978</td><td>727</td><td>250000.0</td></tr>\n",
       "<tr><td>2017</td><td>1</td><td>ANG MO KIO</td><td>3 ROOM</td><td>602</td><td>ANG MO KIO AVE 5</td><td>01 TO 03</td><td>67.0</td><td>New Generation</td><td>1980</td><td>749</td><td>262000.0</td></tr>\n",
       "<tr><td>2017</td><td>1</td><td>ANG MO KIO</td><td>3 ROOM</td><td>465</td><td>ANG MO KIO AVE 10</td><td>04 TO 06</td><td>68.0</td><td>New Generation</td><td>1980</td><td>745</td><td>265000.0</td></tr>\n",
       "<tr><td>2017</td><td>1</td><td>ANG MO KIO</td><td>3 ROOM</td><td>601</td><td>ANG MO KIO AVE 5</td><td>01 TO 03</td><td>67.0</td><td>New Generation</td><td>1980</td><td>749</td><td>265000.0</td></tr>\n",
       "<tr><td>2017</td><td>1</td><td>ANG MO KIO</td><td>3 ROOM</td><td>150</td><td>ANG MO KIO AVE 5</td><td>01 TO 03</td><td>68.0</td><td>New Generation</td><td>1981</td><td>756</td><td>275000.0</td></tr>\n",
       "<tr><td>2017</td><td>1</td><td>ANG MO KIO</td><td>3 ROOM</td><td>447</td><td>ANG MO KIO AVE 10</td><td>04 TO 06</td><td>68.0</td><td>New Generation</td><td>1979</td><td>738</td><td>280000.0</td></tr>\n",
       "<tr><td>2017</td><td>1</td><td>ANG MO KIO</td><td>3 ROOM</td><td>218</td><td>ANG MO KIO AVE 1</td><td>04 TO 06</td><td>67.0</td><td>New Generation</td><td>1976</td><td>700</td><td>285000.0</td></tr>\n",
       "<tr><td>2017</td><td>1</td><td>ANG MO KIO</td><td>3 ROOM</td><td>447</td><td>ANG MO KIO AVE 10</td><td>04 TO 06</td><td>68.0</td><td>New Generation</td><td>1979</td><td>738</td><td>285000.0</td></tr>\n",
       "<tr><td>2017</td><td>1</td><td>ANG MO KIO</td><td>3 ROOM</td><td>571</td><td>ANG MO KIO AVE 3</td><td>01 TO 03</td><td>67.0</td><td>New Generation</td><td>1979</td><td>736</td><td>285000.0</td></tr>\n",
       "</table>\n",
       "only showing top 10 rows\n"
      ],
      "text/plain": [
       "+----+-----+----------+---------+-----+-----------------+------------+--------------+--------------+-------------------+---------------+------------+\n",
       "|year|month|      town|flat_type|block|      street_name|storey_range|floor_area_sqm|    flat_model|lease_commence_date|remaining_lease|resale_price|\n",
       "+----+-----+----------+---------+-----+-----------------+------------+--------------+--------------+-------------------+---------------+------------+\n",
       "|2017|    1|ANG MO KIO|   2 ROOM|  406|ANG MO KIO AVE 10|    10 TO 12|          44.0|      Improved|               1979|            736|    232000.0|\n",
       "|2017|    1|ANG MO KIO|   3 ROOM|  108| ANG MO KIO AVE 4|    01 TO 03|          67.0|New Generation|               1978|            727|    250000.0|\n",
       "|2017|    1|ANG MO KIO|   3 ROOM|  602| ANG MO KIO AVE 5|    01 TO 03|          67.0|New Generation|               1980|            749|    262000.0|\n",
       "|2017|    1|ANG MO KIO|   3 ROOM|  465|ANG MO KIO AVE 10|    04 TO 06|          68.0|New Generation|               1980|            745|    265000.0|\n",
       "|2017|    1|ANG MO KIO|   3 ROOM|  601| ANG MO KIO AVE 5|    01 TO 03|          67.0|New Generation|               1980|            749|    265000.0|\n",
       "|2017|    1|ANG MO KIO|   3 ROOM|  150| ANG MO KIO AVE 5|    01 TO 03|          68.0|New Generation|               1981|            756|    275000.0|\n",
       "|2017|    1|ANG MO KIO|   3 ROOM|  447|ANG MO KIO AVE 10|    04 TO 06|          68.0|New Generation|               1979|            738|    280000.0|\n",
       "|2017|    1|ANG MO KIO|   3 ROOM|  218| ANG MO KIO AVE 1|    04 TO 06|          67.0|New Generation|               1976|            700|    285000.0|\n",
       "|2017|    1|ANG MO KIO|   3 ROOM|  447|ANG MO KIO AVE 10|    04 TO 06|          68.0|New Generation|               1979|            738|    285000.0|\n",
       "|2017|    1|ANG MO KIO|   3 ROOM|  571| ANG MO KIO AVE 3|    01 TO 03|          67.0|New Generation|               1979|            736|    285000.0|\n",
       "+----+-----+----------+---------+-----+-----------------+------------+--------------+--------------+-------------------+---------------+------------+\n",
       "only showing top 10 rows"
      ]
     },
     "execution_count": 115,
     "metadata": {},
     "output_type": "execute_result"
    }
   ],
   "source": [
    "df_impute_median"
   ]
  },
  {
   "cell_type": "markdown",
   "metadata": {},
   "source": [
    "Thirdly, I could map out each null value to their specific average floor area, since the data rows with the null values have other rows which have a floor area that is hypothetically the same as the missing value. This method was carried out, but it was ultimately scrapped due to the mapping taking to much time, and being too complicated, not to mention tedious, for me to carry out. \n",
    "\n",
    "Lastly, I can fill the missing values with my own value of 84, which is the value of the floor area or a 4-room improved model flat, as mentioned above. Since the flat type, model, and built time frame is more or less the same, which is also mentioned and explained above, filling the missing values is also a viable solution to the missing values in the rows.\n"
   ]
  },
  {
   "cell_type": "code",
   "execution_count": 121,
   "metadata": {},
   "outputs": [
    {
     "data": {
      "text/html": [
       "<table border='1'>\n",
       "<tr><th>year</th><th>month</th><th>town</th><th>flat_type</th><th>block</th><th>street_name</th><th>storey_range</th><th>floor_area_sqm</th><th>flat_model</th><th>lease_commence_date</th><th>remaining_lease</th><th>resale_price</th></tr>\n",
       "<tr><td>2017</td><td>1</td><td>ANG MO KIO</td><td>2 ROOM</td><td>406</td><td>ANG MO KIO AVE 10</td><td>10 TO 12</td><td>44.0</td><td>Improved</td><td>1979</td><td>736</td><td>232000.0</td></tr>\n",
       "<tr><td>2017</td><td>1</td><td>ANG MO KIO</td><td>3 ROOM</td><td>108</td><td>ANG MO KIO AVE 4</td><td>01 TO 03</td><td>67.0</td><td>New Generation</td><td>1978</td><td>727</td><td>250000.0</td></tr>\n",
       "<tr><td>2017</td><td>1</td><td>ANG MO KIO</td><td>3 ROOM</td><td>602</td><td>ANG MO KIO AVE 5</td><td>01 TO 03</td><td>67.0</td><td>New Generation</td><td>1980</td><td>749</td><td>262000.0</td></tr>\n",
       "<tr><td>2017</td><td>1</td><td>ANG MO KIO</td><td>3 ROOM</td><td>465</td><td>ANG MO KIO AVE 10</td><td>04 TO 06</td><td>68.0</td><td>New Generation</td><td>1980</td><td>745</td><td>265000.0</td></tr>\n",
       "<tr><td>2017</td><td>1</td><td>ANG MO KIO</td><td>3 ROOM</td><td>601</td><td>ANG MO KIO AVE 5</td><td>01 TO 03</td><td>67.0</td><td>New Generation</td><td>1980</td><td>749</td><td>265000.0</td></tr>\n",
       "<tr><td>2017</td><td>1</td><td>ANG MO KIO</td><td>3 ROOM</td><td>150</td><td>ANG MO KIO AVE 5</td><td>01 TO 03</td><td>68.0</td><td>New Generation</td><td>1981</td><td>756</td><td>275000.0</td></tr>\n",
       "<tr><td>2017</td><td>1</td><td>ANG MO KIO</td><td>3 ROOM</td><td>447</td><td>ANG MO KIO AVE 10</td><td>04 TO 06</td><td>68.0</td><td>New Generation</td><td>1979</td><td>738</td><td>280000.0</td></tr>\n",
       "<tr><td>2017</td><td>1</td><td>ANG MO KIO</td><td>3 ROOM</td><td>218</td><td>ANG MO KIO AVE 1</td><td>04 TO 06</td><td>67.0</td><td>New Generation</td><td>1976</td><td>700</td><td>285000.0</td></tr>\n",
       "<tr><td>2017</td><td>1</td><td>ANG MO KIO</td><td>3 ROOM</td><td>447</td><td>ANG MO KIO AVE 10</td><td>04 TO 06</td><td>68.0</td><td>New Generation</td><td>1979</td><td>738</td><td>285000.0</td></tr>\n",
       "<tr><td>2017</td><td>1</td><td>ANG MO KIO</td><td>3 ROOM</td><td>571</td><td>ANG MO KIO AVE 3</td><td>01 TO 03</td><td>67.0</td><td>New Generation</td><td>1979</td><td>736</td><td>285000.0</td></tr>\n",
       "</table>\n",
       "only showing top 10 rows\n"
      ],
      "text/plain": [
       "+----+-----+----------+---------+-----+-----------------+------------+--------------+--------------+-------------------+---------------+------------+\n",
       "|year|month|      town|flat_type|block|      street_name|storey_range|floor_area_sqm|    flat_model|lease_commence_date|remaining_lease|resale_price|\n",
       "+----+-----+----------+---------+-----+-----------------+------------+--------------+--------------+-------------------+---------------+------------+\n",
       "|2017|    1|ANG MO KIO|   2 ROOM|  406|ANG MO KIO AVE 10|    10 TO 12|          44.0|      Improved|               1979|            736|    232000.0|\n",
       "|2017|    1|ANG MO KIO|   3 ROOM|  108| ANG MO KIO AVE 4|    01 TO 03|          67.0|New Generation|               1978|            727|    250000.0|\n",
       "|2017|    1|ANG MO KIO|   3 ROOM|  602| ANG MO KIO AVE 5|    01 TO 03|          67.0|New Generation|               1980|            749|    262000.0|\n",
       "|2017|    1|ANG MO KIO|   3 ROOM|  465|ANG MO KIO AVE 10|    04 TO 06|          68.0|New Generation|               1980|            745|    265000.0|\n",
       "|2017|    1|ANG MO KIO|   3 ROOM|  601| ANG MO KIO AVE 5|    01 TO 03|          67.0|New Generation|               1980|            749|    265000.0|\n",
       "|2017|    1|ANG MO KIO|   3 ROOM|  150| ANG MO KIO AVE 5|    01 TO 03|          68.0|New Generation|               1981|            756|    275000.0|\n",
       "|2017|    1|ANG MO KIO|   3 ROOM|  447|ANG MO KIO AVE 10|    04 TO 06|          68.0|New Generation|               1979|            738|    280000.0|\n",
       "|2017|    1|ANG MO KIO|   3 ROOM|  218| ANG MO KIO AVE 1|    04 TO 06|          67.0|New Generation|               1976|            700|    285000.0|\n",
       "|2017|    1|ANG MO KIO|   3 ROOM|  447|ANG MO KIO AVE 10|    04 TO 06|          68.0|New Generation|               1979|            738|    285000.0|\n",
       "|2017|    1|ANG MO KIO|   3 ROOM|  571| ANG MO KIO AVE 3|    01 TO 03|          67.0|New Generation|               1979|            736|    285000.0|\n",
       "+----+-----+----------+---------+-----+-----------------+------------+--------------+--------------+-------------------+---------------+------------+\n",
       "only showing top 10 rows"
      ]
     },
     "execution_count": 121,
     "metadata": {},
     "output_type": "execute_result"
    }
   ],
   "source": [
    "df_replaced_nulls"
   ]
  },
  {
   "cell_type": "markdown",
   "metadata": {},
   "source": [
    "As it can be seen above, I did 4 methods that will be used for comparison later"
   ]
  },
  {
   "cell_type": "markdown",
   "metadata": {},
   "source": [
    "## 6.3 Data Wrangling and Transformation <a id='6.3'></a>\n",
    "[Back to top](#top)"
   ]
  },
  {
   "cell_type": "markdown",
   "metadata": {},
   "source": [
    "Next, I used the pipeline to do one-hot encoding. I decided to one hot encode all columns except for resale price. The reason being that the resale price seems to be the only measure/continuous value in the dataset for my problem statement. The rest of the values, although being a numerical column, is more used as a label per se. Therefore, causing me to one hot encode all values except for my targeted value.\n",
    "\n",
    "I also made a new dataframe to include all one-hot encoded columns and resale price. I omitted the one hot encoded lease_commence_date columns I had decided that the remaining lease column is more useful since the remaining lease allows users to firstly, check the remaining time on their lease, and secondly, guage the rough age of the area as well.\n",
    "\n",
    "Also, when buying a flat, I feel that knowing the remaining lease is more important than the maturity of the estate, since a young estate can gain maturity but a mature estate is unable to gain more time on the lease. Therefore, causing me to keep the remaining_lease column and ommitting the lease_commence_date column which is the decision to the last paragraph in section 6.1.1 above.\n",
    "\n",
    "I did this for all of the dataframes which I had made from the missing value imputation above."
   ]
  },
  {
   "cell_type": "markdown",
   "metadata": {},
   "source": [
    "## 6.4 Machine Learning Modelling <a id='6.4'></a>\n",
    "[Back to top](#top)"
   ]
  },
  {
   "cell_type": "markdown",
   "metadata": {},
   "source": [
    "After encoding, I went on to do a train test split for all the one hot-encoded dataframes, with a 0.7-0.3 split and a seed of 42 to ensure that the results are reproducible.\n",
    "\n",
    "After the train test split, I used featureassembler to make the Xcols which will be used for the linear regression. during the making of the Xcols, the target value needs to be omitted, which in this case is resale price.\n",
    "\n",
    "Next, there was a final check of each column before the machine modelling. I had a train and test data frame for each missing value imputation method carried out above, which makes 8 dataframes in total, and 4 encoding methods to compare against."
   ]
  },
  {
   "cell_type": "markdown",
   "metadata": {},
   "source": [
    "This is an example of the 10 rows of the dropped null train and test dataset, and its row and column count."
   ]
  },
  {
   "cell_type": "code",
   "execution_count": 116,
   "metadata": {},
   "outputs": [
    {
     "data": {
      "text/html": [
       "<table border='1'>\n",
       "<tr><th>Xcols</th><th>resale_price</th></tr>\n",
       "<tr><td>(3769,[39,66,2612...</td><td>790000.0</td></tr>\n",
       "<tr><td>(3769,[39,66,2612...</td><td>810000.0</td></tr>\n",
       "<tr><td>(3769,[40,71,2822...</td><td>425000.0</td></tr>\n",
       "<tr><td>(3769,[41,59,2612...</td><td>910000.0</td></tr>\n",
       "<tr><td>(3769,[13,38,45,2...</td><td>280000.0</td></tr>\n",
       "<tr><td>(3769,[13,38,187,...</td><td>360000.0</td></tr>\n",
       "<tr><td>(3769,[13,38,370,...</td><td>295000.0</td></tr>\n",
       "<tr><td>(3769,[13,38,392,...</td><td>325000.0</td></tr>\n",
       "<tr><td>(3769,[13,38,392,...</td><td>320000.0</td></tr>\n",
       "<tr><td>(3769,[13,38,484,...</td><td>371000.0</td></tr>\n",
       "</table>\n",
       "only showing top 10 rows\n"
      ],
      "text/plain": [
       "DataFrame[Xcols: vector, resale_price: double]"
      ]
     },
     "execution_count": 116,
     "metadata": {},
     "output_type": "execute_result"
    }
   ],
   "source": [
    "dropped_train_vectored"
   ]
  },
  {
   "cell_type": "code",
   "execution_count": 117,
   "metadata": {},
   "outputs": [
    {
     "name": "stdout",
     "output_type": "stream",
     "text": [
      "dropped_train_vectored\n",
      "no. of rows: 45038 | no. of columns: 2\n"
     ]
    }
   ],
   "source": [
    "print('dropped_train_vectored')\n",
    "print('no. of rows:', dropped_train_vectored.count(), '|', 'no. of columns:', len(dropped_train_vectored.columns))"
   ]
  },
  {
   "cell_type": "code",
   "execution_count": 118,
   "metadata": {},
   "outputs": [
    {
     "data": {
      "text/html": [
       "<table border='1'>\n",
       "<tr><th>Xcols</th><th>resale_price</th></tr>\n",
       "<tr><td>(3769,[39,76,2612...</td><td>710000.0</td></tr>\n",
       "<tr><td>(3769,[13,38,78,2...</td><td>340000.0</td></tr>\n",
       "<tr><td>(3769,[13,38,238,...</td><td>368000.0</td></tr>\n",
       "<tr><td>(3769,[13,38,344,...</td><td>303000.0</td></tr>\n",
       "<tr><td>(3769,[13,38,392,...</td><td>327500.0</td></tr>\n",
       "<tr><td>(3769,[13,38,420,...</td><td>328000.0</td></tr>\n",
       "<tr><td>(3769,[13,38,434,...</td><td>350000.0</td></tr>\n",
       "<tr><td>(3769,[13,38,528,...</td><td>350000.0</td></tr>\n",
       "<tr><td>(3769,[13,38,562,...</td><td>315000.0</td></tr>\n",
       "<tr><td>(3769,[13,38,629,...</td><td>321000.0</td></tr>\n",
       "</table>\n",
       "only showing top 10 rows\n"
      ],
      "text/plain": [
       "DataFrame[Xcols: vector, resale_price: double]"
      ]
     },
     "execution_count": 118,
     "metadata": {},
     "output_type": "execute_result"
    }
   ],
   "source": [
    "dropped_test_vectored"
   ]
  },
  {
   "cell_type": "code",
   "execution_count": 119,
   "metadata": {},
   "outputs": [
    {
     "name": "stdout",
     "output_type": "stream",
     "text": [
      "dropped_test_vectored\n",
      "no. of rows: 19159 | no. of columns: 2\n"
     ]
    }
   ],
   "source": [
    "print('dropped_test_vectored')\n",
    "print('no. of rows:', dropped_test_vectored.count(), '|', 'no. of columns:', len(dropped_test_vectored.columns))"
   ]
  },
  {
   "cell_type": "markdown",
   "metadata": {},
   "source": [
    "Then, each dataframe's train model was fitted to their own regressor each. The loading of the regressors did take some time. But afterwards, predictions and results came out and are evaluated below."
   ]
  },
  {
   "cell_type": "markdown",
   "metadata": {},
   "source": [
    "## 6.5 Model Evaluation and Selection <a id='6.5'></a>\n",
    "[Back to top](#top)"
   ]
  },
  {
   "cell_type": "markdown",
   "metadata": {},
   "source": [
    "The results are as follows"
   ]
  },
  {
   "cell_type": "markdown",
   "metadata": {},
   "source": [
    "# Dropped nulls results\n",
    "\n",
    "Train\n",
    "--\n",
    "\n",
    "MAE: 24443.868923989827\n",
    "\n",
    "MSE: 1094676509.0256722\n",
    "\n",
    "r2: 0.953338975689754\n",
    "\n",
    "Test\n",
    "--\n",
    "\n",
    "MAE: 26884.35991529819\n",
    "\n",
    "MSE: 1336460250.3150105\n",
    "\n",
    "r2: 0.944544169027746"
   ]
  },
  {
   "cell_type": "markdown",
   "metadata": {},
   "source": [
    "# Imputed (mean) results\n",
    "\n",
    "Train\n",
    "--\n",
    "MAE: 24494.99611714089\n",
    "\n",
    "MSE: 1097595347.2071295\n",
    "\n",
    "r2: 0.9535314343879944\n",
    "\n",
    "Test\n",
    "--\n",
    "MAE: 26822.58746237245\n",
    "\n",
    "MSE: 1324861743.2540681\n",
    "\n",
    "r2: 0.9440826203737729"
   ]
  },
  {
   "cell_type": "markdown",
   "metadata": {},
   "source": [
    "# Imputed (median) results\n",
    "\n",
    "Train\n",
    "--\n",
    "\n",
    "MAE: 24497.616128862694\n",
    "\n",
    "MSE: 1097827722.3381748\n",
    "\n",
    "r2: 0.9535215963916407\n",
    "\n",
    "Test\n",
    "--\n",
    "\n",
    "MAE: 26825.423101718432\n",
    "\n",
    "MSE: 1325431991.6871912\n",
    "\n",
    "r2: 0.9440585523543901\n"
   ]
  },
  {
   "cell_type": "markdown",
   "metadata": {},
   "source": [
    "# Imputed (85) results\n",
    "\n",
    "Train\n",
    "------\n",
    "\n",
    "MAE: 24496.095464247366\n",
    "\n",
    "MSE: 1097693223.9522278\n",
    "\n",
    "r2: 0.9535272906095399\n",
    "\n",
    "Test\n",
    "---\n",
    "\n",
    "MAE: 26823.656378744265\n",
    "\n",
    "MSE: 1324765537.1393485\n",
    "\n",
    "r2: 0.9440866808682861"
   ]
  },
  {
   "cell_type": "markdown",
   "metadata": {},
   "source": [
    "Here is a picture of the results in a table, with the additional row of the difference of the mae, mse, and r2 results between the train and test results for each table.\n",
    "\n",
    "Null, is for the dataframe which I had dropped all null value rows\n",
    "\n",
    "Mean, is for the dataframe where I imputed all null values with the mean of the column using an imputer\n",
    "\n",
    "Median, is for the dataframe where I imputed all null values with the median of the column using an imputer\n",
    "\n",
    "Replace, is for the dataframe where I imputed all null values with 84, the reason why 84 was chosen was mentioned earlier"
   ]
  },
  {
   "attachments": {
    "mae,%20mse,%20r2%20comparison.png": {
     "image/png": "[encoded data removed]"
    }
   },
   "cell_type": "markdown",
   "metadata": {},
   "source": [
    "![mae,%20mse,%20r2%20comparison.png](attachment:mae,%20mse,%20r2%20comparison.png)"
   ]
  },
  {
   "cell_type": "markdown",
   "metadata": {},
   "source": [
    "It can be seen that the results are very close.\n",
    "\n",
    "However, for the train MAE and MSE, null performs the best with it being the only one with a MAE in the 24440 range and MSE in the 1094 million range when the others have the MAE and MSE in the 24490 and 1097 million ranges respectively. This is a difference of roughly 50 and 3 million, for MAE and MSE respectively, and a percentage difference of 0.2% for both\n",
    "\n",
    "Null performs worse in the train r2 however, as it is the only one with a r2 that is about 0.95333, when the others have an r2 at around 0.95353, this is roughly a difference of 0.00020 and a percentage difference of 0.02%\n",
    "\n",
    "For the test mae and mse, null performs the worst, with a MAE and MSE at around 26880 and 1336 million respectively, while the other have a mae at roughly 26820 and mse at around 1324.7-1325.4 million. This is a difference of about 60 and 10.95 million, and percentage difference of 0.22% and 0.8%, for MAE and MSE respectively\n",
    "\n",
    "Null performs the best at r2, however, with the only one having a r2 at about 0.94454, while the rest have a r2 at about 0.94405-0.94408. This is a difference of roughly 0.00047 and a percentage difference of 0.04%\n",
    "\n",
    "The percentage difference where null's performance is the best is lower than when its performance is the worst. Also, the difference between Train and Test for MAE and MSE for Null is the largest by a big margin among the 4. While the difference for r2 for null is the least, it is only for a small margin, whch does not make up for the mae and mse difference. Therefore, it could be said that null performs the worst.\n",
    "\n",
    "median also performs poorly as it performs the worst out the group for train results and second worst, only to null, for the test results. the difference between train and test results is also the largest for the entire group, if null is not included.\n",
    "\n",
    "When comparing mean and replace, mean performs better in the Train MAE, Train MSE, Train R2, and Test MAE. For Test MSE and Test R2, replace performs better and the difference between the Train and Test results for MAE, MSE, and r2 are all lower for replace than mean.\n",
    "\n",
    "At the instances where mean performs better, for both MAE, it is by a difference of 1.1 and 1.07 for train and test respectively, and 97k for Train MSE and 0.0000042 for Train R2\n",
    "\n",
    "When replace performs better, for Test MSE, it is a difference of 96k and 0.0000040 for Test R2, both of which is lower than the difference in performance Train MAE and Train R2.\n",
    "\n",
    "Therefore, although, the difference between the Train and Test results for MAE, MSE, and r2 are all lower for replace than mean, I would still choose mean as the best performing model."
   ]
  },
  {
   "cell_type": "markdown",
   "metadata": {},
   "source": [
    "## 6.6 Futher Scaling and final evaluation <a id='6.6'></a>\n",
    "[Back to top](#top)"
   ]
  },
  {
   "cell_type": "markdown",
   "metadata": {},
   "source": [
    "After evaluation, I went ahead and scaled the mean results to see if scaling would give better results.\n",
    "\n",
    "Using Standard scaler, I made a scaler which was then used on the original mean_imputed train and test data to make new scaled versions of them. After fitting the regressor, which did take a while, I was given the results. Besides scaling the previous results, I did not do anything else."
   ]
  },
  {
   "cell_type": "markdown",
   "metadata": {},
   "source": [
    "Here are the results"
   ]
  },
  {
   "attachments": {
    "mean,%20mean%20scaled%20compare.png": {
     "image/png": "[encoded data removed]"
    }
   },
   "cell_type": "markdown",
   "metadata": {},
   "source": [
    "![mean,%20mean%20scaled%20compare.png](attachment:mean,%20mean%20scaled%20compare.png)"
   ]
  },
  {
   "cell_type": "markdown",
   "metadata": {},
   "source": [
    "It can be seen that overall and for each MAE, MSE and r2, scaling made the model just a little bit worse.\n",
    "\n",
    "Therefore, it can be concluded that the best performing model is the one with the missing values imputed as the mean of the column, and it should not be scaled as a scaled model is proven to make the model worse, not improve it."
   ]
  },
  {
   "cell_type": "markdown",
   "metadata": {},
   "source": [
    "## 6.7 Summary and Further Improvements <a id='6.7'></a>\n",
    "[Back to top](#top)"
   ]
  },
  {
   "cell_type": "markdown",
   "metadata": {},
   "source": [
    "To summarise, it seems that the removal of null values completely does not really benefit the model's performance. Although it did seem that way, somewhat, at first, it actually makes it a bit worse. Maybe because the lesser the amount of data, the more bias it can be?\n",
    "\n",
    "Also, when imputing the median, it did return the max value instead wo that is one thing to take note of. Maybe it is because that really is the median. If that is the case, then using median for this dataset is not ideal as the median and actual value is probably quite far apart. Maybe that is why the median did quite badly during evaluation.\n",
    "\n",
    "The replace value and median value are quite similar to each other, actually, that should be why the results are very similar to each other. But it does seem that imputing the mean still did the best.\n",
    "\n",
    "Also, Scaling causes the model to perform just a little worse, However, even though it is by a miniscule amount, the model still does not perform better. Therefore, it is better to not scale it.\n",
    "\n",
    "As for further improvements, I would think that value mapping, if it can be done, might make the model abit more accurate. Also, I would like to change the remaining lease to be calculated in years instead of months and the resale amount to be counted in thousands. Maybe that would make the results of the model nicer or slightly more accurate. "
   ]
  },
  {
   "cell_type": "markdown",
   "metadata": {},
   "source": [
    "# 7. \"Unlisted\" Youtube Link to Video Presentation <a id='7'></a>\n",
    "[Back to top](#top)"
   ]
  },
  {
   "cell_type": "code",
   "execution_count": 120,
   "metadata": {},
   "outputs": [],
   "source": [
    "# insert your link in this cell, you are allowed to comment it out\n",
    "# youtube link: https://youtu.be/eNrhR7Q9Q0o"
   ]
  }
 ],
 "metadata": {
  "kernelspec": {
   "display_name": "Python 3 (ipykernel)",
   "language": "python",
   "name": "python3"
  },
  "language_info": {
   "codemirror_mode": {
    "name": "ipython",
    "version": 3
   },
   "file_extension": ".py",
   "mimetype": "text/x-python",
   "name": "python",
   "nbconvert_exporter": "python",
   "pygments_lexer": "ipython3",
   "version": "3.9.7"
  }
 },
 "nbformat": 4,
 "nbformat_minor": 4
}
